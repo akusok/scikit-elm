{
 "cells": [
  {
   "cell_type": "code",
   "execution_count": 1,
   "metadata": {},
   "outputs": [
    {
     "data": {
      "text/html": [
       "<div>\n",
       "<style scoped>\n",
       "    .dataframe tbody tr th:only-of-type {\n",
       "        vertical-align: middle;\n",
       "    }\n",
       "\n",
       "    .dataframe tbody tr th {\n",
       "        vertical-align: top;\n",
       "    }\n",
       "\n",
       "    .dataframe thead th {\n",
       "        text-align: right;\n",
       "    }\n",
       "</style>\n",
       "<table border=\"1\" class=\"dataframe\">\n",
       "  <thead>\n",
       "    <tr style=\"text-align: right;\">\n",
       "      <th></th>\n",
       "      <th>0</th>\n",
       "      <th>1</th>\n",
       "      <th>2</th>\n",
       "      <th>3</th>\n",
       "      <th>4</th>\n",
       "      <th>5</th>\n",
       "      <th>6</th>\n",
       "      <th>7</th>\n",
       "      <th>8</th>\n",
       "      <th>9</th>\n",
       "      <th>...</th>\n",
       "      <th>55</th>\n",
       "      <th>56</th>\n",
       "      <th>57</th>\n",
       "      <th>58</th>\n",
       "      <th>59</th>\n",
       "      <th>60</th>\n",
       "      <th>61</th>\n",
       "      <th>62</th>\n",
       "      <th>63</th>\n",
       "      <th>target</th>\n",
       "    </tr>\n",
       "  </thead>\n",
       "  <tbody>\n",
       "    <tr>\n",
       "      <th>0</th>\n",
       "      <td>0.0</td>\n",
       "      <td>0.0</td>\n",
       "      <td>5.0</td>\n",
       "      <td>13.0</td>\n",
       "      <td>9.0</td>\n",
       "      <td>1.0</td>\n",
       "      <td>0.0</td>\n",
       "      <td>0.0</td>\n",
       "      <td>0.0</td>\n",
       "      <td>0.0</td>\n",
       "      <td>...</td>\n",
       "      <td>0.0</td>\n",
       "      <td>0.0</td>\n",
       "      <td>0.0</td>\n",
       "      <td>6.0</td>\n",
       "      <td>13.0</td>\n",
       "      <td>10.0</td>\n",
       "      <td>0.0</td>\n",
       "      <td>0.0</td>\n",
       "      <td>0.0</td>\n",
       "      <td>0</td>\n",
       "    </tr>\n",
       "    <tr>\n",
       "      <th>1</th>\n",
       "      <td>0.0</td>\n",
       "      <td>0.0</td>\n",
       "      <td>0.0</td>\n",
       "      <td>12.0</td>\n",
       "      <td>13.0</td>\n",
       "      <td>5.0</td>\n",
       "      <td>0.0</td>\n",
       "      <td>0.0</td>\n",
       "      <td>0.0</td>\n",
       "      <td>0.0</td>\n",
       "      <td>...</td>\n",
       "      <td>0.0</td>\n",
       "      <td>0.0</td>\n",
       "      <td>0.0</td>\n",
       "      <td>0.0</td>\n",
       "      <td>11.0</td>\n",
       "      <td>16.0</td>\n",
       "      <td>10.0</td>\n",
       "      <td>0.0</td>\n",
       "      <td>0.0</td>\n",
       "      <td>1</td>\n",
       "    </tr>\n",
       "    <tr>\n",
       "      <th>2</th>\n",
       "      <td>0.0</td>\n",
       "      <td>0.0</td>\n",
       "      <td>0.0</td>\n",
       "      <td>4.0</td>\n",
       "      <td>15.0</td>\n",
       "      <td>12.0</td>\n",
       "      <td>0.0</td>\n",
       "      <td>0.0</td>\n",
       "      <td>0.0</td>\n",
       "      <td>0.0</td>\n",
       "      <td>...</td>\n",
       "      <td>0.0</td>\n",
       "      <td>0.0</td>\n",
       "      <td>0.0</td>\n",
       "      <td>0.0</td>\n",
       "      <td>3.0</td>\n",
       "      <td>11.0</td>\n",
       "      <td>16.0</td>\n",
       "      <td>9.0</td>\n",
       "      <td>0.0</td>\n",
       "      <td>2</td>\n",
       "    </tr>\n",
       "  </tbody>\n",
       "</table>\n",
       "<p>3 rows × 65 columns</p>\n",
       "</div>"
      ],
      "text/plain": [
       "     0    1    2     3     4     5    6    7    8    9  ...   55   56   57  \\\n",
       "0  0.0  0.0  5.0  13.0   9.0   1.0  0.0  0.0  0.0  0.0  ...  0.0  0.0  0.0   \n",
       "1  0.0  0.0  0.0  12.0  13.0   5.0  0.0  0.0  0.0  0.0  ...  0.0  0.0  0.0   \n",
       "2  0.0  0.0  0.0   4.0  15.0  12.0  0.0  0.0  0.0  0.0  ...  0.0  0.0  0.0   \n",
       "\n",
       "    58    59    60    61   62   63  target  \n",
       "0  6.0  13.0  10.0   0.0  0.0  0.0       0  \n",
       "1  0.0  11.0  16.0  10.0  0.0  0.0       1  \n",
       "2  0.0   3.0  11.0  16.0  9.0  0.0       2  \n",
       "\n",
       "[3 rows x 65 columns]"
      ]
     },
     "execution_count": 1,
     "metadata": {},
     "output_type": "execute_result"
    }
   ],
   "source": [
    "from sklearn import datasets\n",
    "import pandas as pd\n",
    "import numpy as np\n",
    "\n",
    "# Load the digits dataset\n",
    "digits_data = datasets.load_digits()\n",
    "\n",
    "# Convert it to a pandas DataFrame\n",
    "digits_df = pd.DataFrame(data=digits_data.data)\n",
    "digits_df['target'] = pd.Series(digits_data.target)\n",
    "\n",
    "digits_df.head(3)"
   ]
  },
  {
   "cell_type": "code",
   "execution_count": 90,
   "metadata": {},
   "outputs": [],
   "source": [
    "from sklearn import datasets\n",
    "from sklearn.model_selection import train_test_split\n",
    "from sklearn.preprocessing import StandardScaler\n",
    "import pandas as pd\n",
    "\n",
    "# Load the digits dataset\n",
    "digits_data = datasets.load_digits()\n",
    "\n",
    "# Convert it to a pandas DataFrame\n",
    "digits_df = pd.DataFrame(data=digits_data.data)\n",
    "digits_df['target'] = pd.Series(digits_data.target)\n",
    "\n",
    "# Create the features and target DataFrames\n",
    "X = digits_df.drop(columns=['target'])\n",
    "y = digits_df['target']\n",
    "\n",
    "# Create the scaler\n",
    "scaler = StandardScaler()\n",
    "\n",
    "# Fit the scaler to the training data and transform both the training and test data\n",
    "X_train, X_test, y_train, y_test = train_test_split(X, y, test_size=0.5, random_state=42)\n",
    "X_train = scaler.fit_transform(X_train)\n",
    "X_test = scaler.transform(X_test)"
   ]
  },
  {
   "cell_type": "code",
   "execution_count": 91,
   "metadata": {},
   "outputs": [],
   "source": [
    "from sklearn.linear_model import LogisticRegression, SGDClassifier\n",
    "from sklearn.tree import DecisionTreeClassifier\n",
    "from sklearn.ensemble import RandomForestClassifier\n",
    "from sklearn.svm import SVC\n",
    "from sklearn.neighbors import KNeighborsClassifier\n",
    "from sklearn.metrics import accuracy_score"
   ]
  },
  {
   "cell_type": "code",
   "execution_count": 95,
   "metadata": {},
   "outputs": [
    {
     "name": "stdout",
     "output_type": "stream",
     "text": [
      "Linear Regression: 93.33%\n",
      "Logistic Regression: 95.66%\n",
      "Decision Tree: 83.98%\n",
      "Random Forest: 95.33%\n",
      "Support Vector Machine: 96.89%\n",
      "K-Nearest Neighbors: 96.11%\n"
     ]
    }
   ],
   "source": [
    "# Define the models\n",
    "models = [\n",
    "    (\"Linear Regression\", SGDClassifier()),\n",
    "    (\"Logistic Regression\", LogisticRegression(max_iter=1000)),\n",
    "    (\"Decision Tree\", DecisionTreeClassifier(random_state=42)),\n",
    "    (\"Random Forest\", RandomForestClassifier(random_state=42, n_estimators=30)),\n",
    "    (\"Support Vector Machine\", SVC()),\n",
    "    (\"K-Nearest Neighbors\", KNeighborsClassifier())\n",
    "]\n",
    "\n",
    "# Train each model and calculate its accuracy\n",
    "for name, model in models:\n",
    "    model.fit(X_train, y_train)\n",
    "    predictions = model.predict(X_test)\n",
    "    accuracy = accuracy_score(y_test, predictions)\n",
    "    print(f\"{name}: {100*accuracy:.02f}%\")"
   ]
  },
  {
   "cell_type": "code",
   "execution_count": 96,
   "metadata": {},
   "outputs": [
    {
     "name": "stdout",
     "output_type": "stream",
     "text": [
      "Linear Regression: 93.66%\n",
      "Logistic Regression: 95.66%\n",
      "Decision Tree: 83.98%\n",
      "Random Forest: 96.11%\n",
      "Support Vector Machine: 96.89%\n",
      "K-Nearest Neighbors: 96.11%\n"
     ]
    }
   ],
   "source": [
    "# Define the models\n",
    "models = [\n",
    "    (\"Linear Regression\", SGDClassifier()),\n",
    "    (\"Logistic Regression\", LogisticRegression(max_iter=1000)),\n",
    "    (\"Decision Tree\", DecisionTreeClassifier(random_state=42)),\n",
    "    (\"Random Forest\", RandomForestClassifier(random_state=42, n_estimators=500)),\n",
    "    (\"Support Vector Machine\", SVC()),\n",
    "    (\"K-Nearest Neighbors\", KNeighborsClassifier())\n",
    "]\n",
    "\n",
    "# Train each model and calculate its accuracy\n",
    "for name, model in models:\n",
    "    model.fit(X_train, y_train)\n",
    "    predictions = model.predict(X_test)\n",
    "    accuracy = accuracy_score(y_test, predictions)\n",
    "    print(f\"{name}: {100*accuracy:.02f}%\")"
   ]
  },
  {
   "cell_type": "markdown",
   "metadata": {},
   "source": [
    "## Make an ELM"
   ]
  },
  {
   "cell_type": "code",
   "execution_count": 97,
   "metadata": {},
   "outputs": [],
   "source": [
    "from sklearn.random_projection import GaussianRandomProjection\n",
    "from sklearn.linear_model import LinearRegression\n",
    "from sklearn.pipeline import make_pipeline\n",
    "from sklearn.base import BaseEstimator, TransformerMixin"
   ]
  },
  {
   "cell_type": "code",
   "execution_count": 98,
   "metadata": {},
   "outputs": [],
   "source": [
    "class TanhTranformer(BaseEstimator, TransformerMixin):\n",
    "    \n",
    "    def fit(self, X, y=None):\n",
    "        return self\n",
    "    \n",
    "    def transform(self, X, y=None):\n",
    "        # similar to sigmoid function\n",
    "        return np.tanh(X)  "
   ]
  },
  {
   "cell_type": "code",
   "execution_count": 99,
   "metadata": {},
   "outputs": [
    {
     "name": "stdout",
     "output_type": "stream",
     "text": [
      "Extreme Learning Machine: 68.08%\n",
      "Linear Regression: 94.44%\n",
      "Logistic Regression: 95.66%\n",
      "Decision Tree: 83.98%\n",
      "Random Forest: 96.11%\n",
      "Support Vector Machine: 96.89%\n",
      "K-Nearest Neighbors: 96.11%\n"
     ]
    }
   ],
   "source": [
    "k = 20\n",
    "\n",
    "ELM = make_pipeline(\n",
    "    GaussianRandomProjection(n_components=k),\n",
    "    TanhTranformer(),\n",
    "    SGDClassifier(fit_intercept=True, alpha=1e-5)\n",
    ")\n",
    "\n",
    "# Define the models\n",
    "models = [\n",
    "    (\"Extreme Learning Machine\", ELM),\n",
    "    (\"Linear Regression\", SGDClassifier()),\n",
    "    (\"Logistic Regression\", LogisticRegression(max_iter=1000)),\n",
    "    (\"Decision Tree\", DecisionTreeClassifier(random_state=42)),\n",
    "    (\"Random Forest\", RandomForestClassifier(random_state=42, n_estimators=500)),\n",
    "    (\"Support Vector Machine\", SVC()),\n",
    "    (\"K-Nearest Neighbors\", KNeighborsClassifier())\n",
    "]\n",
    "\n",
    "# Train each model and calculate its accuracy\n",
    "for name, model in models:\n",
    "    model.fit(X_train, y_train)\n",
    "    predictions = model.predict(X_test)\n",
    "    accuracy = accuracy_score(y_test, predictions)\n",
    "    print(f\"{name}: {100*accuracy:.02f}%\")"
   ]
  },
  {
   "cell_type": "code",
   "execution_count": 103,
   "metadata": {},
   "outputs": [
    {
     "name": "stderr",
     "output_type": "stream",
     "text": [
      "/Users/akusok/.pyenv/versions/3.11.6/envs/jupyter/lib/python3.11/site-packages/sklearn/random_projection.py:408: DataDimensionalityWarning: The number of components is higher than the number of features: n_features < n_components (64 < 300).The dimensionality of the problem will not be reduced.\n",
      "  warnings.warn(\n"
     ]
    },
    {
     "name": "stdout",
     "output_type": "stream",
     "text": [
      "Extreme Learning Machine: 94.77%\n",
      "Linear Regression: 93.77%\n",
      "Logistic Regression: 95.66%\n",
      "Decision Tree: 83.98%\n",
      "Random Forest: 96.11%\n",
      "Support Vector Machine: 96.89%\n",
      "K-Nearest Neighbors: 96.11%\n"
     ]
    }
   ],
   "source": [
    "k = 300\n",
    "\n",
    "ELM = make_pipeline(\n",
    "    GaussianRandomProjection(n_components=k),\n",
    "    TanhTranformer(),\n",
    "    SGDClassifier(fit_intercept=True, alpha=1e-6)\n",
    ")\n",
    "\n",
    "# Define the models\n",
    "models = [\n",
    "    (\"Extreme Learning Machine\", ELM),\n",
    "    (\"Linear Regression\", SGDClassifier()),\n",
    "    (\"Logistic Regression\", LogisticRegression(max_iter=1000)),\n",
    "    (\"Decision Tree\", DecisionTreeClassifier(random_state=42)),\n",
    "    (\"Random Forest\", RandomForestClassifier(random_state=42, n_estimators=500)),\n",
    "    (\"Support Vector Machine\", SVC()),\n",
    "    (\"K-Nearest Neighbors\", KNeighborsClassifier())\n",
    "]\n",
    "\n",
    "# Train each model and calculate its accuracy\n",
    "for name, model in models:\n",
    "    model.fit(X_train, y_train)\n",
    "    predictions = model.predict(X_test)\n",
    "    accuracy = accuracy_score(y_test, predictions)\n",
    "    print(f\"{name}: {100*accuracy:.02f}%\")"
   ]
  },
  {
   "cell_type": "code",
   "execution_count": 112,
   "metadata": {},
   "outputs": [
    {
     "name": "stderr",
     "output_type": "stream",
     "text": [
      "/Users/akusok/.pyenv/versions/3.11.6/envs/jupyter/lib/python3.11/site-packages/sklearn/random_projection.py:408: DataDimensionalityWarning: The number of components is higher than the number of features: n_features < n_components (64 < 1000).The dimensionality of the problem will not be reduced.\n",
      "  warnings.warn(\n"
     ]
    },
    {
     "name": "stdout",
     "output_type": "stream",
     "text": [
      "Extreme Learning Machine: 96.33%\n",
      "Linear Regression: 93.77%\n",
      "Logistic Regression: 95.66%\n",
      "Decision Tree: 83.98%\n",
      "Random Forest: 96.11%\n",
      "Support Vector Machine: 96.89%\n",
      "K-Nearest Neighbors: 96.11%\n"
     ]
    }
   ],
   "source": [
    "from skelm import ELMClassifier\n",
    "\n",
    "# Define the models\n",
    "models = [\n",
    "    (\"Extreme Learning Machine\", ELMClassifier(n_neurons=1000, alpha=1e-1)),\n",
    "    (\"Linear Regression\", SGDClassifier()),\n",
    "    (\"Logistic Regression\", LogisticRegression(max_iter=1000)),\n",
    "    (\"Decision Tree\", DecisionTreeClassifier(random_state=42)),\n",
    "    (\"Random Forest\", RandomForestClassifier(random_state=42, n_estimators=500)),\n",
    "    (\"Support Vector Machine\", SVC()),\n",
    "    (\"K-Nearest Neighbors\", KNeighborsClassifier())\n",
    "]\n",
    "\n",
    "# Train each model and calculate its accuracy\n",
    "for name, model in models:\n",
    "    model.fit(X_train, y_train)\n",
    "    predictions = model.predict(X_test)\n",
    "    accuracy = accuracy_score(y_test, predictions)\n",
    "    print(f\"{name}: {100*accuracy:.02f}%\")"
   ]
  },
  {
   "cell_type": "code",
   "execution_count": null,
   "metadata": {},
   "outputs": [],
   "source": []
  }
 ],
 "metadata": {
  "kernelspec": {
   "display_name": "jupyter",
   "language": "python",
   "name": "python3"
  },
  "language_info": {
   "codemirror_mode": {
    "name": "ipython",
    "version": 3
   },
   "file_extension": ".py",
   "mimetype": "text/x-python",
   "name": "python",
   "nbconvert_exporter": "python",
   "pygments_lexer": "ipython3",
   "version": "3.11.6"
  }
 },
 "nbformat": 4,
 "nbformat_minor": 2
}
