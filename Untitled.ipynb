{
 "cells": [
  {
   "cell_type": "code",
   "execution_count": 2,
   "id": "33fd7128-2568-4a70-860e-7fce3b447885",
   "metadata": {},
   "outputs": [],
   "source": [
    "import skelm"
   ]
  },
  {
   "cell_type": "code",
   "execution_count": null,
   "id": "f2c4c579-971a-4a81-983e-92d154221491",
   "metadata": {},
   "outputs": [],
   "source": []
  }
 ],
 "metadata": {
  "kernelspec": {
   "display_name": "Python 3",
   "language": "python",
   "name": "python3"
  },
  "language_info": {
   "codemirror_mode": {
    "name": "ipython",
    "version": 3
   },
   "file_extension": ".py",
   "mimetype": "text/x-python",
   "name": "python",
   "nbconvert_exporter": "python",
   "pygments_lexer": "ipython3",
   "version": "3.9.5"
  }
 },
 "nbformat": 4,
 "nbformat_minor": 5
}
