{
 "cells": [
  {
   "cell_type": "markdown",
   "id": "6abe1ca5",
   "metadata": {
    "slideshow": {
     "slide_type": "slide"
    }
   },
   "source": [
    "# Welcome!\n",
    "\n",
    "## to Extreme Learning Machine Workshop\n",
    "\n",
    "\n",
    "by: *Anton Akusok*"
   ]
  },
  {
   "cell_type": "markdown",
   "id": "5fa4d6eb",
   "metadata": {},
   "source": [
    "Let's go through a story of ELM in Python:  \n",
    "from basics to the cutting edge applications."
   ]
  },
  {
   "cell_type": "markdown",
   "id": "555cc417",
   "metadata": {
    "slideshow": {
     "slide_type": "subslide"
    }
   },
   "source": [
    "## The Juicy Bits:\n",
    "\n",
    "1. ELM tools and basics\n",
    "2. Classification\n",
    "3. Advanced Tuning\n",
    "\n",
    "~ Break\n",
    "\n",
    "5. High-Performance ELM\n",
    "6. Driving an ELM with manual gearbox\n",
    "\n",
    "~ Summary"
   ]
  },
  {
   "cell_type": "markdown",
   "id": "848d7350",
   "metadata": {
    "slideshow": {
     "slide_type": "slide"
    }
   },
   "source": [
    "# ELM Code Tools\n",
    "\n",
    "ELM relies on basic linear algebra. Easy to implement in Python.\n",
    "\n",
    "- Numpy\n",
    "- Scikit-Learn\n",
    "- Scikit-ELM (`skelm`)\n",
    "- High Performance ELM (`hpelm`)"
   ]
  },
  {
   "cell_type": "markdown",
   "id": "386bba5c",
   "metadata": {
    "slideshow": {
     "slide_type": "subslide"
    }
   },
   "source": [
    "Which tools do you use?\n",
    "- Matlab\n",
    "- Python + Numpy\n",
    "- Other language or math library\n",
    "- Scikit-Learn\n",
    "- hpelm\n",
    "- skelm\n",
    "- other ELM library"
   ]
  },
  {
   "cell_type": "code",
   "execution_count": 1,
   "id": "17eccbdf",
   "metadata": {
    "slideshow": {
     "slide_type": "subslide"
    }
   },
   "outputs": [
    {
     "data": {
      "text/plain": [
       "((442, 10), (442,))"
      ]
     },
     "execution_count": 1,
     "metadata": {},
     "output_type": "execute_result"
    }
   ],
   "source": [
    "# Example problem\n",
    "from sklearn.datasets import load_diabetes\n",
    "\n",
    "X, y = load_diabetes(return_X_y=True)\n",
    "n, d = X.shape  # number of data samples and features\n",
    "\n",
    "X.shape, y.shape"
   ]
  },
  {
   "cell_type": "code",
   "execution_count": 2,
   "id": "d8ac9599",
   "metadata": {},
   "outputs": [
    {
     "data": {
      "text/plain": [
       "array([[ 0.03807591,  0.05068012,  0.06169621,  0.02187239, -0.0442235 ,\n",
       "        -0.03482076, -0.04340085, -0.00259226,  0.01990749, -0.01764613],\n",
       "       [-0.00188202, -0.04464164, -0.05147406, -0.02632753, -0.00844872,\n",
       "        -0.01916334,  0.07441156, -0.03949338, -0.06833155, -0.09220405],\n",
       "       [ 0.08529891,  0.05068012,  0.04445121, -0.00567042, -0.04559945,\n",
       "        -0.03419447, -0.03235593, -0.00259226,  0.00286131, -0.02593034]])"
      ]
     },
     "execution_count": 2,
     "metadata": {},
     "output_type": "execute_result"
    }
   ],
   "source": [
    "X[:3]"
   ]
  },
  {
   "cell_type": "code",
   "execution_count": 3,
   "id": "84534570",
   "metadata": {},
   "outputs": [
    {
     "data": {
      "text/plain": [
       "array([151.,  75., 141.])"
      ]
     },
     "execution_count": 3,
     "metadata": {},
     "output_type": "execute_result"
    }
   ],
   "source": [
    "y[:3]"
   ]
  },
  {
   "cell_type": "markdown",
   "id": "425bf42a",
   "metadata": {
    "slideshow": {
     "slide_type": "slide"
    }
   },
   "source": [
    "### ELM implementation with different tools\n",
    "\n",
    "Let's make a basic ELM model in different ways in Python"
   ]
  },
  {
   "cell_type": "markdown",
   "id": "c8b4d558",
   "metadata": {
    "slideshow": {
     "slide_type": "subslide"
    }
   },
   "source": [
    "### Numpy\n",
    "\n",
    "`y = a*x` linear model  \n",
    "`y = B*h` in ELM notations"
   ]
  },
  {
   "cell_type": "code",
   "execution_count": 6,
   "id": "f8b3eb8e",
   "metadata": {},
   "outputs": [],
   "source": [
    "import numpy as np\n",
    "\n",
    "k = 10  # number of hidden neurons\n",
    "d = X.shape[1]  # number of data features\n",
    "W = np.random.randn(d, k)\n",
    "\n",
    "H = np.tanh(X@W)\n",
    "\n",
    "# B = np.linalg.pinv(H)@y  # don't use matrix inversion explicitly\n",
    "B = np.linalg.lstsq(H, y, rcond=None)[0]\n",
    "\n",
    "y_pred = np.tanh(X@W) @ B\n",
    "rmse = np.mean((y_pred - y)**2)**0.5"
   ]
  },
  {
   "cell_type": "code",
   "execution_count": 7,
   "id": "94c64545",
   "metadata": {},
   "outputs": [
    {
     "name": "stdout",
     "output_type": "stream",
     "text": [
      "RMSE: 161.36\n"
     ]
    }
   ],
   "source": [
    "print(\"RMSE: {:.2f}\".format(rmse))"
   ]
  },
  {
   "cell_type": "markdown",
   "id": "01796f7d",
   "metadata": {
    "slideshow": {
     "slide_type": "subslide"
    }
   },
   "source": [
    "### Numpy with bias\n",
    "\n",
    "`y = B*h + bias`  \n",
    "<==> `y = B*h + bias*1`  \n",
    "<==> `y = [B bias] * [h 1]`"
   ]
  },
  {
   "cell_type": "code",
   "execution_count": 8,
   "id": "a4d4054e",
   "metadata": {},
   "outputs": [],
   "source": [
    "H = np.tanh(X@W)\n",
    "H_bias = np.hstack([H, np.ones((n, 1))])\n",
    "B_bias = np.linalg.lstsq(H_bias, y, rcond=None)[0]\n",
    "\n",
    "B, bias = B_bias[:-1], B_bias[-1]\n",
    "\n",
    "y_pred = np.tanh(X@W) @ B + bias\n",
    "rmse = np.mean((y_pred - y)**2)**0.5"
   ]
  },
  {
   "cell_type": "code",
   "execution_count": 9,
   "id": "809dbe48",
   "metadata": {},
   "outputs": [
    {
     "name": "stdout",
     "output_type": "stream",
     "text": [
      "RMSE with bias: 53.55\n"
     ]
    }
   ],
   "source": [
    "print(\"RMSE with bias: {:.2f}\".format(rmse))"
   ]
  },
  {
   "cell_type": "markdown",
   "id": "ac07558f",
   "metadata": {
    "slideshow": {
     "slide_type": "subslide"
    }
   },
   "source": [
    "### Scikit-Learn"
   ]
  },
  {
   "cell_type": "code",
   "execution_count": 10,
   "id": "2cbaa1bb",
   "metadata": {},
   "outputs": [],
   "source": [
    "from sklearn.random_projection import GaussianRandomProjection\n",
    "from sklearn.linear_model import LinearRegression\n",
    "from sklearn.pipeline import make_pipeline\n",
    "from sklearn.base import BaseEstimator, TransformerMixin\n",
    "\n",
    "\n",
    "class TanhTranformer(BaseEstimator, TransformerMixin):\n",
    "    \n",
    "    def fit(self, X, y=None):\n",
    "        return self\n",
    "    \n",
    "    def transform(self, X, y=None):\n",
    "        return np.tanh(X)\n",
    "\n",
    "\n",
    "model = make_pipeline(\n",
    "    GaussianRandomProjection(n_components=k),\n",
    "    TanhTranformer(),\n",
    "    LinearRegression(fit_intercept=True)\n",
    ")"
   ]
  },
  {
   "cell_type": "code",
   "execution_count": 11,
   "id": "1ce01d94",
   "metadata": {
    "slideshow": {
     "slide_type": "subslide"
    }
   },
   "outputs": [],
   "source": [
    "y_pred = model.fit(X, y[:, None]).predict(X)\n",
    "rmse = np.mean((y_pred - y)**2)**0.5"
   ]
  },
  {
   "cell_type": "code",
   "execution_count": 12,
   "id": "c357b286",
   "metadata": {},
   "outputs": [
    {
     "name": "stdout",
     "output_type": "stream",
     "text": [
      "RMSE Scikit-Learn: 94.87\n"
     ]
    }
   ],
   "source": [
    "print(\"RMSE Scikit-Learn: {:.2f}\".format(rmse))"
   ]
  },
  {
   "cell_type": "markdown",
   "id": "ae63f521",
   "metadata": {
    "slideshow": {
     "slide_type": "subslide"
    }
   },
   "source": [
    "### Scikit-ELM"
   ]
  },
  {
   "cell_type": "code",
   "execution_count": 13,
   "id": "1873484d",
   "metadata": {},
   "outputs": [],
   "source": [
    "# !pip install scikit-elm"
   ]
  },
  {
   "cell_type": "code",
   "execution_count": 14,
   "id": "dc99a344",
   "metadata": {
    "scrolled": true
   },
   "outputs": [],
   "source": [
    "import skelm\n",
    "from skelm import ELMRegressor"
   ]
  },
  {
   "cell_type": "code",
   "execution_count": 15,
   "id": "3d9e2a47",
   "metadata": {},
   "outputs": [],
   "source": [
    "model = ELMRegressor(n_neurons=k, ufunc='tanh')\n",
    "\n",
    "y_pred = model.fit(X, y).predict(X)\n",
    "rmse = np.mean((y_pred - y)**2)**0.5"
   ]
  },
  {
   "cell_type": "code",
   "execution_count": 16,
   "id": "dcb5ab39",
   "metadata": {},
   "outputs": [
    {
     "name": "stdout",
     "output_type": "stream",
     "text": [
      "RMSE scikit-elm: 53.52\n"
     ]
    }
   ],
   "source": [
    "print(\"RMSE scikit-elm: {:.2f}\".format(rmse))"
   ]
  },
  {
   "cell_type": "markdown",
   "id": "82700892",
   "metadata": {
    "slideshow": {
     "slide_type": "subslide"
    }
   },
   "source": [
    "### HPELM"
   ]
  },
  {
   "cell_type": "markdown",
   "id": "374b1ff5-c145-4020-8dcc-394a25111de4",
   "metadata": {},
   "source": [
    "macOS packages\n",
    "\n",
    "`!brew install hdf5`  \n",
    "`!python -m pip install tables`"
   ]
  },
  {
   "cell_type": "markdown",
   "id": "1bb2f0da",
   "metadata": {},
   "source": [
    "basic, no GPU:\n",
    "\n",
    "`!pip install hpelm`\n",
    "\n",
    "with GPU support\n",
    "\n",
    "`!pip install numpy==1.21 scikit-cuda hpelm`"
   ]
  },
  {
   "cell_type": "code",
   "execution_count": 18,
   "id": "d5112a2d",
   "metadata": {},
   "outputs": [],
   "source": [
    "from hpelm import HPELM"
   ]
  },
  {
   "cell_type": "code",
   "execution_count": 19,
   "id": "c1a01e2f",
   "metadata": {},
   "outputs": [],
   "source": [
    "model = HPELM(inputs=d, outputs=1)\n",
    "model.add_neurons(k, 'tanh')\n",
    "\n",
    "model.train(X, y)\n",
    "y_pred = model.predict(X)\n",
    "rmse = np.mean((y_pred - y)**2)**0.5"
   ]
  },
  {
   "cell_type": "code",
   "execution_count": 20,
   "id": "a1b7c775",
   "metadata": {},
   "outputs": [
    {
     "name": "stdout",
     "output_type": "stream",
     "text": [
      "RMSE hpelm: 94.64\n"
     ]
    }
   ],
   "source": [
    "print(\"RMSE hpelm: {:.2f}\".format(rmse))"
   ]
  },
  {
   "cell_type": "markdown",
   "id": "cb7a86b0",
   "metadata": {
    "slideshow": {
     "slide_type": "slide"
    }
   },
   "source": [
    "# Math shared by all implementations\n",
    "\n",
    "\n",
    "All implementations have the fundamental bits:\n",
    "- input matrix `X` of size [num_samples, num_features]\n",
    "- output matrix `y` of size [num_samples, num_outputs]\n",
    "- projection matrix `W` of size [num_features, num_neurons]\n",
    "- non-linear tranformation function `ufunc` like hyperbolic tangent (`np.tanh`), sigmoid, or any other\n",
    "- output weights `B` of size [num_neurons, num_outputs]\n",
    "- optional output bias/intercept of size [num_outputs, ]"
   ]
  },
  {
   "cell_type": "markdown",
   "id": "371a9bfd",
   "metadata": {
    "slideshow": {
     "slide_type": "subslide"
    }
   },
   "source": [
    "ELM formula:\n",
    "- Projection step `H = ufunc(X @ W)` \n",
    "- Solution step `B = solve(H, y)`\n",
    "- Prediction step `y_pred = ufunc(X_pred @ W) @ B`\n",
    "\n",
    "Pair-wise ELM:\n",
    "- `H = ufunc(pairwise(X, W))`\n",
    "- `y_pred = ufunc(pairwise(X_pred, W)) @ B`"
   ]
  },
  {
   "cell_type": "markdown",
   "id": "dc7ecd40",
   "metadata": {
    "slideshow": {
     "slide_type": "slide"
    }
   },
   "source": [
    "# Improving the solution: Bias\n",
    "\n",
    "Mathematical formula `Y = A*X` is an affine tranformation, a mix of scaling, rotation, and shear. It preserves the \"center of mass\" of the points. It cannot solve translation `A*X =/= X+1`.\n",
    "\n",
    "In ELM problem, an average of `H` is around zero because of non-linear function. If an average of `y` is around zero too, an ELM works great.  \n",
    "But if an average of `y` is far from zero, ELM may struggle to find a solution.\n",
    "\n",
    "Bias term learn the translation, and solves the problem of different averages of `H` and `y`."
   ]
  },
  {
   "cell_type": "markdown",
   "id": "244d4e97",
   "metadata": {
    "slideshow": {
     "slide_type": "subslide"
    }
   },
   "source": [
    "# Improving the solution: L2-regularisation\n",
    "\n",
    "Models can overfit and underfit, depending on ratio between model complexity and data complexity. Both reduce predictive performance.\n",
    "\n",
    "ELM complexity is changed by the number of neurons. We can find an optimal number of neurons."
   ]
  },
  {
   "cell_type": "markdown",
   "id": "57078ccd",
   "metadata": {
    "slideshow": {
     "slide_type": "subslide"
    }
   },
   "source": [
    "Linear models have also numerical problems. Output weights `B` can have large magnitude numbers or small magnitude numbers.   \n",
    "Both produce same solution. They look like:  \n",
    "- `y = 3`  \n",
    "- `x = [1, 1, 1]`\n",
    "- `y = 1*x[0] - 1*x[1] + 3*x[2]`\n",
    "    - small magnitude `B`, correct answer  \n",
    "- `y = 1,000,000*x[0] - 1,000,000*x[1] + 3*x[2]` \n",
    "    - large magnitude `B`, correct answer\n",
    "\n",
    "Large magnitude of `B` values make ELM unstable: small changes in input features completely destroy predictions."
   ]
  },
  {
   "cell_type": "markdown",
   "id": "31807119",
   "metadata": {
    "slideshow": {
     "slide_type": "subslide"
    }
   },
   "source": [
    "L2-regularization term reduces the magnitude of `B` *AND* reduces model complexity.\n",
    "\n",
    "An alternative approach to ELM complexity balance:\n",
    "- Increase complexity by taking more neurons than needed\n",
    "- Decrease complexity *and* magnitude of `B` values by increasing L2-regularisation term\n",
    "\n",
    "Get an optimal complexity model, with good stability from small magnitude `B` values."
   ]
  },
  {
   "cell_type": "markdown",
   "id": "67040854",
   "metadata": {
    "slideshow": {
     "slide_type": "subslide"
    }
   },
   "source": [
    "#### How to implement L2-regularization?\n",
    "\n",
    "- Numpy approach:\n",
    "    - very simple code trick; on next slides\n",
    "\n",
    "- Scipy approach:\n",
    "    - replace `LinearRegression` with `Ridge` that is a linear regression with L2-parameter `alpha`\n",
    "\n",
    "- Scikit-ELM, HPELM:\n",
    "    - use `alpha` parameter"
   ]
  },
  {
   "cell_type": "code",
   "execution_count": 21,
   "id": "3b7e89d5",
   "metadata": {
    "slideshow": {
     "slide_type": "subslide"
    }
   },
   "outputs": [
    {
     "data": {
      "text/plain": [
       "array([ 526.59761989,  477.28310069, -242.64892377,   -1.56968609,\n",
       "        489.59712027,  544.41801764,  290.27645458,  331.61509075,\n",
       "        314.2878222 , -209.71355016])"
      ]
     },
     "execution_count": 21,
     "metadata": {},
     "output_type": "execute_result"
    }
   ],
   "source": [
    "# Numpy without L2-regularization\n",
    "\n",
    "B = np.linalg.pinv(H) @ y\n",
    "B"
   ]
  },
  {
   "cell_type": "code",
   "execution_count": 22,
   "id": "8d43c9b8",
   "metadata": {
    "slideshow": {
     "slide_type": "subslide"
    }
   },
   "outputs": [
    {
     "data": {
      "text/plain": [
       "array([ 0.99352311, -0.70085966, -1.82391558, -0.9158587 ,  0.78231255,\n",
       "       -0.79743229,  2.88960444, -1.11449725,  1.79333746,  1.40316471])"
      ]
     },
     "execution_count": 22,
     "metadata": {},
     "output_type": "execute_result"
    }
   ],
   "source": [
    "# Numpy with L2-regularization\n",
    "# HB = y  <==>  H'HB = H'y\n",
    "\n",
    "HH = H.T@H\n",
    "Hy = H.T@y[:, None]\n",
    "\n",
    "alpha = 1000\n",
    "HH_with_L2 = HH + alpha*np.eye(k)  # add `alpha` to diagonal of H'H\n",
    "\n",
    "B = np.linalg.pinv(HH_with_L2) @ Hy\n",
    "B.ravel()"
   ]
  },
  {
   "cell_type": "code",
   "execution_count": 23,
   "id": "beb98aa1",
   "metadata": {
    "slideshow": {
     "slide_type": "subslide"
    }
   },
   "outputs": [
    {
     "data": {
      "text/plain": [
       "array([ 0.99352311, -0.70085966, -1.82391558, -0.9158587 ,  0.78231255,\n",
       "       -0.79743229,  2.88960444, -1.11449725,  1.79333746,  1.40316471])"
      ]
     },
     "execution_count": 23,
     "metadata": {},
     "output_type": "execute_result"
    }
   ],
   "source": [
    "# in-place diagonal increase\n",
    "HH_L2 = HH.copy()\n",
    "HH_L2.ravel()[::k+1] += alpha\n",
    "\n",
    "B = np.linalg.pinv(HH_L2) @ Hy\n",
    "B.ravel()"
   ]
  },
  {
   "cell_type": "markdown",
   "id": "b179e727",
   "metadata": {
    "slideshow": {
     "slide_type": "slide"
    }
   },
   "source": [
    "# Classification\n",
    "\n",
    "Let's look at basics of ELM classification.\n",
    "\n",
    "We actually saw regression in the previous chapter."
   ]
  },
  {
   "cell_type": "code",
   "execution_count": 24,
   "id": "3dfcc567",
   "metadata": {
    "slideshow": {
     "slide_type": "subslide"
    }
   },
   "outputs": [
    {
     "data": {
      "text/plain": [
       "((150, 4), (150,))"
      ]
     },
     "execution_count": 24,
     "metadata": {},
     "output_type": "execute_result"
    }
   ],
   "source": [
    "# Very similar problem - what changed?\n",
    "from sklearn.datasets import load_iris\n",
    "\n",
    "X, y = load_iris(return_X_y=True)\n",
    "n, d = X.shape  # number of data samples and features\n",
    "\n",
    "X.shape, y.shape"
   ]
  },
  {
   "cell_type": "code",
   "execution_count": 25,
   "id": "a625ce50",
   "metadata": {},
   "outputs": [
    {
     "data": {
      "text/plain": [
       "array([[5.1, 3.5, 1.4, 0.2],\n",
       "       [4.9, 3. , 1.4, 0.2],\n",
       "       [4.7, 3.2, 1.3, 0.2]])"
      ]
     },
     "execution_count": 25,
     "metadata": {},
     "output_type": "execute_result"
    }
   ],
   "source": [
    "X[:3]"
   ]
  },
  {
   "cell_type": "code",
   "execution_count": 26,
   "id": "18d719da",
   "metadata": {},
   "outputs": [
    {
     "data": {
      "text/plain": [
       "array([0, 0, 0, 0, 0, 0, 0, 0, 0, 0, 0, 0, 0, 0, 0, 0, 0, 0, 0, 0, 0, 0,\n",
       "       0, 0, 0, 0, 0, 0, 0, 0, 0, 0, 0, 0, 0, 0, 0, 0, 0, 0, 0, 0, 0, 0,\n",
       "       0, 0, 0, 0, 0, 0, 1, 1, 1, 1, 1, 1, 1, 1, 1, 1, 1, 1, 1, 1, 1, 1,\n",
       "       1, 1, 1, 1, 1, 1, 1, 1, 1, 1, 1, 1, 1, 1, 1, 1, 1, 1, 1, 1, 1, 1,\n",
       "       1, 1, 1, 1, 1, 1, 1, 1, 1, 1, 1, 1, 2, 2, 2, 2, 2, 2, 2, 2, 2, 2,\n",
       "       2, 2, 2, 2, 2, 2, 2, 2, 2, 2, 2, 2, 2, 2, 2, 2, 2, 2, 2, 2, 2, 2,\n",
       "       2, 2, 2, 2, 2, 2, 2, 2, 2, 2, 2, 2, 2, 2, 2, 2, 2, 2])"
      ]
     },
     "execution_count": 26,
     "metadata": {},
     "output_type": "execute_result"
    }
   ],
   "source": [
    "y"
   ]
  },
  {
   "cell_type": "markdown",
   "id": "b5882e97",
   "metadata": {
    "slideshow": {
     "slide_type": "subslide"
    }
   },
   "source": [
    "#### Convert classes into multiple binary outputs"
   ]
  },
  {
   "cell_type": "code",
   "execution_count": 27,
   "id": "2ed36009",
   "metadata": {
    "scrolled": true
   },
   "outputs": [
    {
     "data": {
      "text/plain": [
       "array([[1, 0, 0],\n",
       "       [1, 0, 0],\n",
       "       [1, 0, 0],\n",
       "       [1, 0, 0],\n",
       "       [1, 0, 0],\n",
       "       [1, 0, 0],\n",
       "       [1, 0, 0],\n",
       "       [1, 0, 0],\n",
       "       [1, 0, 0],\n",
       "       [1, 0, 0],\n",
       "       [1, 0, 0],\n",
       "       [1, 0, 0],\n",
       "       [1, 0, 0],\n",
       "       [1, 0, 0],\n",
       "       [1, 0, 0],\n",
       "       [1, 0, 0],\n",
       "       [1, 0, 0],\n",
       "       [1, 0, 0],\n",
       "       [1, 0, 0],\n",
       "       [1, 0, 0],\n",
       "       [1, 0, 0],\n",
       "       [1, 0, 0],\n",
       "       [1, 0, 0],\n",
       "       [1, 0, 0],\n",
       "       [1, 0, 0],\n",
       "       [1, 0, 0],\n",
       "       [1, 0, 0],\n",
       "       [1, 0, 0],\n",
       "       [1, 0, 0],\n",
       "       [1, 0, 0],\n",
       "       [1, 0, 0],\n",
       "       [1, 0, 0],\n",
       "       [1, 0, 0],\n",
       "       [1, 0, 0],\n",
       "       [1, 0, 0],\n",
       "       [1, 0, 0],\n",
       "       [1, 0, 0],\n",
       "       [1, 0, 0],\n",
       "       [1, 0, 0],\n",
       "       [1, 0, 0],\n",
       "       [1, 0, 0],\n",
       "       [1, 0, 0],\n",
       "       [1, 0, 0],\n",
       "       [1, 0, 0],\n",
       "       [1, 0, 0],\n",
       "       [1, 0, 0],\n",
       "       [1, 0, 0],\n",
       "       [1, 0, 0],\n",
       "       [1, 0, 0],\n",
       "       [1, 0, 0],\n",
       "       [0, 1, 0],\n",
       "       [0, 1, 0],\n",
       "       [0, 1, 0],\n",
       "       [0, 1, 0],\n",
       "       [0, 1, 0],\n",
       "       [0, 1, 0],\n",
       "       [0, 1, 0],\n",
       "       [0, 1, 0],\n",
       "       [0, 1, 0],\n",
       "       [0, 1, 0],\n",
       "       [0, 1, 0],\n",
       "       [0, 1, 0],\n",
       "       [0, 1, 0],\n",
       "       [0, 1, 0],\n",
       "       [0, 1, 0],\n",
       "       [0, 1, 0],\n",
       "       [0, 1, 0],\n",
       "       [0, 1, 0],\n",
       "       [0, 1, 0],\n",
       "       [0, 1, 0],\n",
       "       [0, 1, 0],\n",
       "       [0, 1, 0],\n",
       "       [0, 1, 0],\n",
       "       [0, 1, 0],\n",
       "       [0, 1, 0],\n",
       "       [0, 1, 0],\n",
       "       [0, 1, 0],\n",
       "       [0, 1, 0],\n",
       "       [0, 1, 0],\n",
       "       [0, 1, 0],\n",
       "       [0, 1, 0],\n",
       "       [0, 1, 0],\n",
       "       [0, 1, 0],\n",
       "       [0, 1, 0],\n",
       "       [0, 1, 0],\n",
       "       [0, 1, 0],\n",
       "       [0, 1, 0],\n",
       "       [0, 1, 0],\n",
       "       [0, 1, 0],\n",
       "       [0, 1, 0],\n",
       "       [0, 1, 0],\n",
       "       [0, 1, 0],\n",
       "       [0, 1, 0],\n",
       "       [0, 1, 0],\n",
       "       [0, 1, 0],\n",
       "       [0, 1, 0],\n",
       "       [0, 1, 0],\n",
       "       [0, 1, 0],\n",
       "       [0, 1, 0],\n",
       "       [0, 1, 0],\n",
       "       [0, 0, 1],\n",
       "       [0, 0, 1],\n",
       "       [0, 0, 1],\n",
       "       [0, 0, 1],\n",
       "       [0, 0, 1],\n",
       "       [0, 0, 1],\n",
       "       [0, 0, 1],\n",
       "       [0, 0, 1],\n",
       "       [0, 0, 1],\n",
       "       [0, 0, 1],\n",
       "       [0, 0, 1],\n",
       "       [0, 0, 1],\n",
       "       [0, 0, 1],\n",
       "       [0, 0, 1],\n",
       "       [0, 0, 1],\n",
       "       [0, 0, 1],\n",
       "       [0, 0, 1],\n",
       "       [0, 0, 1],\n",
       "       [0, 0, 1],\n",
       "       [0, 0, 1],\n",
       "       [0, 0, 1],\n",
       "       [0, 0, 1],\n",
       "       [0, 0, 1],\n",
       "       [0, 0, 1],\n",
       "       [0, 0, 1],\n",
       "       [0, 0, 1],\n",
       "       [0, 0, 1],\n",
       "       [0, 0, 1],\n",
       "       [0, 0, 1],\n",
       "       [0, 0, 1],\n",
       "       [0, 0, 1],\n",
       "       [0, 0, 1],\n",
       "       [0, 0, 1],\n",
       "       [0, 0, 1],\n",
       "       [0, 0, 1],\n",
       "       [0, 0, 1],\n",
       "       [0, 0, 1],\n",
       "       [0, 0, 1],\n",
       "       [0, 0, 1],\n",
       "       [0, 0, 1],\n",
       "       [0, 0, 1],\n",
       "       [0, 0, 1],\n",
       "       [0, 0, 1],\n",
       "       [0, 0, 1],\n",
       "       [0, 0, 1],\n",
       "       [0, 0, 1],\n",
       "       [0, 0, 1],\n",
       "       [0, 0, 1],\n",
       "       [0, 0, 1],\n",
       "       [0, 0, 1]])"
      ]
     },
     "execution_count": 27,
     "metadata": {},
     "output_type": "execute_result"
    }
   ],
   "source": [
    "y_2d = y[:, None]\n",
    "Y = np.hstack([y_2d==i for i in range(3)]).astype(int)\n",
    "Y"
   ]
  },
  {
   "cell_type": "markdown",
   "id": "498844b2",
   "metadata": {
    "slideshow": {
     "slide_type": "slide"
    }
   },
   "source": [
    "### Multi-output ELM for classification\n",
    "\n",
    "Multi-output ELM is multiple ELMs with a shared hidden layer, each having an independent output solution."
   ]
  },
  {
   "cell_type": "code",
   "execution_count": 28,
   "id": "984c1ba0",
   "metadata": {},
   "outputs": [
    {
     "name": "stdout",
     "output_type": "stream",
     "text": [
      "Accuracy: 96.67%\n"
     ]
    }
   ],
   "source": [
    "k = 10  # number of hidden neurons\n",
    "d = X.shape[1]  # number of data features\n",
    "W = np.random.randn(d, k)\n",
    "\n",
    "H = np.tanh(X@W)\n",
    "H_bias = np.hstack([H, np.ones((n, 1))])\n",
    "B_bias = np.linalg.pinv(H_bias)@Y\n",
    "\n",
    "B, bias = B_bias[:-1], B_bias[-1]\n",
    "\n",
    "Y_raw = np.tanh(X@W) @ B + bias\n",
    "y_pred = Y_raw.argmax(axis=1)\n",
    "\n",
    "accuracy = np.mean(y_pred == y)\n",
    "print(\"Accuracy: {:.2f}%\".format(100 * accuracy))"
   ]
  },
  {
   "cell_type": "code",
   "execution_count": 29,
   "id": "c6d38396",
   "metadata": {
    "slideshow": {
     "slide_type": "subslide"
    }
   },
   "outputs": [
    {
     "name": "stdout",
     "output_type": "stream",
     "text": [
      "Accuracy: 96.67%\n"
     ]
    }
   ],
   "source": [
    "# Each output feature is an independent problem\n",
    "\n",
    "B2_bias_parts = [\n",
    "    np.linalg.pinv(H_bias)@Y[:, i:i+1] \n",
    "    for i in range(3)\n",
    "]\n",
    "B2_bias = np.hstack(B2_bias_parts)\n",
    "\n",
    "B, bias = B2_bias[:-1], B2_bias[-1]\n",
    "\n",
    "Y_raw = np.tanh(X@W) @ B + bias\n",
    "y_pred = Y_raw.argmax(1)\n",
    "\n",
    "accuracy = np.mean(y_pred == y)\n",
    "print(\"Accuracy: {:.2f}%\".format(100 * accuracy))"
   ]
  },
  {
   "cell_type": "code",
   "execution_count": 30,
   "id": "bff7c821",
   "metadata": {
    "slideshow": {
     "slide_type": "subslide"
    }
   },
   "outputs": [
    {
     "name": "stdout",
     "output_type": "stream",
     "text": [
      "Accuracy: 88.67%\n"
     ]
    }
   ],
   "source": [
    "from sklearn.linear_model import Ridge\n",
    "\n",
    "model = make_pipeline(\n",
    "    GaussianRandomProjection(n_components=k),\n",
    "    TanhTranformer(),\n",
    "    Ridge(fit_intercept=True, alpha=10)\n",
    ")\n",
    "\n",
    "Y_raw = model.fit(X, Y).predict(X)\n",
    "y_pred = Y_raw.argmax(1)\n",
    "\n",
    "accuracy = np.mean(y_pred == y)\n",
    "print(\"Accuracy: {:.2f}%\".format(100 * accuracy))"
   ]
  },
  {
   "cell_type": "markdown",
   "id": "5f68bfa4",
   "metadata": {
    "slideshow": {
     "slide_type": "slide"
    }
   },
   "source": [
    "### Train/test split\n",
    "\n",
    "So far we looked at training error - a measure of how well a model can extract information from known data.\n",
    "\n",
    "Prediction problems needs to know how well a model predicts information for new coming, previously unseen data. \n",
    "\n",
    "Test set helps approximating the prediction performance."
   ]
  },
  {
   "cell_type": "code",
   "execution_count": 30,
   "id": "213ae272",
   "metadata": {
    "slideshow": {
     "slide_type": "subslide"
    }
   },
   "outputs": [
    {
     "data": {
      "text/plain": [
       "array([2, 0, 2, 0, 1, 1, 0, 0, 2, 2, 0, 0, 1, 1, 2, 1, 2, 0, 2, 0, 2, 2,\n",
       "       1, 1, 1, 2, 0, 1, 2, 2, 1, 2, 1, 1, 0, 2, 0, 2, 1, 0, 1, 0, 2, 0,\n",
       "       0])"
      ]
     },
     "execution_count": 30,
     "metadata": {},
     "output_type": "execute_result"
    }
   ],
   "source": [
    "from sklearn.model_selection import train_test_split\n",
    "\n",
    "Xt, Xs, yt, ys = train_test_split(X, y, test_size=0.3)\n",
    "\n",
    "ys"
   ]
  },
  {
   "cell_type": "code",
   "execution_count": 31,
   "id": "2ce05571",
   "metadata": {},
   "outputs": [
    {
     "name": "stdout",
     "output_type": "stream",
     "text": [
      "Accuracy: 84.44%\n"
     ]
    }
   ],
   "source": [
    "Yt = np.hstack([yt[:, None]==i for i in range(3)]).astype(int)\n",
    "\n",
    "Y_raw = model.fit(Xt, Yt).predict(Xs)\n",
    "y_pred = Y_raw.argmax(1)\n",
    "\n",
    "accuracy = np.mean(y_pred == ys)\n",
    "print(\"Accuracy: {:.2f}%\".format(100 * accuracy))"
   ]
  },
  {
   "cell_type": "markdown",
   "id": "6de57ab7",
   "metadata": {
    "slideshow": {
     "slide_type": "subslide"
    }
   },
   "source": [
    "**Beware of cutting data in two - both training and test sets must get a similar mix of data**"
   ]
  },
  {
   "cell_type": "code",
   "execution_count": 32,
   "id": "f3cde08c",
   "metadata": {},
   "outputs": [],
   "source": [
    "Xt, Xs = X[:100], X[100:]\n",
    "yt, ys = y[:100], y[100:]"
   ]
  },
  {
   "cell_type": "code",
   "execution_count": 33,
   "id": "ecea7c56",
   "metadata": {},
   "outputs": [
    {
     "data": {
      "text/plain": [
       "array([0, 0, 0, 0, 0, 0, 0, 0, 0, 0, 0, 0, 0, 0, 0, 0, 0, 0, 0, 0, 0, 0,\n",
       "       0, 0, 0, 0, 0, 0, 0, 0, 0, 0, 0, 0, 0, 0, 0, 0, 0, 0, 0, 0, 0, 0,\n",
       "       0, 0, 0, 0, 0, 0, 1, 1, 1, 1, 1, 1, 1, 1, 1, 1, 1, 1, 1, 1, 1, 1,\n",
       "       1, 1, 1, 1, 1, 1, 1, 1, 1, 1, 1, 1, 1, 1, 1, 1, 1, 1, 1, 1, 1, 1,\n",
       "       1, 1, 1, 1, 1, 1, 1, 1, 1, 1, 1, 1])"
      ]
     },
     "execution_count": 33,
     "metadata": {},
     "output_type": "execute_result"
    }
   ],
   "source": [
    "yt"
   ]
  },
  {
   "cell_type": "code",
   "execution_count": 34,
   "id": "2322dd0b",
   "metadata": {},
   "outputs": [
    {
     "data": {
      "text/plain": [
       "array([2, 2, 2, 2, 2, 2, 2, 2, 2, 2, 2, 2, 2, 2, 2, 2, 2, 2, 2, 2, 2, 2,\n",
       "       2, 2, 2, 2, 2, 2, 2, 2, 2, 2, 2, 2, 2, 2, 2, 2, 2, 2, 2, 2, 2, 2,\n",
       "       2, 2, 2, 2, 2, 2])"
      ]
     },
     "execution_count": 34,
     "metadata": {},
     "output_type": "execute_result"
    }
   ],
   "source": [
    "ys"
   ]
  },
  {
   "cell_type": "code",
   "execution_count": 35,
   "id": "0219be96",
   "metadata": {
    "slideshow": {
     "slide_type": "subslide"
    }
   },
   "outputs": [
    {
     "name": "stdout",
     "output_type": "stream",
     "text": [
      "Accuracy: 0.00%\n"
     ]
    }
   ],
   "source": [
    "Yt = np.hstack([yt[:, None]==i for i in range(3)]).astype(int)\n",
    "\n",
    "Y_raw = model.fit(Xt, Yt).predict(Xs)\n",
    "y_pred = Y_raw.argmax(1)\n",
    "\n",
    "accuracy = np.mean(y_pred == ys)\n",
    "print(\"Accuracy: {:.2f}%\".format(100 * accuracy))"
   ]
  },
  {
   "cell_type": "markdown",
   "id": "a874f1c0",
   "metadata": {
    "slideshow": {
     "slide_type": "subslide"
    }
   },
   "source": [
    "Correct split by randomly shuffle data before it"
   ]
  },
  {
   "cell_type": "code",
   "execution_count": 36,
   "id": "f4625d7a",
   "metadata": {
    "slideshow": {
     "slide_type": "-"
    }
   },
   "outputs": [],
   "source": [
    "index = np.arange(n)\n",
    "np.random.shuffle(index)\n",
    "\n",
    "X_shuffle = X[index]  # SAME index for X and y\n",
    "y_shuffle = y[index]\n",
    "\n",
    "Xt, Xs = X_shuffle[:100], X_shuffle[100:]\n",
    "yt, ys = y_shuffle[:100], y_shuffle[100:]"
   ]
  },
  {
   "cell_type": "code",
   "execution_count": 37,
   "id": "220ee6b7",
   "metadata": {},
   "outputs": [
    {
     "data": {
      "text/plain": [
       "array([0, 0, 0, 0, 1, 1, 1, 2, 0, 2, 2, 0, 2, 2, 0, 1, 2, 2, 0, 0, 2, 2,\n",
       "       2, 0, 1, 1, 0, 0, 1, 1, 0, 1, 2, 1, 0, 1, 2, 2, 0, 2, 2, 1, 1, 2,\n",
       "       0, 1, 0, 2, 1, 1, 1, 0, 2, 1, 2, 1, 0, 1, 2, 0, 1, 2, 1, 2, 1, 2,\n",
       "       2, 0, 0, 1, 0, 0, 0, 2, 0, 0, 1, 1, 2, 1, 0, 0, 0, 0, 0, 0, 0, 1,\n",
       "       2, 0, 2, 0, 2, 0, 1, 1, 2, 0, 1, 0])"
      ]
     },
     "execution_count": 37,
     "metadata": {},
     "output_type": "execute_result"
    }
   ],
   "source": [
    "yt"
   ]
  },
  {
   "cell_type": "code",
   "execution_count": 38,
   "id": "319c2a8e",
   "metadata": {},
   "outputs": [
    {
     "data": {
      "text/plain": [
       "array([0, 1, 0, 2, 1, 1, 1, 1, 1, 1, 0, 0, 1, 1, 1, 0, 2, 1, 2, 0, 2, 1,\n",
       "       2, 2, 0, 2, 1, 0, 2, 2, 2, 1, 1, 0, 2, 0, 2, 2, 2, 2, 2, 0, 2, 2,\n",
       "       2, 2, 1, 1, 1, 1])"
      ]
     },
     "execution_count": 38,
     "metadata": {},
     "output_type": "execute_result"
    }
   ],
   "source": [
    "ys"
   ]
  },
  {
   "cell_type": "code",
   "execution_count": 39,
   "id": "400b75e9",
   "metadata": {
    "slideshow": {
     "slide_type": "subslide"
    }
   },
   "outputs": [
    {
     "name": "stdout",
     "output_type": "stream",
     "text": [
      "Accuracy: 84.00%\n"
     ]
    }
   ],
   "source": [
    "Yt = np.hstack([yt[:, None]==i for i in range(3)]).astype(int)\n",
    "\n",
    "Y_raw = model.fit(Xt, Yt).predict(Xs)\n",
    "y_pred = Y_raw.argmax(1)\n",
    "\n",
    "accuracy = np.mean(y_pred == ys)\n",
    "print(\"Accuracy: {:.2f}%\".format(100 * accuracy))"
   ]
  },
  {
   "cell_type": "markdown",
   "id": "44e9f504",
   "metadata": {
    "slideshow": {
     "slide_type": "slide"
    }
   },
   "source": [
    "# Scaling\n",
    "\n",
    "Random projection in ELM is a simple mathematical formula that includes addition. \n",
    "\n",
    "If feature A has 100x larger magnitude than feature B, it will be 100x more important after the addition. Small magnitude features are almost ignored.\n",
    "\n",
    "Non-linear function also requires a specific range of values. Hyperbolic tangent `tanh` is linear in [-0.1, 0.1] and crops to -1 at [-inf, -3] and +1 at [3, +inf]. Best range of `X@W` values are within [-3, -0.1] U [0.1, 3]."
   ]
  },
  {
   "cell_type": "code",
   "execution_count": 40,
   "id": "f04e0dbe",
   "metadata": {},
   "outputs": [
    {
     "data": {
      "text/plain": [
       "array([[5.1, 3.5, 1.4, 0.2],\n",
       "       [4.9, 3. , 1.4, 0.2],\n",
       "       [4.7, 3.2, 1.3, 0.2]])"
      ]
     },
     "execution_count": 40,
     "metadata": {},
     "output_type": "execute_result"
    }
   ],
   "source": [
    "X[:3]"
   ]
  },
  {
   "cell_type": "markdown",
   "id": "f9a68632",
   "metadata": {
    "slideshow": {
     "slide_type": "subslide"
    }
   },
   "source": [
    "Simple scaling"
   ]
  },
  {
   "cell_type": "code",
   "execution_count": 41,
   "id": "ef2f892f",
   "metadata": {
    "slideshow": {
     "slide_type": "-"
    }
   },
   "outputs": [
    {
     "data": {
      "text/plain": [
       "array([[-0.90068117,  1.01900435, -1.34022653, -1.3154443 ],\n",
       "       [-1.14301691, -0.13197948, -1.34022653, -1.3154443 ],\n",
       "       [-1.38535265,  0.32841405, -1.39706395, -1.3154443 ]])"
      ]
     },
     "execution_count": 41,
     "metadata": {},
     "output_type": "execute_result"
    }
   ],
   "source": [
    "X_norm = (X - X.mean(0)) / X.std(0)\n",
    "\n",
    "X_norm[:3]"
   ]
  },
  {
   "cell_type": "markdown",
   "id": "b0b7936d",
   "metadata": {
    "slideshow": {
     "slide_type": "subslide"
    }
   },
   "source": [
    "Automatic scaling"
   ]
  },
  {
   "cell_type": "code",
   "execution_count": 42,
   "id": "ac4fcd19",
   "metadata": {
    "slideshow": {
     "slide_type": "-"
    }
   },
   "outputs": [
    {
     "data": {
      "text/plain": [
       "array([[-0.53846154,  1.        , -0.84285714, -0.73333333],\n",
       "       [-0.69230769,  0.        , -0.84285714, -0.73333333],\n",
       "       [-0.84615385,  0.4       , -0.87142857, -0.73333333]])"
      ]
     },
     "execution_count": 42,
     "metadata": {},
     "output_type": "execute_result"
    }
   ],
   "source": [
    "from sklearn.preprocessing import RobustScaler\n",
    "\n",
    "X_robust = RobustScaler().fit_transform(X)\n",
    "\n",
    "X_robust[:3]"
   ]
  },
  {
   "cell_type": "markdown",
   "id": "df47ef04",
   "metadata": {
    "slideshow": {
     "slide_type": "subslide"
    }
   },
   "source": [
    "#### Let's examine values of `H` that go into non-linear function of ELM"
   ]
  },
  {
   "cell_type": "code",
   "execution_count": 43,
   "id": "107d5d61",
   "metadata": {},
   "outputs": [],
   "source": [
    "from matplotlib import pyplot as plt\n",
    "%matplotlib inline\n",
    "\n",
    "plt.rcParams[\"figure.figsize\"] = (12, 4)"
   ]
  },
  {
   "cell_type": "code",
   "execution_count": 44,
   "id": "b2977511",
   "metadata": {},
   "outputs": [
    {
     "data": {
      "image/png": "[encoded data removed]",
      "text/plain": [
       "<Figure size 1200x400 with 1 Axes>"
      ]
     },
     "metadata": {},
     "output_type": "display_data"
    }
   ],
   "source": [
    "XW = X@W\n",
    "\n",
    "plt.hist(XW.ravel(), 50)\n",
    "plt.title(\"No scaling\")\n",
    "plt.show()"
   ]
  },
  {
   "cell_type": "code",
   "execution_count": 45,
   "id": "1300684c",
   "metadata": {
    "slideshow": {
     "slide_type": "subslide"
    }
   },
   "outputs": [
    {
     "data": {
      "image/png": "[encoded data removed]",
      "text/plain": [
       "<Figure size 1200x400 with 1 Axes>"
      ]
     },
     "metadata": {},
     "output_type": "display_data"
    }
   ],
   "source": [
    "XW_sklearn = GaussianRandomProjection(n_components=k).fit_transform(X)\n",
    "\n",
    "plt.hist(XW_sklearn.ravel(), 50)\n",
    "plt.title(\"Scikit-Learn, No scaling\")\n",
    "plt.show()"
   ]
  },
  {
   "cell_type": "code",
   "execution_count": 46,
   "id": "fd373be8",
   "metadata": {
    "slideshow": {
     "slide_type": "subslide"
    }
   },
   "outputs": [
    {
     "data": {
      "image/png": "[encoded data removed]",
      "text/plain": [
       "<Figure size 1200x400 with 1 Axes>"
      ]
     },
     "metadata": {},
     "output_type": "display_data"
    }
   ],
   "source": [
    "X_norm = (X - X.mean(0)) / X.std(0)\n",
    "XW_norm = X_norm@W\n",
    "\n",
    "plt.hist(XW_norm.ravel(), 50)\n",
    "plt.title(\"Normal scaling\")\n",
    "plt.show()"
   ]
  },
  {
   "cell_type": "code",
   "execution_count": 47,
   "id": "5048fb93",
   "metadata": {
    "slideshow": {
     "slide_type": "subslide"
    }
   },
   "outputs": [
    {
     "data": {
      "image/png": "[encoded data removed]",
      "text/plain": [
       "<Figure size 1200x400 with 1 Axes>"
      ]
     },
     "metadata": {},
     "output_type": "display_data"
    }
   ],
   "source": [
    "X_robust = RobustScaler().fit_transform(X)\n",
    "XW_robust = X_robust@W\n",
    "\n",
    "plt.hist(X_robust.ravel(), 50)\n",
    "plt.title(\"Robust scaling\")\n",
    "plt.show()"
   ]
  },
  {
   "cell_type": "markdown",
   "id": "637b62c7",
   "metadata": {
    "slideshow": {
     "slide_type": "subslide"
    }
   },
   "source": [
    "Fixing scaling in Scikit-Learn"
   ]
  },
  {
   "cell_type": "code",
   "execution_count": 48,
   "id": "ebd7652b",
   "metadata": {
    "slideshow": {
     "slide_type": "-"
    }
   },
   "outputs": [
    {
     "name": "stdout",
     "output_type": "stream",
     "text": [
      "Accuracy: 90.00%\n"
     ]
    }
   ],
   "source": [
    "model = make_pipeline(\n",
    "    RobustScaler(),\n",
    "    skelm.ELMClassifier(n_neurons=k)\n",
    "    #GaussianRandomProjection(n_components=k),\n",
    "    #TanhTranformer(),\n",
    "    #Ridge(fit_intercept=True, alpha=0.01)\n",
    ")\n",
    "\n",
    "Y_raw = model.fit(X, Y).predict(X)\n",
    "y_pred = Y_raw.argmax(1)\n",
    "\n",
    "accuracy = np.mean(y_pred == y)\n",
    "print(\"Accuracy: {:.2f}%\".format(100 * accuracy))"
   ]
  },
  {
   "cell_type": "markdown",
   "id": "f4f25646",
   "metadata": {
    "slideshow": {
     "slide_type": "slide"
    }
   },
   "source": [
    "# Advanced Tuning\n",
    "\n",
    "We can do even better with our models."
   ]
  },
  {
   "cell_type": "code",
   "execution_count": 50,
   "id": "5db22456",
   "metadata": {},
   "outputs": [
    {
     "data": {
      "text/html": [
       "<div>\n",
       "<style scoped>\n",
       "    .dataframe tbody tr th:only-of-type {\n",
       "        vertical-align: middle;\n",
       "    }\n",
       "\n",
       "    .dataframe tbody tr th {\n",
       "        vertical-align: top;\n",
       "    }\n",
       "\n",
       "    .dataframe thead th {\n",
       "        text-align: right;\n",
       "    }\n",
       "</style>\n",
       "<table border=\"1\" class=\"dataframe\">\n",
       "  <thead>\n",
       "    <tr style=\"text-align: right;\">\n",
       "      <th></th>\n",
       "      <th>Revenue</th>\n",
       "      <th>revenue(% change)</th>\n",
       "      <th>profits in millions</th>\n",
       "      <th>profits % change</th>\n",
       "      <th>assets</th>\n",
       "      <th>market value</th>\n",
       "      <th>change in rank in 1000</th>\n",
       "      <th>employees</th>\n",
       "      <th>change in rank(500 only)</th>\n",
       "      <th>measure_up_rank</th>\n",
       "    </tr>\n",
       "  </thead>\n",
       "  <tbody>\n",
       "    <tr>\n",
       "      <th>0</th>\n",
       "      <td>$559,151</td>\n",
       "      <td>0.067</td>\n",
       "      <td>$13,510</td>\n",
       "      <td>-0.092</td>\n",
       "      <td>$252,496</td>\n",
       "      <td>$382,642.8</td>\n",
       "      <td>0</td>\n",
       "      <td>2300000</td>\n",
       "      <td>0</td>\n",
       "      <td>20</td>\n",
       "    </tr>\n",
       "    <tr>\n",
       "      <th>1</th>\n",
       "      <td>$386,064</td>\n",
       "      <td>0.376</td>\n",
       "      <td>$21,331</td>\n",
       "      <td>0.841</td>\n",
       "      <td>$321,195</td>\n",
       "      <td>$1,558,069.6</td>\n",
       "      <td>0</td>\n",
       "      <td>1298000</td>\n",
       "      <td>0</td>\n",
       "      <td>11</td>\n",
       "    </tr>\n",
       "    <tr>\n",
       "      <th>2</th>\n",
       "      <td>$274,515</td>\n",
       "      <td>0.055</td>\n",
       "      <td>$57,411</td>\n",
       "      <td>0.039</td>\n",
       "      <td>$323,888</td>\n",
       "      <td>$2,050,665.9</td>\n",
       "      <td>1</td>\n",
       "      <td>147000</td>\n",
       "      <td>1</td>\n",
       "      <td>188</td>\n",
       "    </tr>\n",
       "    <tr>\n",
       "      <th>3</th>\n",
       "      <td>$268,706</td>\n",
       "      <td>0.046</td>\n",
       "      <td>$7,179</td>\n",
       "      <td>0.082</td>\n",
       "      <td>$230,715</td>\n",
       "      <td>$98,653.2</td>\n",
       "      <td>1</td>\n",
       "      <td>256500</td>\n",
       "      <td>1</td>\n",
       "      <td>57</td>\n",
       "    </tr>\n",
       "    <tr>\n",
       "      <th>4</th>\n",
       "      <td>$257,141</td>\n",
       "      <td>0.062</td>\n",
       "      <td>$15,403</td>\n",
       "      <td>0.113</td>\n",
       "      <td>$197,289</td>\n",
       "      <td>$351,725</td>\n",
       "      <td>2</td>\n",
       "      <td>330000</td>\n",
       "      <td>2</td>\n",
       "      <td>25</td>\n",
       "    </tr>\n",
       "  </tbody>\n",
       "</table>\n",
       "</div>"
      ],
      "text/plain": [
       "    Revenue revenue(% change) profits in millions profits % change    assets  \\\n",
       "0  $559,151             0.067             $13,510           -0.092  $252,496   \n",
       "1  $386,064             0.376             $21,331            0.841  $321,195   \n",
       "2  $274,515             0.055             $57,411            0.039  $323,888   \n",
       "3  $268,706             0.046              $7,179            0.082  $230,715   \n",
       "4  $257,141             0.062             $15,403            0.113  $197,289   \n",
       "\n",
       "   market value change in rank in 1000  employees change in rank(500 only)  \\\n",
       "0    $382,642.8                      0    2300000                        0   \n",
       "1  $1,558,069.6                      0    1298000                        0   \n",
       "2  $2,050,665.9                      1     147000                        1   \n",
       "3     $98,653.2                      1     256500                        1   \n",
       "4      $351,725                      2     330000                        2   \n",
       "\n",
       "  measure_up_rank  \n",
       "0              20  \n",
       "1              11  \n",
       "2             188  \n",
       "3              57  \n",
       "4              25  "
      ]
     },
     "execution_count": 50,
     "metadata": {},
     "output_type": "execute_result"
    }
   ],
   "source": [
    "import pandas as pd\n",
    "\n",
    "fortune1k = pd.read_csv(\"fortune 1000 companies in dec2021.csv\").iloc[:, 3:].replace('-', '0')\n",
    "fortune1k.head()"
   ]
  },
  {
   "cell_type": "code",
   "execution_count": 51,
   "id": "25cf1df8",
   "metadata": {
    "slideshow": {
     "slide_type": "subslide"
    }
   },
   "outputs": [],
   "source": [
    "for col in fortune1k.columns:\n",
    "    if fortune1k[col].dtype == int:\n",
    "        continue\n",
    "    fortune1k[col] = fortune1k[col].str.replace(\"[$,]\", \"\", regex=True).astype(float)"
   ]
  },
  {
   "cell_type": "code",
   "execution_count": 52,
   "id": "180d59d9",
   "metadata": {},
   "outputs": [
    {
     "data": {
      "text/html": [
       "<div>\n",
       "<style scoped>\n",
       "    .dataframe tbody tr th:only-of-type {\n",
       "        vertical-align: middle;\n",
       "    }\n",
       "\n",
       "    .dataframe tbody tr th {\n",
       "        vertical-align: top;\n",
       "    }\n",
       "\n",
       "    .dataframe thead th {\n",
       "        text-align: right;\n",
       "    }\n",
       "</style>\n",
       "<table border=\"1\" class=\"dataframe\">\n",
       "  <thead>\n",
       "    <tr style=\"text-align: right;\">\n",
       "      <th></th>\n",
       "      <th>Revenue</th>\n",
       "      <th>revenue(% change)</th>\n",
       "      <th>profits in millions</th>\n",
       "      <th>profits % change</th>\n",
       "      <th>assets</th>\n",
       "      <th>market value</th>\n",
       "      <th>change in rank in 1000</th>\n",
       "      <th>employees</th>\n",
       "      <th>change in rank(500 only)</th>\n",
       "      <th>measure_up_rank</th>\n",
       "    </tr>\n",
       "  </thead>\n",
       "  <tbody>\n",
       "    <tr>\n",
       "      <th>0</th>\n",
       "      <td>559151.0</td>\n",
       "      <td>0.067</td>\n",
       "      <td>13510.0</td>\n",
       "      <td>-0.092</td>\n",
       "      <td>252496.0</td>\n",
       "      <td>382642.8</td>\n",
       "      <td>0.0</td>\n",
       "      <td>2300000</td>\n",
       "      <td>0.0</td>\n",
       "      <td>20.0</td>\n",
       "    </tr>\n",
       "    <tr>\n",
       "      <th>1</th>\n",
       "      <td>386064.0</td>\n",
       "      <td>0.376</td>\n",
       "      <td>21331.0</td>\n",
       "      <td>0.841</td>\n",
       "      <td>321195.0</td>\n",
       "      <td>1558069.6</td>\n",
       "      <td>0.0</td>\n",
       "      <td>1298000</td>\n",
       "      <td>0.0</td>\n",
       "      <td>11.0</td>\n",
       "    </tr>\n",
       "    <tr>\n",
       "      <th>2</th>\n",
       "      <td>274515.0</td>\n",
       "      <td>0.055</td>\n",
       "      <td>57411.0</td>\n",
       "      <td>0.039</td>\n",
       "      <td>323888.0</td>\n",
       "      <td>2050665.9</td>\n",
       "      <td>1.0</td>\n",
       "      <td>147000</td>\n",
       "      <td>1.0</td>\n",
       "      <td>188.0</td>\n",
       "    </tr>\n",
       "    <tr>\n",
       "      <th>3</th>\n",
       "      <td>268706.0</td>\n",
       "      <td>0.046</td>\n",
       "      <td>7179.0</td>\n",
       "      <td>0.082</td>\n",
       "      <td>230715.0</td>\n",
       "      <td>98653.2</td>\n",
       "      <td>1.0</td>\n",
       "      <td>256500</td>\n",
       "      <td>1.0</td>\n",
       "      <td>57.0</td>\n",
       "    </tr>\n",
       "    <tr>\n",
       "      <th>4</th>\n",
       "      <td>257141.0</td>\n",
       "      <td>0.062</td>\n",
       "      <td>15403.0</td>\n",
       "      <td>0.113</td>\n",
       "      <td>197289.0</td>\n",
       "      <td>351725.0</td>\n",
       "      <td>2.0</td>\n",
       "      <td>330000</td>\n",
       "      <td>2.0</td>\n",
       "      <td>25.0</td>\n",
       "    </tr>\n",
       "  </tbody>\n",
       "</table>\n",
       "</div>"
      ],
      "text/plain": [
       "    Revenue  revenue(% change)  profits in millions  profits % change  \\\n",
       "0  559151.0              0.067              13510.0            -0.092   \n",
       "1  386064.0              0.376              21331.0             0.841   \n",
       "2  274515.0              0.055              57411.0             0.039   \n",
       "3  268706.0              0.046               7179.0             0.082   \n",
       "4  257141.0              0.062              15403.0             0.113   \n",
       "\n",
       "     assets  market value  change in rank in 1000  employees  \\\n",
       "0  252496.0      382642.8                     0.0    2300000   \n",
       "1  321195.0     1558069.6                     0.0    1298000   \n",
       "2  323888.0     2050665.9                     1.0     147000   \n",
       "3  230715.0       98653.2                     1.0     256500   \n",
       "4  197289.0      351725.0                     2.0     330000   \n",
       "\n",
       "   change in rank(500 only)  measure_up_rank  \n",
       "0                       0.0             20.0  \n",
       "1                       0.0             11.0  \n",
       "2                       1.0            188.0  \n",
       "3                       1.0             57.0  \n",
       "4                       2.0             25.0  "
      ]
     },
     "execution_count": 52,
     "metadata": {},
     "output_type": "execute_result"
    }
   ],
   "source": [
    "fortune1k.head()"
   ]
  },
  {
   "cell_type": "markdown",
   "id": "dfde3012",
   "metadata": {
    "slideshow": {
     "slide_type": "slide"
    }
   },
   "source": [
    "# Log Scale: the missing `mean`"
   ]
  },
  {
   "cell_type": "code",
   "execution_count": 53,
   "id": "ed72a316",
   "metadata": {},
   "outputs": [],
   "source": [
    "from sklearn.metrics import r2_score"
   ]
  },
  {
   "cell_type": "code",
   "execution_count": 54,
   "id": "7c66b514",
   "metadata": {},
   "outputs": [
    {
     "name": "stdout",
     "output_type": "stream",
     "text": [
      "R2 score: -0.6314471128178987\n"
     ]
    }
   ],
   "source": [
    "X, y = fortune1k.iloc[:, 1:], fortune1k.iloc[:,0]\n",
    "Xt, Xs, yt, ys = train_test_split(X, y, train_size=0.3)\n",
    "\n",
    "model = skelm.ELMRegressor().fit(Xt, yt)\n",
    "ys_pred = model.predict(Xs)\n",
    "\n",
    "score = r2_score(y_true=ys, y_pred=ys_pred)\n",
    "print(\"R2 score:\", score)"
   ]
  },
  {
   "cell_type": "markdown",
   "id": "d794b073",
   "metadata": {
    "slideshow": {
     "slide_type": "subslide"
    }
   },
   "source": [
    "### Let's examine the mean values"
   ]
  },
  {
   "cell_type": "code",
   "execution_count": 55,
   "id": "bb7084da",
   "metadata": {
    "slideshow": {
     "slide_type": "-"
    }
   },
   "outputs": [
    {
     "data": {
      "image/png": "[encoded data removed]",
      "text/plain": [
       "<Figure size 1200x400 with 1 Axes>"
      ]
     },
     "metadata": {},
     "output_type": "display_data"
    }
   ],
   "source": [
    "plt.hist(ys, 100)\n",
    "m = np.mean(ys)\n",
    "plt.plot([m, m], [0, 450], '--k')\n",
    "plt.title(\"Where is the mean?\")\n",
    "plt.show()"
   ]
  },
  {
   "cell_type": "markdown",
   "id": "408e87ad",
   "metadata": {
    "slideshow": {
     "slide_type": "-"
    }
   },
   "source": [
    "Logarithmically distributed variables have no concept of `mean`.   \n",
    "\n",
    "Very common in real world - income, followers, noise and light levels, etc."
   ]
  },
  {
   "cell_type": "markdown",
   "id": "909b1ec0",
   "metadata": {
    "slideshow": {
     "slide_type": "subslide"
    }
   },
   "source": [
    "Taking `log(value)` fixes the missing mean problem.\n",
    "\n",
    "(This dataset is \"top-1000\" companies. It looks like a tail of normal distribution because it is a tail of normal distribution.)"
   ]
  },
  {
   "cell_type": "code",
   "execution_count": 56,
   "id": "2bf00cec",
   "metadata": {},
   "outputs": [
    {
     "data": {
      "image/png": "[encoded data removed]",
      "text/plain": [
       "<Figure size 1200x400 with 1 Axes>"
      ]
     },
     "metadata": {},
     "output_type": "display_data"
    }
   ],
   "source": [
    "plt.hist(np.log(ys), 100)\n",
    "m = np.mean(np.log(ys))\n",
    "plt.plot([m, m], [0, 30], '--k')\n",
    "plt.title(\"Here it is: at the Log scale\")\n",
    "plt.show()"
   ]
  },
  {
   "cell_type": "markdown",
   "id": "3b429948",
   "metadata": {
    "slideshow": {
     "slide_type": "subslide"
    }
   },
   "source": [
    "### Scale input features"
   ]
  },
  {
   "cell_type": "code",
   "execution_count": 57,
   "id": "e530cfeb",
   "metadata": {},
   "outputs": [
    {
     "name": "stdout",
     "output_type": "stream",
     "text": [
      "R2 score: -0.40434389195111264\n"
     ]
    }
   ],
   "source": [
    "X, y = fortune1k.iloc[:, 1:], fortune1k.iloc[:,0]\n",
    "for col in ['profits in millions', 'assets', 'market value', \n",
    "            'employees', 'measure_up_rank']:\n",
    "    val = X[col]\n",
    "    X[col] = np.sign(val) * np.log(np.abs(val) + 1)  # \"negative\" log values\n",
    "    \n",
    "Xt, Xs, yt, ys = train_test_split(X, y, train_size=0.3)\n",
    "\n",
    "model = skelm.ELMRegressor().fit(Xt, yt)\n",
    "ys_pred = model.predict(Xs)\n",
    "\n",
    "score = r2_score(y_true=ys, y_pred=ys_pred)\n",
    "print(\"R2 score:\", score)"
   ]
  },
  {
   "cell_type": "markdown",
   "id": "fe556be3",
   "metadata": {},
   "source": [
    "Did not really help..."
   ]
  },
  {
   "cell_type": "markdown",
   "id": "7127c73c",
   "metadata": {
    "slideshow": {
     "slide_type": "subslide"
    }
   },
   "source": [
    "### Scale *output*  features too!"
   ]
  },
  {
   "cell_type": "code",
   "execution_count": 58,
   "id": "64e721bf",
   "metadata": {},
   "outputs": [],
   "source": [
    "fortune1k_log = fortune1k.copy()\n",
    "for col in ['Revenue', 'profits in millions', 'assets', 'market value', \n",
    "            'employees', 'measure_up_rank']:\n",
    "    val = fortune1k_log[col]\n",
    "    fortune1k_log[col] = np.sign(val) * np.log(np.abs(val) + 1)"
   ]
  },
  {
   "cell_type": "code",
   "execution_count": 59,
   "id": "2349d6b1",
   "metadata": {},
   "outputs": [
    {
     "name": "stdout",
     "output_type": "stream",
     "text": [
      "R2 score: 0.33573535646787\n"
     ]
    }
   ],
   "source": [
    "X, y = fortune1k_log.iloc[:, 1:], fortune1k_log.iloc[:,0]\n",
    "Xt, Xs, yt, ys = train_test_split(X, y, train_size=0.3)\n",
    "\n",
    "model = skelm.ELMRegressor(n_neurons=20).fit(Xt, yt)\n",
    "ys_pred = model.predict(Xs)\n",
    "\n",
    "score = r2_score(y_true=ys, y_pred=ys_pred)\n",
    "print(\"R2 score:\", score)"
   ]
  },
  {
   "cell_type": "markdown",
   "id": "9e91b615",
   "metadata": {},
   "source": [
    "It worked!"
   ]
  },
  {
   "cell_type": "markdown",
   "id": "951497a5",
   "metadata": {
    "slideshow": {
     "slide_type": "subslide"
    }
   },
   "source": [
    "ELM output is a linear model.\n",
    "\n",
    "Linear model is a mapping between two values: `HB = Y`.  \n",
    "It is fully reversible: `H = YB^-1`.  \n",
    "\n",
    "If *either* of the values `H`, `Y` is poorly scaled, the model does not work.  \n",
    "Scale *both* inputs and outputs."
   ]
  },
  {
   "cell_type": "markdown",
   "id": "15ece2be",
   "metadata": {
    "slideshow": {
     "slide_type": "slide"
    }
   },
   "source": [
    "# High-Performance ELM: `hpelm`\n",
    "\n",
    "An older interface model that does not play well with Scikit-Learn. \n",
    "\n",
    "Insane power, GPU, low compute overhead."
   ]
  },
  {
   "cell_type": "code",
   "execution_count": 60,
   "id": "aeeee6b1",
   "metadata": {},
   "outputs": [
    {
     "data": {
      "text/plain": [
       "((20640, 8), (20640,))"
      ]
     },
     "execution_count": 60,
     "metadata": {},
     "output_type": "execute_result"
    }
   ],
   "source": [
    "from sklearn.datasets import fetch_california_housing\n",
    "\n",
    "X, y = fetch_california_housing(return_X_y=True)\n",
    "\n",
    "X.shape, y.shape"
   ]
  },
  {
   "cell_type": "code",
   "execution_count": 61,
   "id": "567241b9",
   "metadata": {},
   "outputs": [],
   "source": [
    "n, d = X.shape\n",
    "d_out = 1\n",
    "k = 1000"
   ]
  },
  {
   "cell_type": "code",
   "execution_count": 62,
   "id": "9cd4cd08",
   "metadata": {
    "slideshow": {
     "slide_type": "subslide"
    }
   },
   "outputs": [],
   "source": [
    "model = HPELM(d, d_out, precision='single', norm=1e-5)\n",
    "\n",
    "model.add_neurons(number=k//2, func=\"tanh\")\n",
    "model.add_neurons(number=k//2, func=\"rbf_l2\")"
   ]
  },
  {
   "cell_type": "code",
   "execution_count": 63,
   "id": "eefd5600",
   "metadata": {},
   "outputs": [
    {
     "name": "stdout",
     "output_type": "stream",
     "text": [
      "Covariance matrix is not full rank; solving with SVD (slow)\n",
      "This happened because you have duplicated or too many neurons\n"
     ]
    },
    {
     "name": "stderr",
     "output_type": "stream",
     "text": [
      "/Users/akusok/.pyenv/versions/jupyter/lib/python3.11/site-packages/hpelm/nnets/slfn_python.py:65: FutureWarning: `rcond` parameter will change to the default of machine precision times ``max(M, N)`` where M and N are the input matrix dimensions.\n",
      "To use the future default and silence this warning we advise to pass `rcond=None`, to keep using the old, explicitly pass `rcond=-1`.\n",
      "  B = np.linalg.lstsq(HH, HT)[0]\n"
     ]
    }
   ],
   "source": [
    "model.train(X, y)"
   ]
  },
  {
   "cell_type": "code",
   "execution_count": 64,
   "id": "f2004421",
   "metadata": {},
   "outputs": [
    {
     "data": {
      "text/plain": [
       "0.19053946855741655"
      ]
     },
     "execution_count": 64,
     "metadata": {},
     "output_type": "execute_result"
    }
   ],
   "source": [
    "yh = model.predict(X)\n",
    "\n",
    "r2_score(y, yh)"
   ]
  },
  {
   "cell_type": "markdown",
   "id": "d5148278",
   "metadata": {
    "slideshow": {
     "slide_type": "subslide"
    }
   },
   "source": [
    "### Sensible to data normalization"
   ]
  },
  {
   "cell_type": "code",
   "execution_count": 65,
   "id": "d6fe135a",
   "metadata": {},
   "outputs": [],
   "source": [
    "X = (X - X.mean(0)) / X.std(0)\n",
    "y = y - y.mean()  # no bias at the moment"
   ]
  },
  {
   "cell_type": "code",
   "execution_count": 66,
   "id": "6a1fa011",
   "metadata": {},
   "outputs": [
    {
     "name": "stdout",
     "output_type": "stream",
     "text": [
      "Covariance matrix is not full rank; solving with SVD (slow)\n",
      "This happened because you have duplicated or too many neurons\n"
     ]
    },
    {
     "name": "stderr",
     "output_type": "stream",
     "text": [
      "/Users/akusok/.pyenv/versions/jupyter/lib/python3.11/site-packages/hpelm/nnets/slfn_python.py:65: FutureWarning: `rcond` parameter will change to the default of machine precision times ``max(M, N)`` where M and N are the input matrix dimensions.\n",
      "To use the future default and silence this warning we advise to pass `rcond=None`, to keep using the old, explicitly pass `rcond=-1`.\n",
      "  B = np.linalg.lstsq(HH, HT)[0]\n"
     ]
    }
   ],
   "source": [
    "model.train(X, y)"
   ]
  },
  {
   "cell_type": "code",
   "execution_count": 67,
   "id": "5a8baf74",
   "metadata": {},
   "outputs": [
    {
     "data": {
      "text/plain": [
       "-74.67351738732994"
      ]
     },
     "execution_count": 67,
     "metadata": {},
     "output_type": "execute_result"
    }
   ],
   "source": [
    "yh = model.predict(X)\n",
    "\n",
    "r2_score(y, yh)"
   ]
  },
  {
   "cell_type": "markdown",
   "id": "4a60b200",
   "metadata": {
    "slideshow": {
     "slide_type": "slide"
    }
   },
   "source": [
    "### HP-ELM Classification"
   ]
  },
  {
   "cell_type": "code",
   "execution_count": 68,
   "id": "4f77a86c",
   "metadata": {},
   "outputs": [],
   "source": [
    "from sklearn.datasets import fetch_covtype\n",
    "\n",
    "X, y = fetch_covtype(return_X_y=True)"
   ]
  },
  {
   "cell_type": "code",
   "execution_count": 69,
   "id": "17779e15",
   "metadata": {},
   "outputs": [
    {
     "data": {
      "text/plain": [
       "((581012, 54), (581012,))"
      ]
     },
     "execution_count": 69,
     "metadata": {},
     "output_type": "execute_result"
    }
   ],
   "source": [
    "X.shape, y.shape"
   ]
  },
  {
   "cell_type": "code",
   "execution_count": 70,
   "id": "e57b3f59",
   "metadata": {},
   "outputs": [
    {
     "data": {
      "text/plain": [
       "{1, 2, 3, 4, 5, 6, 7}"
      ]
     },
     "execution_count": 70,
     "metadata": {},
     "output_type": "execute_result"
    }
   ],
   "source": [
    "set(y)"
   ]
  },
  {
   "cell_type": "markdown",
   "id": "c9db8d9c",
   "metadata": {
    "slideshow": {
     "slide_type": "subslide"
    }
   },
   "source": [
    "Transform outputs into one-hot encoding"
   ]
  },
  {
   "cell_type": "code",
   "execution_count": 71,
   "id": "bf992c49",
   "metadata": {},
   "outputs": [
    {
     "data": {
      "text/plain": [
       "(581012, 7)"
      ]
     },
     "execution_count": 71,
     "metadata": {},
     "output_type": "execute_result"
    }
   ],
   "source": [
    "y_2d = y[:, None]\n",
    "Y = np.hstack([y_2d==i for i in (1,2,3,4,5,6,7)]).astype(int)\n",
    "Y.shape"
   ]
  },
  {
   "cell_type": "code",
   "execution_count": 72,
   "id": "c250782c",
   "metadata": {},
   "outputs": [],
   "source": [
    "n, d = X.shape\n",
    "d_out = Y.shape[1]\n",
    "k = 200"
   ]
  },
  {
   "cell_type": "markdown",
   "id": "643887e3",
   "metadata": {
    "slideshow": {
     "slide_type": "subslide"
    }
   },
   "source": [
    "Classification types:\n",
    "- 'c' for classification\n",
    "- 'wc' for weighted classification\n",
    "- 'ml' for multi-label classification"
   ]
  },
  {
   "cell_type": "code",
   "execution_count": 73,
   "id": "562173f5",
   "metadata": {},
   "outputs": [],
   "source": [
    "model = HPELM(d, d_out, classification='c', norm=1e-5)\n",
    "\n",
    "model.add_neurons(number=k, func=\"tanh\")"
   ]
  },
  {
   "cell_type": "code",
   "execution_count": 74,
   "id": "bcfd3290",
   "metadata": {},
   "outputs": [],
   "source": [
    "model.train(X, Y)"
   ]
  },
  {
   "cell_type": "code",
   "execution_count": 75,
   "id": "fa43172d",
   "metadata": {
    "slideshow": {
     "slide_type": "subslide"
    }
   },
   "outputs": [],
   "source": [
    "from sklearn.metrics import f1_score\n",
    "\n",
    "Yh = model.predict(X)\n",
    "yh = Yh.argmax(1) + 1"
   ]
  },
  {
   "cell_type": "code",
   "execution_count": 76,
   "id": "f7f4bd17",
   "metadata": {},
   "outputs": [
    {
     "data": {
      "text/plain": [
       "0.5345173593660716"
      ]
     },
     "execution_count": 76,
     "metadata": {},
     "output_type": "execute_result"
    }
   ],
   "source": [
    "f1_score(y, yh, average='micro')"
   ]
  },
  {
   "cell_type": "markdown",
   "id": "414498e4",
   "metadata": {
    "slideshow": {
     "slide_type": "slide"
    }
   },
   "source": [
    "# ELM in manual gearbox"
   ]
  },
  {
   "cell_type": "markdown",
   "id": "37fd506d",
   "metadata": {
    "slideshow": {
     "slide_type": "subslide"
    }
   },
   "source": [
    "### Two-stage solution with H'H matrix\n",
    "\n",
    "A trick to large-scale ELM is to remove data sample size `n` variable from the calculations.\n",
    "\n",
    "Then we don't care how much data there is."
   ]
  },
  {
   "cell_type": "markdown",
   "id": "f402c18f",
   "metadata": {
    "slideshow": {
     "slide_type": "subslide"
    }
   },
   "source": [
    "![](img/HH1.png)"
   ]
  },
  {
   "cell_type": "markdown",
   "id": "23b3a3a9",
   "metadata": {
    "slideshow": {
     "slide_type": "subslide"
    }
   },
   "source": [
    "This trick allows us to update previously trained model!"
   ]
  },
  {
   "cell_type": "markdown",
   "id": "04dfbcf7",
   "metadata": {
    "slideshow": {
     "slide_type": "subslide"
    }
   },
   "source": [
    "![](img/HH2.png)"
   ]
  },
  {
   "cell_type": "code",
   "execution_count": 77,
   "id": "79954383",
   "metadata": {
    "slideshow": {
     "slide_type": "subslide"
    }
   },
   "outputs": [],
   "source": [
    "model = HPELM(d, d_out, classification='c', norm=1e-5)\n",
    "\n",
    "model.add_neurons(number=k, func=\"tanh\")"
   ]
  },
  {
   "cell_type": "code",
   "execution_count": 78,
   "id": "e3ca544a",
   "metadata": {},
   "outputs": [
    {
     "data": {
      "text/plain": [
       "array([[ 193671.00001   , -193671.        ,  193309.86973206],\n",
       "       [      0.        ,  193671.00001   , -193309.86973206],\n",
       "       [      0.        ,       0.        ,  193663.63976635]])"
      ]
     },
     "execution_count": 78,
     "metadata": {},
     "output_type": "execute_result"
    }
   ],
   "source": [
    "model.add_data(X[0::3], Y[0::3])\n",
    "model.nnet.HH[:3, :3]"
   ]
  },
  {
   "cell_type": "code",
   "execution_count": 79,
   "id": "8e5ed04c",
   "metadata": {},
   "outputs": [
    {
     "data": {
      "text/plain": [
       "array([[ 581012.00001   , -581012.        ,  579923.82893852],\n",
       "       [      0.        ,  581012.00001   , -579923.82893852],\n",
       "       [      0.        ,       0.        ,  580993.64932834]])"
      ]
     },
     "execution_count": 79,
     "metadata": {},
     "output_type": "execute_result"
    }
   ],
   "source": [
    "model.add_data(X[1::3], Y[1::3])\n",
    "model.add_data(X[2::3], Y[2::3])\n",
    "model.nnet.HH[:3, :3]"
   ]
  },
  {
   "cell_type": "code",
   "execution_count": 80,
   "id": "0233092f",
   "metadata": {},
   "outputs": [],
   "source": [
    "model.nnet.solve()"
   ]
  },
  {
   "cell_type": "code",
   "execution_count": 81,
   "id": "b8bcbe7c",
   "metadata": {},
   "outputs": [
    {
     "data": {
      "text/plain": [
       "0.5509335435412693"
      ]
     },
     "execution_count": 81,
     "metadata": {},
     "output_type": "execute_result"
    }
   ],
   "source": [
    "Yh = model.predict(X)\n",
    "yh = Yh.argmax(1) + 1\n",
    "\n",
    "f1_score(y, yh, average='micro')"
   ]
  },
  {
   "cell_type": "markdown",
   "id": "8ec7fd24",
   "metadata": {
    "slideshow": {
     "slide_type": "slide"
    }
   },
   "source": [
    "### `HH, HY` matrices in `scikit-elm`"
   ]
  },
  {
   "cell_type": "code",
   "execution_count": 82,
   "id": "db0617e5",
   "metadata": {},
   "outputs": [
    {
     "data": {
      "text/html": [
       "<style>#sk-container-id-1 {color: black;}#sk-container-id-1 pre{padding: 0;}#sk-container-id-1 div.sk-toggleable {background-color: white;}#sk-container-id-1 label.sk-toggleable__label {cursor: pointer;display: block;width: 100%;margin-bottom: 0;padding: 0.3em;box-sizing: border-box;text-align: center;}#sk-container-id-1 label.sk-toggleable__label-arrow:before {content: \"▸\";float: left;margin-right: 0.25em;color: #696969;}#sk-container-id-1 label.sk-toggleable__label-arrow:hover:before {color: black;}#sk-container-id-1 div.sk-estimator:hover label.sk-toggleable__label-arrow:before {color: black;}#sk-container-id-1 div.sk-toggleable__content {max-height: 0;max-width: 0;overflow: hidden;text-align: left;background-color: #f0f8ff;}#sk-container-id-1 div.sk-toggleable__content pre {margin: 0.2em;color: black;border-radius: 0.25em;background-color: #f0f8ff;}#sk-container-id-1 input.sk-toggleable__control:checked~div.sk-toggleable__content {max-height: 200px;max-width: 100%;overflow: auto;}#sk-container-id-1 input.sk-toggleable__control:checked~label.sk-toggleable__label-arrow:before {content: \"▾\";}#sk-container-id-1 div.sk-estimator input.sk-toggleable__control:checked~label.sk-toggleable__label {background-color: #d4ebff;}#sk-container-id-1 div.sk-label input.sk-toggleable__control:checked~label.sk-toggleable__label {background-color: #d4ebff;}#sk-container-id-1 input.sk-hidden--visually {border: 0;clip: rect(1px 1px 1px 1px);clip: rect(1px, 1px, 1px, 1px);height: 1px;margin: -1px;overflow: hidden;padding: 0;position: absolute;width: 1px;}#sk-container-id-1 div.sk-estimator {font-family: monospace;background-color: #f0f8ff;border: 1px dotted black;border-radius: 0.25em;box-sizing: border-box;margin-bottom: 0.5em;}#sk-container-id-1 div.sk-estimator:hover {background-color: #d4ebff;}#sk-container-id-1 div.sk-parallel-item::after {content: \"\";width: 100%;border-bottom: 1px solid gray;flex-grow: 1;}#sk-container-id-1 div.sk-label:hover label.sk-toggleable__label {background-color: #d4ebff;}#sk-container-id-1 div.sk-serial::before {content: \"\";position: absolute;border-left: 1px solid gray;box-sizing: border-box;top: 0;bottom: 0;left: 50%;z-index: 0;}#sk-container-id-1 div.sk-serial {display: flex;flex-direction: column;align-items: center;background-color: white;padding-right: 0.2em;padding-left: 0.2em;position: relative;}#sk-container-id-1 div.sk-item {position: relative;z-index: 1;}#sk-container-id-1 div.sk-parallel {display: flex;align-items: stretch;justify-content: center;background-color: white;position: relative;}#sk-container-id-1 div.sk-item::before, #sk-container-id-1 div.sk-parallel-item::before {content: \"\";position: absolute;border-left: 1px solid gray;box-sizing: border-box;top: 0;bottom: 0;left: 50%;z-index: -1;}#sk-container-id-1 div.sk-parallel-item {display: flex;flex-direction: column;z-index: 1;position: relative;background-color: white;}#sk-container-id-1 div.sk-parallel-item:first-child::after {align-self: flex-end;width: 50%;}#sk-container-id-1 div.sk-parallel-item:last-child::after {align-self: flex-start;width: 50%;}#sk-container-id-1 div.sk-parallel-item:only-child::after {width: 0;}#sk-container-id-1 div.sk-dashed-wrapped {border: 1px dashed gray;margin: 0 0.4em 0.5em 0.4em;box-sizing: border-box;padding-bottom: 0.4em;background-color: white;}#sk-container-id-1 div.sk-label label {font-family: monospace;font-weight: bold;display: inline-block;line-height: 1.2em;}#sk-container-id-1 div.sk-label-container {text-align: center;}#sk-container-id-1 div.sk-container {/* jupyter's `normalize.less` sets `[hidden] { display: none; }` but bootstrap.min.css set `[hidden] { display: none !important; }` so we also need the `!important` here to be able to override the default hidden behavior on the sphinx rendered scikit-learn.org. See: https://github.com/scikit-learn/scikit-learn/issues/21755 */display: inline-block !important;position: relative;}#sk-container-id-1 div.sk-text-repr-fallback {display: none;}</style><div id=\"sk-container-id-1\" class=\"sk-top-container\"><div class=\"sk-text-repr-fallback\"><pre>ELMClassifier(n_neurons=200)</pre><b>In a Jupyter environment, please rerun this cell to show the HTML representation or trust the notebook. <br />On GitHub, the HTML representation is unable to render, please try loading this page with nbviewer.org.</b></div><div class=\"sk-container\" hidden><div class=\"sk-item\"><div class=\"sk-estimator sk-toggleable\"><input class=\"sk-toggleable__control sk-hidden--visually\" id=\"sk-estimator-id-1\" type=\"checkbox\" checked><label for=\"sk-estimator-id-1\" class=\"sk-toggleable__label sk-toggleable__label-arrow\">ELMClassifier</label><div class=\"sk-toggleable__content\"><pre>ELMClassifier(n_neurons=200)</pre></div></div></div></div></div>"
      ],
      "text/plain": [
       "ELMClassifier(n_neurons=200)"
      ]
     },
     "execution_count": 82,
     "metadata": {},
     "output_type": "execute_result"
    }
   ],
   "source": [
    "model = skelm.ELMClassifier(n_neurons=k, ufunc='tanh')\n",
    "\n",
    "model.partial_fit(X[0::3], Y[0::3], compute_output_weights=False)"
   ]
  },
  {
   "cell_type": "code",
   "execution_count": 87,
   "id": "40944cfb",
   "metadata": {},
   "outputs": [
    {
     "data": {
      "text/plain": [
       "[HiddenLayer(n_neurons=200)]"
      ]
     },
     "execution_count": 87,
     "metadata": {},
     "output_type": "execute_result"
    }
   ],
   "source": [
    "model.SLFNs_"
   ]
  },
  {
   "cell_type": "code",
   "execution_count": 88,
   "id": "e21fdb6a",
   "metadata": {},
   "outputs": [
    {
     "data": {
      "text/plain": [
       "(<bound method HiddenLayer.transform of HiddenLayer(n_neurons=200)>,\n",
       " <ufunc 'tanh'>)"
      ]
     },
     "execution_count": 88,
     "metadata": {},
     "output_type": "execute_result"
    }
   ],
   "source": [
    "layer = model.SLFNs_[0]\n",
    "\n",
    "layer.transform, layer.ufunc_"
   ]
  },
  {
   "cell_type": "code",
   "execution_count": 89,
   "id": "a0e40328",
   "metadata": {
    "slideshow": {
     "slide_type": "subslide"
    }
   },
   "outputs": [],
   "source": [
    "H = layer.ufunc_(layer.transform(X[0::3]))\n",
    "HH = H.T @ H\n",
    "HY = H.T @ Y[0::3]"
   ]
  },
  {
   "cell_type": "code",
   "execution_count": 90,
   "id": "9da469cc",
   "metadata": {},
   "outputs": [
    {
     "data": {
      "text/plain": [
       "array([[ 112264.34343333, -107921.2623298 ,  107921.2623298 ],\n",
       "       [-107921.2623298 ,  112334.14928527, -112334.14928527],\n",
       "       [ 107921.2623298 , -112334.14928527,  112334.14928527]])"
      ]
     },
     "execution_count": 90,
     "metadata": {},
     "output_type": "execute_result"
    }
   ],
   "source": [
    "HH[:3, :3]"
   ]
  },
  {
   "cell_type": "code",
   "execution_count": 91,
   "id": "5f45858d",
   "metadata": {},
   "outputs": [
    {
     "data": {
      "text/plain": [
       "array([[ 50479.54949067,  69383.8787995 ,   9053.831326  ,\n",
       "           712.09053582,   2421.10782178,   4418.76929286,\n",
       "          5235.19822804],\n",
       "       [-53776.16335204, -71881.54122157,  -9053.831326  ,\n",
       "          -712.09053582,  -2421.10782178,  -4418.76929286,\n",
       "         -5235.19822804],\n",
       "       [ 53776.16335204,  71881.54122157,   9053.831326  ,\n",
       "           712.09053582,   2421.10782178,   4418.76929286,\n",
       "          5235.19822804]])"
      ]
     },
     "execution_count": 91,
     "metadata": {},
     "output_type": "execute_result"
    }
   ],
   "source": [
    "HY[:3]"
   ]
  },
  {
   "cell_type": "markdown",
   "id": "50fefdca",
   "metadata": {
    "slideshow": {
     "slide_type": "slide"
    }
   },
   "source": [
    "### Difference in solvers: fast & failing solvers, finite iterative solvers\n",
    "\n",
    "ELM output layer needs a least squares solution of a linear system.\n",
    "\n",
    "Basic equation `B = pinv(H) @ y` is computationally inefficient, and has numerical problems.\n",
    "\n",
    "Solvers can compute `B` from `H, y` without inverting matrix `H` directly."
   ]
  },
  {
   "cell_type": "code",
   "execution_count": 97,
   "id": "7b6b9c0b",
   "metadata": {
    "slideshow": {
     "slide_type": "subslide"
    }
   },
   "outputs": [],
   "source": [
    "k = 500\n",
    "model = skelm.ELMClassifier(n_neurons=k, ufunc='tanh')\n",
    "\n",
    "model.partial_fit(X[:1000], Y[:1000], compute_output_weights=False)\n",
    "\n",
    "layer = model.SLFNs_[0]"
   ]
  },
  {
   "cell_type": "code",
   "execution_count": 98,
   "id": "e86b087e",
   "metadata": {},
   "outputs": [],
   "source": [
    "H = layer.ufunc_(layer.transform(X[:1000]))\n",
    "HH = H.T @ H\n",
    "HY = H.T @ Y[:1000]"
   ]
  },
  {
   "cell_type": "code",
   "execution_count": 99,
   "id": "6e855e4f",
   "metadata": {
    "slideshow": {
     "slide_type": "subslide"
    }
   },
   "outputs": [
    {
     "ename": "LinAlgError",
     "evalue": "Matrix is singular.",
     "output_type": "error",
     "traceback": [
      "\u001b[0;31m---------------------------------------------------------------------------\u001b[0m",
      "\u001b[0;31mLinAlgError\u001b[0m                               Traceback (most recent call last)",
      "File \u001b[0;32m<timed exec>:1\u001b[0m\n",
      "File \u001b[0;32m~/.pyenv/versions/jupyter/lib/python3.11/site-packages/scipy/linalg/_basic.py:220\u001b[0m, in \u001b[0;36msolve\u001b[0;34m(a, b, lower, overwrite_a, overwrite_b, check_finite, assume_a, transposed)\u001b[0m\n\u001b[1;32m    217\u001b[0m gecon, getrf, getrs \u001b[38;5;241m=\u001b[39m get_lapack_funcs((\u001b[38;5;124m'\u001b[39m\u001b[38;5;124mgecon\u001b[39m\u001b[38;5;124m'\u001b[39m, \u001b[38;5;124m'\u001b[39m\u001b[38;5;124mgetrf\u001b[39m\u001b[38;5;124m'\u001b[39m, \u001b[38;5;124m'\u001b[39m\u001b[38;5;124mgetrs\u001b[39m\u001b[38;5;124m'\u001b[39m),\n\u001b[1;32m    218\u001b[0m                                        (a1, b1))\n\u001b[1;32m    219\u001b[0m lu, ipvt, info \u001b[38;5;241m=\u001b[39m getrf(a1, overwrite_a\u001b[38;5;241m=\u001b[39moverwrite_a)\n\u001b[0;32m--> 220\u001b[0m \u001b[43m_solve_check\u001b[49m\u001b[43m(\u001b[49m\u001b[43mn\u001b[49m\u001b[43m,\u001b[49m\u001b[43m \u001b[49m\u001b[43minfo\u001b[49m\u001b[43m)\u001b[49m\n\u001b[1;32m    221\u001b[0m x, info \u001b[38;5;241m=\u001b[39m getrs(lu, ipvt, b1,\n\u001b[1;32m    222\u001b[0m                 trans\u001b[38;5;241m=\u001b[39mtrans, overwrite_b\u001b[38;5;241m=\u001b[39moverwrite_b)\n\u001b[1;32m    223\u001b[0m _solve_check(n, info)\n",
      "File \u001b[0;32m~/.pyenv/versions/jupyter/lib/python3.11/site-packages/scipy/linalg/_basic.py:41\u001b[0m, in \u001b[0;36m_solve_check\u001b[0;34m(n, info, lamch, rcond)\u001b[0m\n\u001b[1;32m     38\u001b[0m     \u001b[38;5;28;01mraise\u001b[39;00m \u001b[38;5;167;01mValueError\u001b[39;00m(\u001b[38;5;124m'\u001b[39m\u001b[38;5;124mLAPACK reported an illegal value in \u001b[39m\u001b[38;5;132;01m{}\u001b[39;00m\u001b[38;5;124m-th argument\u001b[39m\u001b[38;5;124m'\u001b[39m\n\u001b[1;32m     39\u001b[0m                      \u001b[38;5;124m'\u001b[39m\u001b[38;5;124m.\u001b[39m\u001b[38;5;124m'\u001b[39m\u001b[38;5;241m.\u001b[39mformat(\u001b[38;5;241m-\u001b[39minfo))\n\u001b[1;32m     40\u001b[0m \u001b[38;5;28;01melif\u001b[39;00m \u001b[38;5;241m0\u001b[39m \u001b[38;5;241m<\u001b[39m info:\n\u001b[0;32m---> 41\u001b[0m     \u001b[38;5;28;01mraise\u001b[39;00m LinAlgError(\u001b[38;5;124m'\u001b[39m\u001b[38;5;124mMatrix is singular.\u001b[39m\u001b[38;5;124m'\u001b[39m)\n\u001b[1;32m     43\u001b[0m \u001b[38;5;28;01mif\u001b[39;00m lamch \u001b[38;5;129;01mis\u001b[39;00m \u001b[38;5;28;01mNone\u001b[39;00m:\n\u001b[1;32m     44\u001b[0m     \u001b[38;5;28;01mreturn\u001b[39;00m\n",
      "\u001b[0;31mLinAlgError\u001b[0m: Matrix is singular."
     ]
    }
   ],
   "source": [
    "import scipy\n",
    "\n",
    "%time B = scipy.linalg.solve(HH, HY)"
   ]
  },
  {
   "cell_type": "markdown",
   "id": "5e01dde5",
   "metadata": {
    "slideshow": {
     "slide_type": "subslide"
    }
   },
   "source": [
    "Solve numerical problems by adding L2-regularization"
   ]
  },
  {
   "cell_type": "code",
   "execution_count": 100,
   "id": "450bc3e7",
   "metadata": {
    "slideshow": {
     "slide_type": "-"
    }
   },
   "outputs": [
    {
     "name": "stdout",
     "output_type": "stream",
     "text": [
      "CPU times: user 14.5 ms, sys: 2.33 ms, total: 16.8 ms\n",
      "Wall time: 15.8 ms\n"
     ]
    }
   ],
   "source": [
    "%time B = scipy.linalg.solve(HH + 10000*np.eye(k), HY)"
   ]
  },
  {
   "cell_type": "markdown",
   "id": "afd5383f",
   "metadata": {
    "slideshow": {
     "slide_type": "subslide"
    }
   },
   "source": [
    "Other solvers can handle numerical instability"
   ]
  },
  {
   "cell_type": "code",
   "execution_count": 101,
   "id": "ec7e6cc6",
   "metadata": {},
   "outputs": [
    {
     "name": "stdout",
     "output_type": "stream",
     "text": [
      "CPU times: user 54.8 ms, sys: 2.21 ms, total: 57 ms\n",
      "Wall time: 56.2 ms\n"
     ]
    }
   ],
   "source": [
    "%time B = np.linalg.lstsq(HH, HY, rcond=-1)[0]"
   ]
  },
  {
   "cell_type": "markdown",
   "id": "17b0e24b",
   "metadata": {
    "slideshow": {
     "slide_type": "subslide"
    }
   },
   "source": [
    "L2-regularisation helps with failing solution"
   ]
  },
  {
   "cell_type": "code",
   "execution_count": 102,
   "id": "1b83326b",
   "metadata": {},
   "outputs": [
    {
     "ename": "LinAlgError",
     "evalue": "6-th leading minor of the array is not positive definite",
     "output_type": "error",
     "traceback": [
      "\u001b[0;31m---------------------------------------------------------------------------\u001b[0m",
      "\u001b[0;31mLinAlgError\u001b[0m                               Traceback (most recent call last)",
      "File \u001b[0;32m<timed exec>:1\u001b[0m\n",
      "File \u001b[0;32m~/.pyenv/versions/jupyter/lib/python3.11/site-packages/scipy/linalg/_decomp_cholesky.py:154\u001b[0m, in \u001b[0;36mcho_factor\u001b[0;34m(a, lower, overwrite_a, check_finite)\u001b[0m\n\u001b[1;32m     94\u001b[0m \u001b[38;5;28;01mdef\u001b[39;00m \u001b[38;5;21mcho_factor\u001b[39m(a, lower\u001b[38;5;241m=\u001b[39m\u001b[38;5;28;01mFalse\u001b[39;00m, overwrite_a\u001b[38;5;241m=\u001b[39m\u001b[38;5;28;01mFalse\u001b[39;00m, check_finite\u001b[38;5;241m=\u001b[39m\u001b[38;5;28;01mTrue\u001b[39;00m):\n\u001b[1;32m     95\u001b[0m \u001b[38;5;250m    \u001b[39m\u001b[38;5;124;03m\"\"\"\u001b[39;00m\n\u001b[1;32m     96\u001b[0m \u001b[38;5;124;03m    Compute the Cholesky decomposition of a matrix, to use in cho_solve\u001b[39;00m\n\u001b[1;32m     97\u001b[0m \n\u001b[0;32m   (...)\u001b[0m\n\u001b[1;32m    152\u001b[0m \n\u001b[1;32m    153\u001b[0m \u001b[38;5;124;03m    \"\"\"\u001b[39;00m\n\u001b[0;32m--> 154\u001b[0m     c, lower \u001b[38;5;241m=\u001b[39m \u001b[43m_cholesky\u001b[49m\u001b[43m(\u001b[49m\u001b[43ma\u001b[49m\u001b[43m,\u001b[49m\u001b[43m \u001b[49m\u001b[43mlower\u001b[49m\u001b[38;5;241;43m=\u001b[39;49m\u001b[43mlower\u001b[49m\u001b[43m,\u001b[49m\u001b[43m \u001b[49m\u001b[43moverwrite_a\u001b[49m\u001b[38;5;241;43m=\u001b[39;49m\u001b[43moverwrite_a\u001b[49m\u001b[43m,\u001b[49m\u001b[43m \u001b[49m\u001b[43mclean\u001b[49m\u001b[38;5;241;43m=\u001b[39;49m\u001b[38;5;28;43;01mFalse\u001b[39;49;00m\u001b[43m,\u001b[49m\n\u001b[1;32m    155\u001b[0m \u001b[43m                         \u001b[49m\u001b[43mcheck_finite\u001b[49m\u001b[38;5;241;43m=\u001b[39;49m\u001b[43mcheck_finite\u001b[49m\u001b[43m)\u001b[49m\n\u001b[1;32m    156\u001b[0m     \u001b[38;5;28;01mreturn\u001b[39;00m c, lower\n",
      "File \u001b[0;32m~/.pyenv/versions/jupyter/lib/python3.11/site-packages/scipy/linalg/_decomp_cholesky.py:37\u001b[0m, in \u001b[0;36m_cholesky\u001b[0;34m(a, lower, overwrite_a, clean, check_finite)\u001b[0m\n\u001b[1;32m     35\u001b[0m c, info \u001b[38;5;241m=\u001b[39m potrf(a1, lower\u001b[38;5;241m=\u001b[39mlower, overwrite_a\u001b[38;5;241m=\u001b[39moverwrite_a, clean\u001b[38;5;241m=\u001b[39mclean)\n\u001b[1;32m     36\u001b[0m \u001b[38;5;28;01mif\u001b[39;00m info \u001b[38;5;241m>\u001b[39m \u001b[38;5;241m0\u001b[39m:\n\u001b[0;32m---> 37\u001b[0m     \u001b[38;5;28;01mraise\u001b[39;00m LinAlgError(\u001b[38;5;124m\"\u001b[39m\u001b[38;5;132;01m%d\u001b[39;00m\u001b[38;5;124m-th leading minor of the array is not positive \u001b[39m\u001b[38;5;124m\"\u001b[39m\n\u001b[1;32m     38\u001b[0m                       \u001b[38;5;124m\"\u001b[39m\u001b[38;5;124mdefinite\u001b[39m\u001b[38;5;124m\"\u001b[39m \u001b[38;5;241m%\u001b[39m info)\n\u001b[1;32m     39\u001b[0m \u001b[38;5;28;01mif\u001b[39;00m info \u001b[38;5;241m<\u001b[39m \u001b[38;5;241m0\u001b[39m:\n\u001b[1;32m     40\u001b[0m     \u001b[38;5;28;01mraise\u001b[39;00m \u001b[38;5;167;01mValueError\u001b[39;00m(\u001b[38;5;124m'\u001b[39m\u001b[38;5;124mLAPACK reported an illegal value in \u001b[39m\u001b[38;5;132;01m{}\u001b[39;00m\u001b[38;5;124m-th argument\u001b[39m\u001b[38;5;124m'\u001b[39m\n\u001b[1;32m     41\u001b[0m                      \u001b[38;5;124m'\u001b[39m\u001b[38;5;124mon entry to \u001b[39m\u001b[38;5;124m\"\u001b[39m\u001b[38;5;124mPOTRF\u001b[39m\u001b[38;5;124m\"\u001b[39m\u001b[38;5;124m.\u001b[39m\u001b[38;5;124m'\u001b[39m\u001b[38;5;241m.\u001b[39mformat(\u001b[38;5;241m-\u001b[39minfo))\n",
      "\u001b[0;31mLinAlgError\u001b[0m: 6-th leading minor of the array is not positive definite"
     ]
    }
   ],
   "source": [
    "%time B = scipy.linalg.cho_solve(scipy.linalg.cho_factor(HH), HY)"
   ]
  },
  {
   "cell_type": "code",
   "execution_count": 103,
   "id": "a80ac7ce",
   "metadata": {
    "slideshow": {
     "slide_type": "subslide"
    }
   },
   "outputs": [
    {
     "name": "stdout",
     "output_type": "stream",
     "text": [
      "CPU times: user 6.91 ms, sys: 1.65 ms, total: 8.56 ms\n",
      "Wall time: 7.52 ms\n"
     ]
    }
   ],
   "source": [
    "%time B = scipy.linalg.cho_solve(scipy.linalg.cho_factor(HH + 1000*np.eye(k)), HY)"
   ]
  },
  {
   "cell_type": "markdown",
   "id": "9a8714ef",
   "metadata": {
    "slideshow": {
     "slide_type": "subslide"
    }
   },
   "source": [
    "Naive approach"
   ]
  },
  {
   "cell_type": "code",
   "execution_count": 104,
   "id": "2c1cc135",
   "metadata": {},
   "outputs": [
    {
     "name": "stdout",
     "output_type": "stream",
     "text": [
      "CPU times: user 72.3 ms, sys: 2.82 ms, total: 75.1 ms\n",
      "Wall time: 75.3 ms\n"
     ]
    }
   ],
   "source": [
    "%time B = np.linalg.pinv(HH) @ HY"
   ]
  },
  {
   "cell_type": "markdown",
   "id": "bdaf1b0d",
   "metadata": {
    "slideshow": {
     "slide_type": "subslide"
    }
   },
   "source": [
    "Different solver algorithms have different time requirements, and limitations:\n",
    "- pseudo-inverse:  78ms\n",
    "- lstsq (SVD-based solver):  44ms\n",
    "- scipy.solve (LU-based, can fail):  6ms\n",
    "- scipy cholesky:  4ms"
   ]
  },
  {
   "cell_type": "markdown",
   "id": "6af181e4",
   "metadata": {
    "slideshow": {
     "slide_type": "subslide"
    }
   },
   "source": [
    "Different solvers may be faster at extremely large tasks.\n",
    "LSQR is a finite iterative solver that converges faster on large or poorly determined problems."
   ]
  },
  {
   "cell_type": "code",
   "execution_count": 105,
   "id": "bba9240d",
   "metadata": {
    "slideshow": {
     "slide_type": "-"
    }
   },
   "outputs": [],
   "source": [
    "from scipy.sparse.linalg import lsqr"
   ]
  },
  {
   "cell_type": "code",
   "execution_count": 106,
   "id": "44e437ce",
   "metadata": {},
   "outputs": [
    {
     "name": "stdout",
     "output_type": "stream",
     "text": [
      "CPU times: user 56.1 ms, sys: 1.55 ms, total: 57.7 ms\n",
      "Wall time: 58 ms\n"
     ]
    }
   ],
   "source": [
    "%time b = lsqr(HH, HY[:,0])[0]"
   ]
  },
  {
   "cell_type": "markdown",
   "id": "03cd31f4",
   "metadata": {
    "slideshow": {
     "slide_type": "subslide"
    }
   },
   "source": [
    "Why do we want such a slow solver?\n",
    "\n",
    "When crossing >10,000 neurons and >1hour solution, it is actually faster.\n",
    "\n",
    "Also *MUCH* faster on poorly defined problems - gets to a bad solution quickly."
   ]
  },
  {
   "cell_type": "markdown",
   "id": "139d7444",
   "metadata": {
    "slideshow": {
     "slide_type": "slide"
    }
   },
   "source": [
    "# Post-training model tuning\n",
    "\n",
    "ELM allows us to change model parameters *after* the heaviest computations are finished."
   ]
  },
  {
   "cell_type": "markdown",
   "id": "f67aeba2",
   "metadata": {
    "slideshow": {
     "slide_type": "-"
    }
   },
   "source": [
    "### Post-training L2-regularization \n",
    "\n",
    "L2 regularization term `alpha` is a constant added to the diagonal of H'H\n",
    "\n",
    "We can add different L2-regularizations and re-solve ELM only looking at training data once."
   ]
  },
  {
   "cell_type": "code",
   "execution_count": 107,
   "id": "21eb194e",
   "metadata": {
    "slideshow": {
     "slide_type": "subslide"
    }
   },
   "outputs": [
    {
     "name": "stdout",
     "output_type": "stream",
     "text": [
      "L2 alpha=0.01, ELM training score: 0.841\n",
      "L2 alpha=1, ELM training score: 0.836\n",
      "L2 alpha=100, ELM training score: 0.757\n"
     ]
    }
   ],
   "source": [
    "for alpha in [0.01, 1, 100]:\n",
    "    B = np.linalg.lstsq(HH + alpha*np.eye(k), HY, rcond=-1)[0]\n",
    "    \n",
    "    Yh = H @ B\n",
    "    yh = Yh.argmax(1) + 1\n",
    "\n",
    "    score = f1_score(y[:1000], yh, average='micro')\n",
    "    print(f\"L2 alpha={alpha}, ELM training score: {score}\")"
   ]
  },
  {
   "cell_type": "markdown",
   "id": "a2c9bfa0",
   "metadata": {
    "slideshow": {
     "slide_type": "subslide"
    }
   },
   "source": [
    "### Post-training model downsizing\n",
    "\n",
    "Number of neurons in ELM can be reduced after training by taking part of HH, HY matrices."
   ]
  },
  {
   "cell_type": "code",
   "execution_count": 108,
   "id": "6f94ef75",
   "metadata": {},
   "outputs": [
    {
     "name": "stdout",
     "output_type": "stream",
     "text": [
      "Neurons=200, ELM training score: 0.7579999999999999\n",
      "Neurons=100, ELM training score: 0.677\n",
      "Neurons=50, ELM training score: 0.621\n",
      "Neurons=10, ELM training score: 0.597\n",
      "Neurons=3, ELM training score: 0.594\n"
     ]
    }
   ],
   "source": [
    "for k in [200, 100, 50, 10, 3]:\n",
    "    B = np.linalg.lstsq(HH[:k,:k], HY[:k], rcond=-1)[0]\n",
    "    \n",
    "    Yh = H[:, :k] @ B\n",
    "    yh = Yh.argmax(1) + 1\n",
    "\n",
    "    score = f1_score(y[:1000], yh, average='micro')\n",
    "    print(f\"Neurons={k}, ELM training score: {score}\")"
   ]
  },
  {
   "cell_type": "markdown",
   "id": "7505a74a",
   "metadata": {
    "slideshow": {
     "slide_type": "slide"
    }
   },
   "source": [
    "### Distributed computations + combine results\n",
    "\n",
    "Distributed computations are done by computing parts of `HH, HY` matrices on different machines, then summing them up, and solving the model.\n",
    "\n",
    "Must use the same model on all machines - generate one model, save it, and re-load."
   ]
  },
  {
   "cell_type": "code",
   "execution_count": 109,
   "id": "2c0684bf",
   "metadata": {
    "slideshow": {
     "slide_type": "subslide"
    }
   },
   "outputs": [],
   "source": [
    "X1, X2, X3 = X[0::3], X[1::3], X[2::3]\n",
    "Y1, Y2, Y3 = Y[0::3], Y[1::3], Y[2::3]"
   ]
  },
  {
   "cell_type": "code",
   "execution_count": 110,
   "id": "f811eeff",
   "metadata": {},
   "outputs": [],
   "source": [
    "model = HPELM(inputs=d, outputs=d_out)\n",
    "model.add_neurons(k, 'tanh')\n",
    "model.save(\"model.pkl\")"
   ]
  },
  {
   "cell_type": "code",
   "execution_count": 111,
   "id": "d2e6bfca",
   "metadata": {},
   "outputs": [],
   "source": [
    "m1 = HPELM(inputs=d, outputs=d_out)\n",
    "m1.load(\"model.pkl\")\n",
    "\n",
    "m2 = HPELM(inputs=d, outputs=d_out)\n",
    "m2.load(\"model.pkl\")\n",
    "\n",
    "m3 = HPELM(inputs=d, outputs=d_out)\n",
    "m3.load(\"model.pkl\")"
   ]
  },
  {
   "cell_type": "code",
   "execution_count": 112,
   "id": "e0a94a35",
   "metadata": {
    "slideshow": {
     "slide_type": "subslide"
    }
   },
   "outputs": [],
   "source": [
    "import pickle"
   ]
  },
  {
   "cell_type": "code",
   "execution_count": 113,
   "id": "80655c10",
   "metadata": {},
   "outputs": [],
   "source": [
    "m1.add_data(X1, Y1)\n",
    "with open(\"data1.pkl\", \"wb\") as f:\n",
    "    pickle.dump([m1.nnet.HH, m1.nnet.HT], f)\n",
    "    \n",
    "m2.add_data(X2, Y2)\n",
    "with open(\"data2.pkl\", \"wb\") as f:\n",
    "    pickle.dump([m2.nnet.HH, m2.nnet.HT], f)\n",
    "    \n",
    "m3.add_data(X3, Y3)\n",
    "with open(\"data3.pkl\", \"wb\") as f:\n",
    "    pickle.dump([m3.nnet.HH, m3.nnet.HT], f)"
   ]
  },
  {
   "cell_type": "code",
   "execution_count": 114,
   "id": "d76ccccc",
   "metadata": {
    "slideshow": {
     "slide_type": "subslide"
    }
   },
   "outputs": [],
   "source": [
    "HH = np.zeros((k,k))\n",
    "HY = np.zeros((k, d_out))\n",
    "\n",
    "with open(\"data1.pkl\", \"rb\") as f:\n",
    "    HH_part, HY_part = pickle.load(f)\n",
    "    HH += HH_part\n",
    "    HY += HY_part\n",
    "    \n",
    "with open(\"data2.pkl\", \"rb\") as f:\n",
    "    HH_part, HY_part = pickle.load(f)\n",
    "    HH += HH_part\n",
    "    HY += HY_part\n",
    "    \n",
    "with open(\"data3.pkl\", \"rb\") as f:\n",
    "    HH_part, HY_part = pickle.load(f)\n",
    "    HH += HH_part\n",
    "    HY += HY_part    "
   ]
  },
  {
   "cell_type": "code",
   "execution_count": 115,
   "id": "3494c295",
   "metadata": {
    "slideshow": {
     "slide_type": "subslide"
    }
   },
   "outputs": [
    {
     "name": "stdout",
     "output_type": "stream",
     "text": [
      "ELM training score: 0.48752693576036293\n"
     ]
    }
   ],
   "source": [
    "B = np.linalg.lstsq(HH, HY, rcond=-1)[0]\n",
    "\n",
    "Yh = model.project(X) @ B\n",
    "yh = Yh.argmax(1) + 1\n",
    "\n",
    "score = f1_score(y, yh, average='micro')\n",
    "print(f\"ELM training score: {score}\")"
   ]
  },
  {
   "cell_type": "markdown",
   "id": "a362ff76",
   "metadata": {
    "slideshow": {
     "slide_type": "slide"
    }
   },
   "source": [
    "# Summary\n",
    "\n",
    "ELM is a wonderful thing: it lets us get inside and tune its inner workings to whatever task we face. \n",
    "No other method ever allows the same freedom."
   ]
  },
  {
   "cell_type": "markdown",
   "id": "8b9419ce",
   "metadata": {
    "slideshow": {
     "slide_type": "subslide"
    }
   },
   "source": [
    "### Key takeaway points\n",
    "\n",
    "- ELM has simple math notation: use it!\n",
    "- scaling of inputs *and* outputs is important\n",
    "- use distributed computing and custom solvers to push limits of huge tasks"
   ]
  },
  {
   "cell_type": "markdown",
   "id": "3a1c7e7e",
   "metadata": {
    "slideshow": {
     "slide_type": "slide"
    }
   },
   "source": [
    "## Thanks! \n",
    "\n",
    "# Questions"
   ]
  },
  {
   "cell_type": "markdown",
   "id": "22ecfd28",
   "metadata": {
    "slideshow": {
     "slide_type": "-"
    }
   },
   "source": [
    "*Presenter: Anton Akusok*"
   ]
  }
 ],
 "metadata": {
  "celltoolbar": "Slideshow",
  "kernelspec": {
   "display_name": "Python 3 (ipykernel)",
   "language": "python",
   "name": "python3"
  },
  "language_info": {
   "codemirror_mode": {
    "name": "ipython",
    "version": 3
   },
   "file_extension": ".py",
   "mimetype": "text/x-python",
   "name": "python",
   "nbconvert_exporter": "python",
   "pygments_lexer": "ipython3",
   "version": "3.11.6"
  }
 },
 "nbformat": 4,
 "nbformat_minor": 5
}
