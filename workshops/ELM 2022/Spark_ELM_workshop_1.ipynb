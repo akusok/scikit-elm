{
 "cells": [
  {
   "cell_type": "code",
   "execution_count": 1,
   "id": "1abb58cd-5b16-4838-bd6a-6aa4902cfc23",
   "metadata": {},
   "outputs": [],
   "source": [
    "import gzip as gz\n",
    "import pandas as pd\n",
    "import numpy as np\n",
    "\n",
    "np.set_printoptions(suppress=True, precision=2)\n",
    "pd.set_option('display.max_columns', 500)"
   ]
  },
  {
   "cell_type": "code",
   "execution_count": 2,
   "id": "a3477e53-2063-451e-a0cb-52a34048ee55",
   "metadata": {},
   "outputs": [],
   "source": [
    "import pyspark\n",
    "from pyspark.sql import SparkSession\n",
    "from pyspark.sql import functions as F\n",
    "from pyspark.sql.types import StructType, StructField, IntegerType, StringType\n",
    "\n",
    "from operator import add"
   ]
  },
  {
   "cell_type": "code",
   "execution_count": 3,
   "id": "0db58a5a-50d1-4ca9-a175-1f3a2f7771be",
   "metadata": {},
   "outputs": [
    {
     "name": "stdout",
     "output_type": "stream",
     "text": [
      "22/12/09 12:47:39 WARN Utils: Your hostname, Antons-MacBook-Pro.local resolves to a loopback address: 127.0.0.1; using 172.20.10.2 instead (on interface en5)\n",
      "22/12/09 12:47:39 WARN Utils: Set SPARK_LOCAL_IP if you need to bind to another address\n"
     ]
    },
    {
     "name": "stderr",
     "output_type": "stream",
     "text": [
      "Setting default log level to \"WARN\".\n",
      "To adjust logging level use sc.setLogLevel(newLevel). For SparkR, use setLogLevel(newLevel).\n"
     ]
    },
    {
     "name": "stdout",
     "output_type": "stream",
     "text": [
      "22/12/09 12:47:41 WARN NativeCodeLoader: Unable to load native-hadoop library for your platform... using builtin-java classes where applicable\n"
     ]
    }
   ],
   "source": [
    "spark = SparkSession.builder.getOrCreate()\n",
    "sc = spark.sparkContext"
   ]
  },
  {
   "cell_type": "markdown",
   "id": "5ac01c79-67c6-4676-9895-dffdd8d99647",
   "metadata": {},
   "source": [
    "## Data\n",
    "\n",
    "Looking at the raw data"
   ]
  },
  {
   "cell_type": "code",
   "execution_count": 4,
   "id": "e42f648a-5f4a-4e93-86ac-0ae77002d637",
   "metadata": {},
   "outputs": [
    {
     "name": "stderr",
     "output_type": "stream",
     "text": [
      "                                                                                \r"
     ]
    },
    {
     "name": "stdout",
     "output_type": "stream",
     "text": [
      "22/12/09 12:49:12 WARN package: Truncated the string representation of a plan since it was too large. This behavior can be adjusted by setting 'spark.sql.debug.maxToStringFields'.\n"
     ]
    },
    {
     "data": {
      "text/html": [
       "<div>\n",
       "<style scoped>\n",
       "    .dataframe tbody tr th:only-of-type {\n",
       "        vertical-align: middle;\n",
       "    }\n",
       "\n",
       "    .dataframe tbody tr th {\n",
       "        vertical-align: top;\n",
       "    }\n",
       "\n",
       "    .dataframe thead th {\n",
       "        text-align: right;\n",
       "    }\n",
       "</style>\n",
       "<table border=\"1\" class=\"dataframe\">\n",
       "  <thead>\n",
       "    <tr style=\"text-align: right;\">\n",
       "      <th></th>\n",
       "      <th>_c0</th>\n",
       "      <th>_c1</th>\n",
       "      <th>_c2</th>\n",
       "      <th>_c3</th>\n",
       "      <th>_c4</th>\n",
       "      <th>_c5</th>\n",
       "      <th>_c6</th>\n",
       "      <th>_c7</th>\n",
       "      <th>_c8</th>\n",
       "      <th>_c9</th>\n",
       "      <th>_c10</th>\n",
       "      <th>_c11</th>\n",
       "      <th>_c12</th>\n",
       "      <th>_c13</th>\n",
       "      <th>_c14</th>\n",
       "      <th>_c15</th>\n",
       "      <th>_c16</th>\n",
       "      <th>_c17</th>\n",
       "      <th>_c18</th>\n",
       "      <th>_c19</th>\n",
       "      <th>_c20</th>\n",
       "      <th>_c21</th>\n",
       "      <th>_c22</th>\n",
       "      <th>_c23</th>\n",
       "      <th>_c24</th>\n",
       "      <th>_c25</th>\n",
       "      <th>_c26</th>\n",
       "      <th>_c27</th>\n",
       "      <th>_c28</th>\n",
       "      <th>_c29</th>\n",
       "      <th>_c30</th>\n",
       "      <th>_c31</th>\n",
       "      <th>_c32</th>\n",
       "      <th>_c33</th>\n",
       "      <th>_c34</th>\n",
       "      <th>_c35</th>\n",
       "      <th>_c36</th>\n",
       "      <th>_c37</th>\n",
       "      <th>_c38</th>\n",
       "      <th>_c39</th>\n",
       "    </tr>\n",
       "  </thead>\n",
       "  <tbody>\n",
       "    <tr>\n",
       "      <th>0</th>\n",
       "      <td>0</td>\n",
       "      <td>8</td>\n",
       "      <td>223</td>\n",
       "      <td>1</td>\n",
       "      <td>32</td>\n",
       "      <td>2</td>\n",
       "      <td>0</td>\n",
       "      <td>0</td>\n",
       "      <td>69</td>\n",
       "      <td>3</td>\n",
       "      <td>0</td>\n",
       "      <td>2</td>\n",
       "      <td>4707</td>\n",
       "      <td>1</td>\n",
       "      <td>265366bf</td>\n",
       "      <td>24caec4f</td>\n",
       "      <td>932ddfee</td>\n",
       "      <td>f2463ffb</td>\n",
       "      <td>c6fc10d3</td>\n",
       "      <td>6fcd6dcb</td>\n",
       "      <td>ad02a432</td>\n",
       "      <td>ab96c6b2</td>\n",
       "      <td>25dd8f9a</td>\n",
       "      <td>e63d98b4</td>\n",
       "      <td>c939136f</td>\n",
       "      <td>e3d4df3e</td>\n",
       "      <td>a77a4a56</td>\n",
       "      <td>None</td>\n",
       "      <td>eff53493</td>\n",
       "      <td>None</td>\n",
       "      <td>None</td>\n",
       "      <td>b8170bba</td>\n",
       "      <td>108a0699</td>\n",
       "      <td>47849e55</td>\n",
       "      <td>73b3f46d</td>\n",
       "      <td>d994ba60</td>\n",
       "      <td>None</td>\n",
       "      <td>760e09bc</td>\n",
       "      <td>321935cd</td>\n",
       "      <td>2ba8d787</td>\n",
       "    </tr>\n",
       "    <tr>\n",
       "      <th>1</th>\n",
       "      <td>0</td>\n",
       "      <td>1</td>\n",
       "      <td>38</td>\n",
       "      <td>None</td>\n",
       "      <td>None</td>\n",
       "      <td>None</td>\n",
       "      <td>None</td>\n",
       "      <td>0</td>\n",
       "      <td>5</td>\n",
       "      <td>0</td>\n",
       "      <td>None</td>\n",
       "      <td>None</td>\n",
       "      <td>13517</td>\n",
       "      <td>None</td>\n",
       "      <td>63e67382</td>\n",
       "      <td>97a91798</td>\n",
       "      <td>525811ca</td>\n",
       "      <td>f2463ffb</td>\n",
       "      <td>fcd84ac3</td>\n",
       "      <td>6fcd6dcb</td>\n",
       "      <td>eb692257</td>\n",
       "      <td>ac315d60</td>\n",
       "      <td>7cee8453</td>\n",
       "      <td>4267e2cb</td>\n",
       "      <td>6dda7ece</td>\n",
       "      <td>12716184</td>\n",
       "      <td>e07cc34d</td>\n",
       "      <td>be4ee537</td>\n",
       "      <td>d4c60724</td>\n",
       "      <td>4cdc3efa</td>\n",
       "      <td>d20856aa</td>\n",
       "      <td>b8170bba</td>\n",
       "      <td>9512c20b</td>\n",
       "      <td>0d960318</td>\n",
       "      <td>399fd66f</td>\n",
       "      <td>d660281b</td>\n",
       "      <td>15992145</td>\n",
       "      <td>21db0004</td>\n",
       "      <td>30436bfc</td>\n",
       "      <td>ed10571d</td>\n",
       "    </tr>\n",
       "    <tr>\n",
       "      <th>2</th>\n",
       "      <td>0</td>\n",
       "      <td>9</td>\n",
       "      <td>6</td>\n",
       "      <td>14</td>\n",
       "      <td>22</td>\n",
       "      <td>3</td>\n",
       "      <td>16</td>\n",
       "      <td>1</td>\n",
       "      <td>28</td>\n",
       "      <td>13</td>\n",
       "      <td>1</td>\n",
       "      <td>1</td>\n",
       "      <td>30</td>\n",
       "      <td>14</td>\n",
       "      <td>a97d405b</td>\n",
       "      <td>31183454</td>\n",
       "      <td>af84cf44</td>\n",
       "      <td>b0c5e548</td>\n",
       "      <td>8884f6ae</td>\n",
       "      <td>6fcd6dcb</td>\n",
       "      <td>a2e8808c</td>\n",
       "      <td>038e402d</td>\n",
       "      <td>2e4e821f</td>\n",
       "      <td>7f4cef0b</td>\n",
       "      <td>c105c127</td>\n",
       "      <td>1ce0bd3f</td>\n",
       "      <td>f4fc3c5e</td>\n",
       "      <td>None</td>\n",
       "      <td>6d7cfde6</td>\n",
       "      <td>None</td>\n",
       "      <td>None</td>\n",
       "      <td>b8170bba</td>\n",
       "      <td>9512c20b</td>\n",
       "      <td>a466e33d</td>\n",
       "      <td>4f310910</td>\n",
       "      <td>0e5f8d91</td>\n",
       "      <td>None</td>\n",
       "      <td>99c2f4d8</td>\n",
       "      <td>30436bfc</td>\n",
       "      <td>2ccea557</td>\n",
       "    </tr>\n",
       "    <tr>\n",
       "      <th>3</th>\n",
       "      <td>0</td>\n",
       "      <td>None</td>\n",
       "      <td>902</td>\n",
       "      <td>2</td>\n",
       "      <td>5</td>\n",
       "      <td>67</td>\n",
       "      <td>8</td>\n",
       "      <td>0</td>\n",
       "      <td>14</td>\n",
       "      <td>45</td>\n",
       "      <td>1</td>\n",
       "      <td>18</td>\n",
       "      <td>105</td>\n",
       "      <td>2</td>\n",
       "      <td>265366bf</td>\n",
       "      <td>d0bb2640</td>\n",
       "      <td>fe54dcfd</td>\n",
       "      <td>386c49ee</td>\n",
       "      <td>e755064d</td>\n",
       "      <td>6fcd6dcb</td>\n",
       "      <td>d935d694</td>\n",
       "      <td>d4612c5c</td>\n",
       "      <td>54fc547f</td>\n",
       "      <td>e63d98b4</td>\n",
       "      <td>c939136f</td>\n",
       "      <td>8c1feb42</td>\n",
       "      <td>26bb0b02</td>\n",
       "      <td>None</td>\n",
       "      <td>08527e4c</td>\n",
       "      <td>None</td>\n",
       "      <td>None</td>\n",
       "      <td>b8170bba</td>\n",
       "      <td>9512c20b</td>\n",
       "      <td>47849e55</td>\n",
       "      <td>73b3f46d</td>\n",
       "      <td>d994ba60</td>\n",
       "      <td>None</td>\n",
       "      <td>118885ac</td>\n",
       "      <td>337b81aa</td>\n",
       "      <td>b757e957</td>\n",
       "    </tr>\n",
       "    <tr>\n",
       "      <th>4</th>\n",
       "      <td>0</td>\n",
       "      <td>None</td>\n",
       "      <td>None</td>\n",
       "      <td>None</td>\n",
       "      <td>4</td>\n",
       "      <td>2</td>\n",
       "      <td>None</td>\n",
       "      <td>None</td>\n",
       "      <td>-1</td>\n",
       "      <td>0</td>\n",
       "      <td>None</td>\n",
       "      <td>2</td>\n",
       "      <td>43869</td>\n",
       "      <td>None</td>\n",
       "      <td>1ddd5ac8</td>\n",
       "      <td>f2817b18</td>\n",
       "      <td>0d233bc8</td>\n",
       "      <td>3bf96b51</td>\n",
       "      <td>c6fc10d3</td>\n",
       "      <td>6fcd6dcb</td>\n",
       "      <td>10bced43</td>\n",
       "      <td>7b7db213</td>\n",
       "      <td>25dd8f9a</td>\n",
       "      <td>7a4c3e4a</td>\n",
       "      <td>573186f5</td>\n",
       "      <td>12716184</td>\n",
       "      <td>e07cc34d</td>\n",
       "      <td>None</td>\n",
       "      <td>66c05256</td>\n",
       "      <td>None</td>\n",
       "      <td>None</td>\n",
       "      <td>b8170bba</td>\n",
       "      <td>9512c20b</td>\n",
       "      <td>8270d1db</td>\n",
       "      <td>e154fe46</td>\n",
       "      <td>54567163</td>\n",
       "      <td>None</td>\n",
       "      <td>8723c359</td>\n",
       "      <td>321935cd</td>\n",
       "      <td>b757e957</td>\n",
       "    </tr>\n",
       "  </tbody>\n",
       "</table>\n",
       "</div>"
      ],
      "text/plain": [
       "  _c0   _c1   _c2   _c3   _c4   _c5   _c6   _c7 _c8 _c9  _c10  _c11   _c12  \\\n",
       "0   0     8   223     1    32     2     0     0  69   3     0     2   4707   \n",
       "1   0     1    38  None  None  None  None     0   5   0  None  None  13517   \n",
       "2   0     9     6    14    22     3    16     1  28  13     1     1     30   \n",
       "3   0  None   902     2     5    67     8     0  14  45     1    18    105   \n",
       "4   0  None  None  None     4     2  None  None  -1   0  None     2  43869   \n",
       "\n",
       "   _c13      _c14      _c15      _c16      _c17      _c18      _c19      _c20  \\\n",
       "0     1  265366bf  24caec4f  932ddfee  f2463ffb  c6fc10d3  6fcd6dcb  ad02a432   \n",
       "1  None  63e67382  97a91798  525811ca  f2463ffb  fcd84ac3  6fcd6dcb  eb692257   \n",
       "2    14  a97d405b  31183454  af84cf44  b0c5e548  8884f6ae  6fcd6dcb  a2e8808c   \n",
       "3     2  265366bf  d0bb2640  fe54dcfd  386c49ee  e755064d  6fcd6dcb  d935d694   \n",
       "4  None  1ddd5ac8  f2817b18  0d233bc8  3bf96b51  c6fc10d3  6fcd6dcb  10bced43   \n",
       "\n",
       "       _c21      _c22      _c23      _c24      _c25      _c26      _c27  \\\n",
       "0  ab96c6b2  25dd8f9a  e63d98b4  c939136f  e3d4df3e  a77a4a56      None   \n",
       "1  ac315d60  7cee8453  4267e2cb  6dda7ece  12716184  e07cc34d  be4ee537   \n",
       "2  038e402d  2e4e821f  7f4cef0b  c105c127  1ce0bd3f  f4fc3c5e      None   \n",
       "3  d4612c5c  54fc547f  e63d98b4  c939136f  8c1feb42  26bb0b02      None   \n",
       "4  7b7db213  25dd8f9a  7a4c3e4a  573186f5  12716184  e07cc34d      None   \n",
       "\n",
       "       _c28      _c29      _c30      _c31      _c32      _c33      _c34  \\\n",
       "0  eff53493      None      None  b8170bba  108a0699  47849e55  73b3f46d   \n",
       "1  d4c60724  4cdc3efa  d20856aa  b8170bba  9512c20b  0d960318  399fd66f   \n",
       "2  6d7cfde6      None      None  b8170bba  9512c20b  a466e33d  4f310910   \n",
       "3  08527e4c      None      None  b8170bba  9512c20b  47849e55  73b3f46d   \n",
       "4  66c05256      None      None  b8170bba  9512c20b  8270d1db  e154fe46   \n",
       "\n",
       "       _c35      _c36      _c37      _c38      _c39  \n",
       "0  d994ba60      None  760e09bc  321935cd  2ba8d787  \n",
       "1  d660281b  15992145  21db0004  30436bfc  ed10571d  \n",
       "2  0e5f8d91      None  99c2f4d8  30436bfc  2ccea557  \n",
       "3  d994ba60      None  118885ac  337b81aa  b757e957  \n",
       "4  54567163      None  8723c359  321935cd  b757e957  "
      ]
     },
     "execution_count": 4,
     "metadata": {},
     "output_type": "execute_result"
    }
   ],
   "source": [
    "(\n",
    "    spark.read.options(delimiter=\"\\t\")\n",
    "    .csv(\"/Users/akusok/wrkdir/criteo/day_0_sample/part_0.gz\")\n",
    "    .limit(5)\n",
    "    .toPandas()\n",
    ")"
   ]
  },
  {
   "cell_type": "markdown",
   "id": "e86b545a-00a3-4694-8d53-fcd1e5dd949a",
   "metadata": {},
   "source": [
    "#### Load training data\n",
    "\n",
    "Read known data fields with a schema"
   ]
  },
  {
   "cell_type": "code",
   "execution_count": 5,
   "id": "5f5c904b-0e32-4400-8275-bcd79bc9b009",
   "metadata": {},
   "outputs": [],
   "source": [
    "# loaded from auto-detect schema\n",
    "schema = StructType([\n",
    "    StructField('y', IntegerType(), True), \n",
    "    StructField('x1', IntegerType(), True), \n",
    "    StructField('x2', IntegerType(), True), \n",
    "    StructField('x3', IntegerType(), True), \n",
    "    StructField('x4', IntegerType(), True), \n",
    "    StructField('x5', IntegerType(), True), \n",
    "    StructField('x6', IntegerType(), True), \n",
    "    StructField('x7', IntegerType(), True), \n",
    "    StructField('x8', IntegerType(), True), \n",
    "    StructField('x9', IntegerType(), True), \n",
    "    StructField('x10', IntegerType(), True), \n",
    "    StructField('x11', IntegerType(), True), \n",
    "    StructField('x12', IntegerType(), True), \n",
    "    StructField('x13', IntegerType(), True), \n",
    "])"
   ]
  },
  {
   "cell_type": "code",
   "execution_count": 6,
   "id": "69d83002-9370-4a0c-bc0c-48db57e922eb",
   "metadata": {},
   "outputs": [
    {
     "name": "stdout",
     "output_type": "stream",
     "text": [
      "+---+----+----+----+----+----+----+---+---+---+----+----+------+----+\n",
      "|  y|  x1|  x2|  x3|  x4|  x5|  x6| x7| x8| x9| x10| x11|   x12| x13|\n",
      "+---+----+----+----+----+----+----+---+---+---+----+----+------+----+\n",
      "|  0|   2| 190|   2|null|null|   0|  0|116|  0|   0|null|388772|   2|\n",
      "|  0|   5|1030|   0|  74|   3|   0|  0|  7| 39|   0|   3|   475|  33|\n",
      "|  0|  77|2083|   8|null|null|   0|  0| 17|  6|   0|null|  4973|  35|\n",
      "|  0|  33| 403|  12|  36|   5|   0|  0| 22| 12|   0|   3|  5122|  12|\n",
      "|  0|  37|   1|  15|null|null|   0|  0| 49|  0|   0|null|    69|  22|\n",
      "|  0|   3| 217|   1|null|  18|   0|  0|  3|  0|   0|   3| 16557|   1|\n",
      "|  0|   5|  33|null|null|null|null|  0|  0|  0|null|null|  4776|null|\n",
      "|  0|   7| 124|   1|null|null|   0|  0| 15|  7|   0|null|  1501|   1|\n",
      "|  0|   1|  23|   5|null|null|   2|  0|  1|  5|   1|null|   917|   5|\n",
      "|  0|   3| 237|   2|null|  12|   0|  0|418|  0|   0|   7|  8507|   2|\n",
      "|  0|   1|null|null|null|null|   0|  0|  1|  5|   0|null|   590|null|\n",
      "|  0|  28|null|   6|  48|null|   1|  0|  7|  0|   1|null|   813|   7|\n",
      "|  0|null| 611|null| 135|   5|null|  0| -1|  1|null|   5| 10121|null|\n",
      "|  0|  58|null|  10| 139|null|   0|  0| 58| 15|   0|null|  1722|  54|\n",
      "|  0| 561| 112|   0|  64|   1|   1|  0| 10|  1|   1|   1|   905|  19|\n",
      "|  0|   3|null|   6|   6|   2|   0|  0|  2|  7|   0|   1|  8700|   6|\n",
      "|  0|null|  21|null|null|  10|   0|  0|  0| 13|   0|   2|   537|null|\n",
      "|  0|   8| 337|   9| 445|null|   0|  0|  1| 26|   0|null|  4324|   9|\n",
      "|  0|   9| 151|   0|4294|null|   0|  0|  2| 31|   0|null|  4708|  49|\n",
      "|  0|   3|  17|   3|  23|   4|   0|  0| 58| 18|   0|   1|  1771|   3|\n",
      "+---+----+----+----+----+----+----+---+---+---+----+----+------+----+\n",
      "only showing top 20 rows\n",
      "\n"
     ]
    }
   ],
   "source": [
    "df_data = spark.read.options(delimiter=\"\\t\").csv(\"/Users/akusok/wrkdir/criteo/day_0_sample\", schema=schema)\n",
    "\n",
    "df_data.show()"
   ]
  },
  {
   "cell_type": "code",
   "execution_count": 7,
   "id": "0a5cf2bd-e9da-4c96-aefb-bc98ffcec0de",
   "metadata": {},
   "outputs": [
    {
     "name": "stderr",
     "output_type": "stream",
     "text": [
      "                                                                                \r"
     ]
    },
    {
     "data": {
      "text/plain": [
       "'Data has 1.567143 millions of rows'"
      ]
     },
     "execution_count": 7,
     "metadata": {},
     "output_type": "execute_result"
    }
   ],
   "source": [
    "f\"Data has {df_data.count() / 1e6} millions of rows\""
   ]
  },
  {
   "cell_type": "code",
   "execution_count": 8,
   "id": "caf35519-0943-45e5-80b7-6ddc003385e1",
   "metadata": {
    "tags": []
   },
   "outputs": [
    {
     "name": "stderr",
     "output_type": "stream",
     "text": [
      "[Stage 6:>                                                          (0 + 8) / 8]\r"
     ]
    },
    {
     "name": "stdout",
     "output_type": "stream",
     "text": [
      "+---+--------+\n",
      "|  y|count(1)|\n",
      "+---+--------+\n",
      "|  1|   50446|\n",
      "|  0| 1516697|\n",
      "+---+--------+\n",
      "\n"
     ]
    },
    {
     "name": "stderr",
     "output_type": "stream",
     "text": [
      "                                                                                \r"
     ]
    }
   ],
   "source": [
    "df_data.groupby(\"y\").agg(F.count(\"*\")).show()"
   ]
  },
  {
   "cell_type": "markdown",
   "id": "b1f13826-4f9d-4fb7-adb9-4341426ee77e",
   "metadata": {
    "tags": []
   },
   "source": [
    "## Setup"
   ]
  },
  {
   "cell_type": "code",
   "execution_count": 9,
   "id": "56fc38de-7ce8-4c27-9b5c-c2aeb30ea66d",
   "metadata": {},
   "outputs": [],
   "source": [
    "d = 13  # number of features in X\n",
    "num_out = 1  # number of features in Y\n",
    "\n",
    "l = 100  # number of hidden neurons"
   ]
  },
  {
   "cell_type": "code",
   "execution_count": 10,
   "id": "ada85499-1950-47e7-aa12-42bff35c290a",
   "metadata": {},
   "outputs": [],
   "source": [
    "batch_N = 5000\n",
    "batch_l = 65"
   ]
  },
  {
   "cell_type": "code",
   "execution_count": 11,
   "id": "2dafffe6-7c84-4948-9400-46c2ce143def",
   "metadata": {},
   "outputs": [],
   "source": [
    "W = np.random.randn(d, l-1)\n",
    "W = np.hstack([ W, np.zeros((W.shape[0], 1)) ])  # zero-neuron that adds bias\n",
    "\n",
    "# bias constant\n",
    "b = np.zeros((1, l))\n",
    "b[0, -1] = 1"
   ]
  },
  {
   "cell_type": "code",
   "execution_count": 12,
   "id": "3ca418e8-4aad-49e0-8755-c242b0118e3a",
   "metadata": {},
   "outputs": [
    {
     "data": {
      "text/plain": [
       "((13, 100), (1, 100))"
      ]
     },
     "execution_count": 12,
     "metadata": {},
     "output_type": "execute_result"
    }
   ],
   "source": [
    "W.shape, b.shape"
   ]
  },
  {
   "cell_type": "markdown",
   "id": "61e30ea9-b1f2-4b53-87e1-7af220575ea5",
   "metadata": {},
   "source": [
    "Broadcast ELM random weights to Spark"
   ]
  },
  {
   "cell_type": "code",
   "execution_count": 13,
   "id": "9fd77e97-f73d-45a2-a273-a93d07fe285e",
   "metadata": {},
   "outputs": [],
   "source": [
    "# condition check removes the last empty batch when W divides by batch size equally\n",
    "split_idx = [batch_l*(i+1) for i in range(l // batch_l) if batch_l*(i+1) < l]\n",
    "l_blocks = len(split_idx) + 1\n",
    "\n",
    "# split W and bias at once\n",
    "Wb = [(wb, bias_b) for wb,bias_b in zip(\n",
    "    np.array_split(W, split_idx, axis=1),\n",
    "    np.array_split(b, split_idx, axis=1)\n",
    ")]"
   ]
  },
  {
   "cell_type": "code",
   "execution_count": 14,
   "id": "0368bb9f-73d3-4054-81a1-e3a7f1aaf743",
   "metadata": {},
   "outputs": [],
   "source": [
    "spWb = sc.parallelize(enumerate(Wb))\n",
    "spW2 = sc.broadcast(spWb.cartesian(spWb).collect())\n",
    "\n",
    "# for H'Y computation\n",
    "spW0 = sc.broadcast(W)\n",
    "spb0 = sc.broadcast(b)"
   ]
  },
  {
   "cell_type": "markdown",
   "id": "6fe96118-bba6-40c5-9e88-39b567c4dc1d",
   "metadata": {},
   "source": [
    "## Process a bunch of Numpy arrays into chunks of HH arrays\n",
    "\n",
    "## _PYSPARK_"
   ]
  },
  {
   "cell_type": "code",
   "execution_count": 15,
   "id": "72214054-71e4-49b0-aed5-75d3a14aa11d",
   "metadata": {},
   "outputs": [],
   "source": [
    "def compute(buffer):\n",
    "    data0 = pd.DataFrame(buffer).fillna(-1).to_numpy().astype(int)\n",
    "    y0 = data0[:, :num_out]  # first `num_out` data columns belong to Y, rest to X\n",
    "    x0 = data0[:, num_out:]\n",
    "\n",
    "    for w in spW2.value:\n",
    "        i, (w1, b1) = w[0]\n",
    "        j, (w2, b2) = w[1]\n",
    "\n",
    "        if j < i:\n",
    "            yield ((i, j), (0, 0))  # format is  [ (HtH block coordinates), (HtH, HtY) ]\n",
    "        else:            \n",
    "            if i == 0 and j == 0:\n",
    "                # report HtY once per batch\n",
    "                yield (\n",
    "                    (i, j), ((np.tanh(x0@w1) + b1).T @ (np.tanh(x0@w2) + b2), np.tanh(x0@spW0.value + spb0.value).T @ y0))\n",
    "            else:\n",
    "                # Qb = (f(X0@Wb1) + bb1).T @ (f(X0@Wb2) + bb2)\n",
    "                yield ((i, j), ((np.tanh(x0@w1) + b1).T @ (np.tanh(x0@w2) + b2), 0))"
   ]
  },
  {
   "cell_type": "code",
   "execution_count": 16,
   "id": "2cb8be22-554e-4366-b0c8-6014a09c566a",
   "metadata": {},
   "outputs": [],
   "source": [
    "def process_partition(data):\n",
    "    buf = []\n",
    "    \n",
    "    for d in data:\n",
    "        buf.append(d)\n",
    "        if len(buf) >= batch_N:\n",
    "            yield from compute(buf)\n",
    "            buf = []\n",
    "            \n",
    "    if len(buf) > 0:\n",
    "        yield from compute(buf)"
   ]
  },
  {
   "cell_type": "markdown",
   "id": "13e8ce41-8c0a-4ae9-a0dc-ab115f9cbdc7",
   "metadata": {},
   "source": [
    "Define computational graph here - nothing runs yet"
   ]
  },
  {
   "cell_type": "code",
   "execution_count": 17,
   "id": "b65ce227-2755-4a6b-88be-9f948ca6a8f8",
   "metadata": {},
   "outputs": [],
   "source": [
    "spBlocks = (\n",
    "    df_data.rdd.map(np.array)\n",
    "    .mapPartitions(process_partition)\n",
    "    .foldByKey((0, 0), lambda a,b: (a[0]+b[0], a[1]+b[1]))\n",
    ")"
   ]
  },
  {
   "cell_type": "markdown",
   "id": "c1189197-aaee-4a6f-a867-2dd40ea2d530",
   "metadata": {},
   "source": [
    "## Request data to trigger computations"
   ]
  },
  {
   "cell_type": "code",
   "execution_count": 18,
   "id": "bf0fc78a-6dd3-4628-bde3-e830bcc92a01",
   "metadata": {},
   "outputs": [
    {
     "name": "stderr",
     "output_type": "stream",
     "text": [
      "[Stage 10:==================================================>       (7 + 1) / 8]\r"
     ]
    },
    {
     "name": "stdout",
     "output_type": "stream",
     "text": [
      "CPU times: user 14.1 ms, sys: 7.18 ms, total: 21.3 ms\n",
      "Wall time: 21.6 s\n"
     ]
    },
    {
     "name": "stderr",
     "output_type": "stream",
     "text": [
      "                                                                                \r"
     ]
    },
    {
     "data": {
      "text/plain": [
       "((100, 100), (100, 1))"
      ]
     },
     "execution_count": 18,
     "metadata": {},
     "output_type": "execute_result"
    }
   ],
   "source": [
    "%%time\n",
    "\n",
    "# prepare empty block matrix storage\n",
    "HtH_blocks = [[ [] for _ in range(l_blocks)  ] for _ in range(l_blocks)]\n",
    "HtY = 0\n",
    "\n",
    "# gather data into block matrix\n",
    "for (i, j), (HtH_part, HtY_part) in spBlocks.collect():\n",
    "    HtH_blocks[i][j] = HtH_part\n",
    "    HtY += HtY_part\n",
    "\n",
    "# fill missing triangular part\n",
    "for i in range(l_blocks):\n",
    "    for j in range(l_blocks):\n",
    "        if j > i:\n",
    "            HtH_blocks[j][i] = HtH_blocks[i][j].T\n",
    "\n",
    "HtH = np.block(HtH_blocks)\n",
    "HtH.shape, HtY.shape"
   ]
  },
  {
   "cell_type": "code",
   "execution_count": 19,
   "id": "3d97b4d1-10cf-42cf-99dd-c7529e65d8c5",
   "metadata": {},
   "outputs": [
    {
     "data": {
      "text/plain": [
       "1567143.0"
      ]
     },
     "execution_count": 19,
     "metadata": {},
     "output_type": "execute_result"
    }
   ],
   "source": [
    "HtH[-1,-1]"
   ]
  },
  {
   "cell_type": "markdown",
   "id": "dbbcf01d-3c5c-4dfa-9c21-9fa482dd76ef",
   "metadata": {},
   "source": [
    "## Compute ELM output weights"
   ]
  },
  {
   "cell_type": "code",
   "execution_count": 20,
   "id": "bbe05ea1-91bf-4d70-b4e3-b8e959aa02d1",
   "metadata": {},
   "outputs": [],
   "source": [
    "from scipy.linalg import lstsq"
   ]
  },
  {
   "cell_type": "code",
   "execution_count": 31,
   "id": "cc0527b6-4b81-46ec-8d7a-359dd359d637",
   "metadata": {},
   "outputs": [
    {
     "data": {
      "text/plain": [
       "(100, 1)"
      ]
     },
     "execution_count": 31,
     "metadata": {},
     "output_type": "execute_result"
    }
   ],
   "source": [
    "# add L2-regularization to the diagonal to HtH\n",
    "B = lstsq(HtH + 1e+1 * np.eye(HtH.shape[0]), HtY)[0]\n",
    "B.shape"
   ]
  },
  {
   "cell_type": "markdown",
   "id": "07e28902-b48e-478f-a342-00e5d04989a0",
   "metadata": {},
   "source": [
    "## Test with another file"
   ]
  },
  {
   "cell_type": "code",
   "execution_count": 33,
   "id": "daa1782b-3225-4a6c-a0ca-31f6f58e9ed2",
   "metadata": {},
   "outputs": [
    {
     "name": "stdout",
     "output_type": "stream",
     "text": [
      "+---+---+----+----+----+----+----+---+---+---+----+----+-----+----+\n",
      "|  y| x1|  x2|  x3|  x4|  x5|  x6| x7| x8| x9| x10| x11|  x12| x13|\n",
      "+---+---+----+----+----+----+----+---+---+---+----+----+-----+----+\n",
      "|  0| 29| 285|   6|  93|  19|   0|  0|  4|  4|   0|   4|  879|  16|\n",
      "|  0|  3|null|   3|null|null|   0|  0|  3|  3|   0|null| 2010|   3|\n",
      "|  0|  3| 397|   1|null|   1|   0|  0| 16| 12|   0|   1|20721|   6|\n",
      "|  0|  1| 182|null|null|null|   0|  0|  1| 18|   0|null| 7248|null|\n",
      "|  0|  1| 523|null|null|   2|null|  0|  0|  0|null|   1| 7414|null|\n",
      "+---+---+----+----+----+----+----+---+---+---+----+----+-----+----+\n",
      "only showing top 5 rows\n",
      "\n"
     ]
    }
   ],
   "source": [
    "df_test = spark.read.options(delimiter=\"\\t\").csv(\"/Users/akusok/wrkdir/criteo/day_0/part_20.gz\", schema=schema)\n",
    "\n",
    "df_test.show(5)"
   ]
  },
  {
   "cell_type": "code",
   "execution_count": 34,
   "id": "fb983704-576a-4923-bc8f-c53689bde758",
   "metadata": {},
   "outputs": [
    {
     "name": "stderr",
     "output_type": "stream",
     "text": [
      "                                                                                \r"
     ]
    }
   ],
   "source": [
    "X_test = df_test.toPandas().fillna(-1).iloc[:, 1:].to_numpy()\n",
    "Y_test = df_test.toPandas().fillna(-1).iloc[:, 0].to_numpy()"
   ]
  },
  {
   "cell_type": "code",
   "execution_count": 35,
   "id": "6d336bd0-24dd-4d84-b497-4691c87f7b43",
   "metadata": {},
   "outputs": [],
   "source": [
    "Y_score = np.tanh(X_test @ W + b) @ B"
   ]
  },
  {
   "cell_type": "code",
   "execution_count": 36,
   "id": "bd6598eb-949d-4ea9-b91a-2ac05d2e405a",
   "metadata": {},
   "outputs": [
    {
     "data": {
      "text/plain": [
       "<sklearn.metrics._plot.roc_curve.RocCurveDisplay at 0x15ccd4b50>"
      ]
     },
     "execution_count": 36,
     "metadata": {},
     "output_type": "execute_result"
    },
    {
     "data": {
      "image/png": "[encoded data removed]",
      "text/plain": [
       "<Figure size 432x288 with 1 Axes>"
      ]
     },
     "metadata": {
      "needs_background": "light"
     },
     "output_type": "display_data"
    }
   ],
   "source": [
    "from sklearn.metrics import RocCurveDisplay\n",
    "\n",
    "RocCurveDisplay.from_predictions(\n",
    "    Y_test,\n",
    "    Y_score,\n",
    "    color=\"darkorange\",\n",
    ")"
   ]
  },
  {
   "cell_type": "code",
   "execution_count": null,
   "id": "ac0404ff-96e8-4361-80a1-50e2c7602a77",
   "metadata": {},
   "outputs": [],
   "source": []
  }
 ],
 "metadata": {
  "kernelspec": {
   "display_name": "Python 3 (ipykernel)",
   "language": "python",
   "name": "python3"
  },
  "language_info": {
   "codemirror_mode": {
    "name": "ipython",
    "version": 3
   },
   "file_extension": ".py",
   "mimetype": "text/x-python",
   "name": "python",
   "nbconvert_exporter": "python",
   "pygments_lexer": "ipython3",
   "version": "3.10.5"
  }
 },
 "nbformat": 4,
 "nbformat_minor": 5
}
