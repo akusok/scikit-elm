{
 "cells": [
  {
   "cell_type": "code",
   "execution_count": 1,
   "id": "1abb58cd-5b16-4838-bd6a-6aa4902cfc23",
   "metadata": {},
   "outputs": [],
   "source": [
    "import gzip as gz\n",
    "import pandas as pd\n",
    "import numpy as np\n",
    "\n",
    "np.set_printoptions(suppress=True, precision=2)"
   ]
  },
  {
   "cell_type": "code",
   "execution_count": 2,
   "id": "a3477e53-2063-451e-a0cb-52a34048ee55",
   "metadata": {},
   "outputs": [],
   "source": [
    "import pyspark\n",
    "from pyspark.sql import SparkSession\n",
    "from pyspark.sql.types import StructType, StructField, IntegerType, StringType, FloatType\n",
    "\n",
    "from pyspark.sql import functions as F\n",
    "\n",
    "from operator import add"
   ]
  },
  {
   "cell_type": "code",
   "execution_count": 3,
   "id": "0db58a5a-50d1-4ca9-a175-1f3a2f7771be",
   "metadata": {},
   "outputs": [
    {
     "name": "stdout",
     "output_type": "stream",
     "text": [
      "22/12/09 13:04:08 WARN Utils: Your hostname, Antons-MacBook-Pro.local resolves to a loopback address: 127.0.0.1; using 172.20.10.2 instead (on interface en5)\n",
      "22/12/09 13:04:08 WARN Utils: Set SPARK_LOCAL_IP if you need to bind to another address\n"
     ]
    },
    {
     "name": "stderr",
     "output_type": "stream",
     "text": [
      "Setting default log level to \"WARN\".\n",
      "To adjust logging level use sc.setLogLevel(newLevel). For SparkR, use setLogLevel(newLevel).\n"
     ]
    },
    {
     "name": "stdout",
     "output_type": "stream",
     "text": [
      "22/12/09 13:04:09 WARN NativeCodeLoader: Unable to load native-hadoop library for your platform... using builtin-java classes where applicable\n",
      "22/12/09 13:04:11 WARN Utils: Service 'SparkUI' could not bind on port 4040. Attempting port 4041.\n"
     ]
    }
   ],
   "source": [
    "spark = SparkSession.builder.getOrCreate()\n",
    "sc = spark.sparkContext"
   ]
  },
  {
   "cell_type": "markdown",
   "id": "5ac01c79-67c6-4676-9895-dffdd8d99647",
   "metadata": {},
   "source": [
    "## Data"
   ]
  },
  {
   "cell_type": "markdown",
   "id": "4fe071df-537b-4a4f-80b5-c468c76835da",
   "metadata": {},
   "source": [
    "Read known data fields with a schema"
   ]
  },
  {
   "cell_type": "code",
   "execution_count": 4,
   "id": "5f5c904b-0e32-4400-8275-bcd79bc9b009",
   "metadata": {},
   "outputs": [],
   "source": [
    "# loaded from auto-detect schema\n",
    "schema = StructType([\n",
    "    StructField('y', IntegerType(), True), \n",
    "    StructField('x1', IntegerType(), True), \n",
    "    StructField('x2', IntegerType(), True), \n",
    "    StructField('x3', IntegerType(), True), \n",
    "    StructField('x4', IntegerType(), True), \n",
    "    StructField('x5', IntegerType(), True), \n",
    "    StructField('x6', IntegerType(), True), \n",
    "    StructField('x7', IntegerType(), True), \n",
    "    StructField('x8', IntegerType(), True), \n",
    "    StructField('x9', IntegerType(), True), \n",
    "    StructField('x10', IntegerType(), True), \n",
    "    StructField('x11', IntegerType(), True), \n",
    "    StructField('x12', IntegerType(), True), \n",
    "    StructField('x13', IntegerType(), True), \n",
    "])"
   ]
  },
  {
   "cell_type": "code",
   "execution_count": 5,
   "id": "69d83002-9370-4a0c-bc0c-48db57e922eb",
   "metadata": {},
   "outputs": [
    {
     "name": "stderr",
     "output_type": "stream",
     "text": [
      "[Stage 0:>                                                          (0 + 1) / 1]\r"
     ]
    },
    {
     "name": "stdout",
     "output_type": "stream",
     "text": [
      "+---+---+----+---+---+---+---+---+---+---+---+---+------+---+\n",
      "|  y| x1|  x2| x3| x4| x5| x6| x7| x8| x9|x10|x11|   x12|x13|\n",
      "+---+---+----+---+---+---+---+---+---+---+---+---+------+---+\n",
      "|  0|  2| 190|  2| -1| -1|  0|  0|116|  0|  0| -1|388772|  2|\n",
      "|  0|  5|1030|  0| 74|  3|  0|  0|  7| 39|  0|  3|   475| 33|\n",
      "|  0| 77|2083|  8| -1| -1|  0|  0| 17|  6|  0| -1|  4973| 35|\n",
      "|  0| 33| 403| 12| 36|  5|  0|  0| 22| 12|  0|  3|  5122| 12|\n",
      "|  0| 37|   1| 15| -1| -1|  0|  0| 49|  0|  0| -1|    69| 22|\n",
      "+---+---+----+---+---+---+---+---+---+---+---+---+------+---+\n",
      "only showing top 5 rows\n",
      "\n"
     ]
    },
    {
     "name": "stderr",
     "output_type": "stream",
     "text": [
      "                                                                                \r"
     ]
    }
   ],
   "source": [
    "df_data = spark.read.options(delimiter=\"\\t\").csv(\"/Users/akusok/wrkdir/criteo/day_0_sample\", schema=schema)\n",
    "df_data = df_data.fillna(-1)\n",
    "\n",
    "df_data.show(5)"
   ]
  },
  {
   "cell_type": "markdown",
   "id": "3bcd42f8-5fd4-4b81-b06e-1129909b0b81",
   "metadata": {},
   "source": [
    "#### Let's scale one column"
   ]
  },
  {
   "cell_type": "code",
   "execution_count": 6,
   "id": "f0024813-0721-4a2e-a232-5dc9cb86ddaf",
   "metadata": {},
   "outputs": [],
   "source": [
    "x12 = (\n",
    "    df_data\n",
    "    .limit(10000)\n",
    "    .agg(\n",
    "        F.mean(\"x12\").alias(\"m\"),\n",
    "        F.stddev(\"x12\").alias(\"s\"),\n",
    "    )\n",
    "    .collect()\n",
    ")"
   ]
  },
  {
   "cell_type": "code",
   "execution_count": 7,
   "id": "80939d8c-8daf-4a2b-9b47-ea8cedc3cb95",
   "metadata": {},
   "outputs": [
    {
     "data": {
      "text/plain": [
       "(23446.9994, 78512.2729654849)"
      ]
     },
     "execution_count": 7,
     "metadata": {},
     "output_type": "execute_result"
    }
   ],
   "source": [
    "m = x12[0]['m']\n",
    "s = x12[0]['s']\n",
    "\n",
    "m, s"
   ]
  },
  {
   "cell_type": "code",
   "execution_count": 8,
   "id": "4012990a-6303-40b7-a57a-7ff80b698965",
   "metadata": {},
   "outputs": [
    {
     "name": "stdout",
     "output_type": "stream",
     "text": [
      "+---+---+----+---+---+---+---+---+---+---+---+---+--------------------+---+\n",
      "|  y| x1|  x2| x3| x4| x5| x6| x7| x8| x9|x10|x11|                 x12|x13|\n",
      "+---+---+----+---+---+---+---+---+---+---+---+---+--------------------+---+\n",
      "|  0|  2| 190|  2| -1| -1|  0|  0|116|  0|  0| -1|   4.653094182620366|  2|\n",
      "|  0|  5|1030|  0| 74|  3|  0|  0|  7| 39|  0|  3|-0.29259119029834757| 33|\n",
      "|  0| 77|2083|  8| -1| -1|  0|  0| 17|  6|  0| -1|-0.23530078422416112| 35|\n",
      "|  0| 33| 403| 12| 36|  5|  0|  0| 22| 12|  0|  3|-0.23340299175972054| 12|\n",
      "|  0| 37|   1| 15| -1| -1|  0|  0| 49|  0|  0| -1|-0.29776235634239373| 22|\n",
      "+---+---+----+---+---+---+---+---+---+---+---+---+--------------------+---+\n",
      "only showing top 5 rows\n",
      "\n"
     ]
    }
   ],
   "source": [
    "df_data = df_data.withColumn(\"x12\", (F.col(\"x12\") - m) / s)\n",
    "\n",
    "df_data.show(5)"
   ]
  },
  {
   "cell_type": "markdown",
   "id": "9e704bed-fbc2-43a1-b40f-47be4d9b0de0",
   "metadata": {},
   "source": [
    "#### Scale outputs `y` for balanced representation"
   ]
  },
  {
   "cell_type": "code",
   "execution_count": 11,
   "id": "caf35519-0943-45e5-80b7-6ddc003385e1",
   "metadata": {
    "tags": []
   },
   "outputs": [
    {
     "name": "stderr",
     "output_type": "stream",
     "text": [
      "[Stage 8:>                                                          (0 + 8) / 8]\r"
     ]
    },
    {
     "name": "stdout",
     "output_type": "stream",
     "text": [
      "+---+--------+\n",
      "|  y|count(1)|\n",
      "+---+--------+\n",
      "|  1|   50446|\n",
      "|  0| 1516697|\n",
      "+---+--------+\n",
      "\n"
     ]
    },
    {
     "name": "stderr",
     "output_type": "stream",
     "text": [
      "                                                                                \r"
     ]
    }
   ],
   "source": [
    "df_data.groupby(\"y\").agg(F.count(\"*\")).show()"
   ]
  },
  {
   "cell_type": "code",
   "execution_count": 12,
   "id": "fc54d13f-383e-4a0a-8b41-0da731d13e78",
   "metadata": {},
   "outputs": [
    {
     "data": {
      "text/plain": [
       "30.065753478967608"
      ]
     },
     "execution_count": 12,
     "metadata": {},
     "output_type": "execute_result"
    }
   ],
   "source": [
    "1516697/50446"
   ]
  },
  {
   "cell_type": "code",
   "execution_count": 13,
   "id": "c2ec0461-d1cb-4660-b38a-9a5f6df67a3e",
   "metadata": {},
   "outputs": [],
   "source": [
    "df_data = df_data.withColumn(\"y\", F.col(\"y\") * 30)"
   ]
  },
  {
   "cell_type": "code",
   "execution_count": 14,
   "id": "02d1a3f6-bdce-47bc-907c-1d4444bfe0b8",
   "metadata": {},
   "outputs": [
    {
     "name": "stdout",
     "output_type": "stream",
     "text": [
      "+---+---+---+---+---+---+---+---+---+---+---+---+--------------------+---+\n",
      "|  y| x1| x2| x3| x4| x5| x6| x7| x8| x9|x10|x11|                 x12|x13|\n",
      "+---+---+---+---+---+---+---+---+---+---+---+---+--------------------+---+\n",
      "| 30| -1| -1| -1|  0| -1| -1|  0| -1|  0| -1| -1| -0.2948328780415794| -1|\n",
      "| 30|  1|466|  3|305|  7|  0|  0|  1|  5|  0|  7|-0.09336119211861783|  3|\n",
      "| 30| -1| 68| -1|  2|  8| -1|  0| -1|  3| -1|  1|  0.2310466875411262| -1|\n",
      "| 30| -1| -1|  1|  1| -1|  3|  0|  1|  1|  1| -1| -0.2939922451378675|  1|\n",
      "| 30|  1| 36|  2| -1| -1|  0|  0|  0|  2|  0| -1| -0.2967561442303749|  2|\n",
      "+---+---+---+---+---+---+---+---+---+---+---+---+--------------------+---+\n",
      "only showing top 5 rows\n",
      "\n"
     ]
    }
   ],
   "source": [
    "df_data.filter(\"y > 0\").show(5)"
   ]
  },
  {
   "cell_type": "markdown",
   "id": "b1f13826-4f9d-4fb7-adb9-4341426ee77e",
   "metadata": {
    "tags": []
   },
   "source": [
    "## Setup"
   ]
  },
  {
   "cell_type": "code",
   "execution_count": 15,
   "id": "56fc38de-7ce8-4c27-9b5c-c2aeb30ea66d",
   "metadata": {},
   "outputs": [],
   "source": [
    "d = 13  # number of features in X\n",
    "num_out = 1  # number of features in Y\n",
    "\n",
    "l = 100  # number of hidden neurons"
   ]
  },
  {
   "cell_type": "code",
   "execution_count": 16,
   "id": "ada85499-1950-47e7-aa12-42bff35c290a",
   "metadata": {},
   "outputs": [],
   "source": [
    "batch_N = 5000\n",
    "batch_l = 65"
   ]
  },
  {
   "cell_type": "code",
   "execution_count": 17,
   "id": "2dafffe6-7c84-4948-9400-46c2ce143def",
   "metadata": {},
   "outputs": [],
   "source": [
    "W = np.random.randn(d, l-1)\n",
    "W = np.hstack([ W, np.zeros((W.shape[0], 1)) ])  # zero-neuron that adds bias\n",
    "\n",
    "# bias constant\n",
    "b = np.zeros((1, l))\n",
    "b[0, -1] = 1"
   ]
  },
  {
   "cell_type": "code",
   "execution_count": 18,
   "id": "3ca418e8-4aad-49e0-8755-c242b0118e3a",
   "metadata": {},
   "outputs": [
    {
     "data": {
      "text/plain": [
       "((13, 100), (1, 100))"
      ]
     },
     "execution_count": 18,
     "metadata": {},
     "output_type": "execute_result"
    }
   ],
   "source": [
    "W.shape, b.shape"
   ]
  },
  {
   "cell_type": "markdown",
   "id": "61e30ea9-b1f2-4b53-87e1-7af220575ea5",
   "metadata": {},
   "source": [
    "Broadcast ELM random weights to Spark"
   ]
  },
  {
   "cell_type": "code",
   "execution_count": 19,
   "id": "9fd77e97-f73d-45a2-a273-a93d07fe285e",
   "metadata": {},
   "outputs": [],
   "source": [
    "# condition check removes the last empty batch when W divides by batch size equally\n",
    "split_idx = [batch_l*(i+1) for i in range(l // batch_l) if batch_l*(i+1) < l]\n",
    "l_blocks = len(split_idx) + 1\n",
    "\n",
    "# split W and bias at once\n",
    "Wb = [(wb, bias_b) for wb,bias_b in zip(\n",
    "    np.array_split(W, split_idx, axis=1),\n",
    "    np.array_split(b, split_idx, axis=1)\n",
    ")]"
   ]
  },
  {
   "cell_type": "code",
   "execution_count": 20,
   "id": "0368bb9f-73d3-4054-81a1-e3a7f1aaf743",
   "metadata": {},
   "outputs": [],
   "source": [
    "spWb = sc.parallelize(enumerate(Wb))\n",
    "spW2 = sc.broadcast(spWb.cartesian(spWb).collect())\n",
    "\n",
    "# for H'Y computation\n",
    "spW0 = sc.broadcast(W)\n",
    "spb0 = sc.broadcast(b)"
   ]
  },
  {
   "cell_type": "markdown",
   "id": "6fe96118-bba6-40c5-9e88-39b567c4dc1d",
   "metadata": {},
   "source": [
    "## Process a bunch of Numpy arrays into chunks of HH arrays\n",
    "\n",
    "## _PYSPARK_"
   ]
  },
  {
   "cell_type": "code",
   "execution_count": 21,
   "id": "72214054-71e4-49b0-aed5-75d3a14aa11d",
   "metadata": {},
   "outputs": [],
   "source": [
    "def compute(buffer):\n",
    "    data0 = pd.DataFrame(buffer).fillna(-1).to_numpy().astype(int)\n",
    "    y0 = data0[:, :num_out]  # first `num_out` data columns belong to Y, rest to X\n",
    "    x0 = data0[:, num_out:]\n",
    "\n",
    "    for w in spW2.value:\n",
    "        i, (w1, b1) = w[0]\n",
    "        j, (w2, b2) = w[1]\n",
    "\n",
    "        if j < i:\n",
    "            yield ((i, j), (0, 0))  # format is  [ (HtH block coordinates), (HtH, HtY) ]\n",
    "        else:            \n",
    "            if i == 0 and j == 0:\n",
    "                # report HtY once per batch\n",
    "                yield (\n",
    "                    (i, j), ((np.tanh(x0@w1) + b1).T @ (np.tanh(x0@w2) + b2), np.tanh(x0@spW0.value + spb0.value).T @ y0))\n",
    "            else:\n",
    "                # Qb = (f(X0@Wb1) + bb1).T @ (f(X0@Wb2) + bb2)\n",
    "                yield ((i, j), ((np.tanh(x0@w1) + b1).T @ (np.tanh(x0@w2) + b2), 0))"
   ]
  },
  {
   "cell_type": "code",
   "execution_count": 22,
   "id": "2cb8be22-554e-4366-b0c8-6014a09c566a",
   "metadata": {},
   "outputs": [],
   "source": [
    "def process_partition(data):\n",
    "    buf = []\n",
    "    \n",
    "    for d in data:\n",
    "        buf.append(d)\n",
    "        if len(buf) >= batch_N:\n",
    "            yield from compute(buf)\n",
    "            buf = []\n",
    "            \n",
    "    if len(buf) > 0:\n",
    "        yield from compute(buf)"
   ]
  },
  {
   "cell_type": "markdown",
   "id": "13e8ce41-8c0a-4ae9-a0dc-ab115f9cbdc7",
   "metadata": {},
   "source": [
    "Define computational graph here - nothing runs yet"
   ]
  },
  {
   "cell_type": "code",
   "execution_count": 23,
   "id": "b65ce227-2755-4a6b-88be-9f948ca6a8f8",
   "metadata": {},
   "outputs": [],
   "source": [
    "spBlocks = (\n",
    "    df_data.rdd.map(np.array)\n",
    "    .mapPartitions(process_partition)\n",
    "    .foldByKey((0, 0), lambda a,b: (a[0]+b[0], a[1]+b[1]))\n",
    ")"
   ]
  },
  {
   "cell_type": "markdown",
   "id": "c1189197-aaee-4a6f-a867-2dd40ea2d530",
   "metadata": {},
   "source": [
    "## Request data to trigger computations"
   ]
  },
  {
   "cell_type": "code",
   "execution_count": 24,
   "id": "bf0fc78a-6dd3-4628-bde3-e830bcc92a01",
   "metadata": {},
   "outputs": [
    {
     "name": "stderr",
     "output_type": "stream",
     "text": [
      "[Stage 13:>                                                         (0 + 8) / 8]\r"
     ]
    },
    {
     "name": "stdout",
     "output_type": "stream",
     "text": [
      "CPU times: user 14.9 ms, sys: 8.39 ms, total: 23.3 ms\n",
      "Wall time: 22.6 s\n"
     ]
    },
    {
     "name": "stderr",
     "output_type": "stream",
     "text": [
      "                                                                                \r"
     ]
    },
    {
     "data": {
      "text/plain": [
       "((100, 100), (100, 1))"
      ]
     },
     "execution_count": 24,
     "metadata": {},
     "output_type": "execute_result"
    }
   ],
   "source": [
    "%%time\n",
    "\n",
    "# prepare empty block matrix storage\n",
    "HtH_blocks = [[ [] for _ in range(l_blocks)  ] for _ in range(l_blocks)]\n",
    "HtY = 0\n",
    "\n",
    "# gather data into block matrix\n",
    "for (i, j), (HtH_part, HtY_part) in spBlocks.collect():\n",
    "    HtH_blocks[i][j] = HtH_part\n",
    "    HtY += HtY_part\n",
    "\n",
    "# fill missing triangular part\n",
    "for i in range(l_blocks):\n",
    "    for j in range(l_blocks):\n",
    "        if j > i:\n",
    "            HtH_blocks[j][i] = HtH_blocks[i][j].T\n",
    "\n",
    "HtH = np.block(HtH_blocks)\n",
    "HtH.shape, HtY.shape"
   ]
  },
  {
   "cell_type": "markdown",
   "id": "dbbcf01d-3c5c-4dfa-9c21-9fa482dd76ef",
   "metadata": {},
   "source": [
    "## Compute ELM output weights"
   ]
  },
  {
   "cell_type": "code",
   "execution_count": 25,
   "id": "bbe05ea1-91bf-4d70-b4e3-b8e959aa02d1",
   "metadata": {},
   "outputs": [],
   "source": [
    "from scipy.linalg import lstsq"
   ]
  },
  {
   "cell_type": "code",
   "execution_count": 33,
   "id": "cc0527b6-4b81-46ec-8d7a-359dd359d637",
   "metadata": {},
   "outputs": [
    {
     "data": {
      "text/plain": [
       "(100, 1)"
      ]
     },
     "execution_count": 33,
     "metadata": {},
     "output_type": "execute_result"
    }
   ],
   "source": [
    "# add L2-regularization to the diagonal to HtH\n",
    "B = lstsq(HtH + 1e+3 * np.eye(HtH.shape[0]), HtY)[0]\n",
    "B.shape"
   ]
  },
  {
   "cell_type": "markdown",
   "id": "07e28902-b48e-478f-a342-00e5d04989a0",
   "metadata": {},
   "source": [
    "## Test with another file"
   ]
  },
  {
   "cell_type": "code",
   "execution_count": 34,
   "id": "daa1782b-3225-4a6c-a0ca-31f6f58e9ed2",
   "metadata": {},
   "outputs": [
    {
     "name": "stdout",
     "output_type": "stream",
     "text": [
      "+---+---+---+---+---+---+---+---+---+---+---+---+-----+---+\n",
      "|  y| x1| x2| x3| x4| x5| x6| x7| x8| x9|x10|x11|  x12|x13|\n",
      "+---+---+---+---+---+---+---+---+---+---+---+---+-----+---+\n",
      "|  0| 29|285|  6| 93| 19|  0|  0|  4|  4|  0|  4|  879| 16|\n",
      "|  0|  3| -1|  3| -1| -1|  0|  0|  3|  3|  0| -1| 2010|  3|\n",
      "|  0|  3|397|  1| -1|  1|  0|  0| 16| 12|  0|  1|20721|  6|\n",
      "|  0|  1|182| -1| -1| -1|  0|  0|  1| 18|  0| -1| 7248| -1|\n",
      "|  0|  1|523| -1| -1|  2| -1|  0|  0|  0| -1|  1| 7414| -1|\n",
      "+---+---+---+---+---+---+---+---+---+---+---+---+-----+---+\n",
      "only showing top 5 rows\n",
      "\n"
     ]
    }
   ],
   "source": [
    "df_test = spark.read.options(delimiter=\"\\t\").csv(\"/Users/akusok/wrkdir/criteo/day_0/part_20.gz\", schema=schema)\n",
    "df_test = df_test.fillna(-1)\n",
    "\n",
    "df_test.show(5)"
   ]
  },
  {
   "cell_type": "code",
   "execution_count": 35,
   "id": "93504350-98ab-4e11-8d69-5fb8c7c9f089",
   "metadata": {},
   "outputs": [],
   "source": [
    "df_test = (\n",
    "    df_test\n",
    "    .withColumn(\"x12\", (F.col(\"x12\") - m) / s)\n",
    ")"
   ]
  },
  {
   "cell_type": "code",
   "execution_count": 36,
   "id": "bc4cb3ae-62a3-49a6-a4c2-2310753a9bca",
   "metadata": {},
   "outputs": [
    {
     "name": "stdout",
     "output_type": "stream",
     "text": [
      "+---+---+---+---+---+---+---+---+---+---+---+---+--------------------+---+\n",
      "|  y| x1| x2| x3| x4| x5| x6| x7| x8| x9|x10|x11|                 x12|x13|\n",
      "+---+---+---+---+---+---+---+---+---+---+---+---+--------------------+---+\n",
      "|  0| 29|285|  6| 93| 19|  0|  0|  4|  4|  0|  4| -0.2874454979786563| 16|\n",
      "|  0|  3| -1|  3| -1| -1|  0|  0|  3|  3|  0| -1|-0.27304010685595625|  3|\n",
      "|  0|  3|397|  1| -1|  1|  0|  0| 16| 12|  0|  1|-0.03472067865362131|  6|\n",
      "+---+---+---+---+---+---+---+---+---+---+---+---+--------------------+---+\n",
      "only showing top 3 rows\n",
      "\n"
     ]
    }
   ],
   "source": [
    "df_test.show(3)"
   ]
  },
  {
   "cell_type": "code",
   "execution_count": 37,
   "id": "c2e8a25f-be07-4cae-9777-b38e5ee28c25",
   "metadata": {},
   "outputs": [
    {
     "name": "stderr",
     "output_type": "stream",
     "text": [
      "                                                                                \r"
     ]
    }
   ],
   "source": [
    "X_test = df_test.toPandas().iloc[:, 1:].to_numpy()\n",
    "Y_test = df_test.toPandas().iloc[:, 0].to_numpy()"
   ]
  },
  {
   "cell_type": "code",
   "execution_count": 38,
   "id": "6d336bd0-24dd-4d84-b497-4691c87f7b43",
   "metadata": {},
   "outputs": [],
   "source": [
    "Y_score = np.tanh(X_test @ W + b) @ B"
   ]
  },
  {
   "cell_type": "code",
   "execution_count": 39,
   "id": "bd6598eb-949d-4ea9-b91a-2ac05d2e405a",
   "metadata": {},
   "outputs": [
    {
     "data": {
      "text/plain": [
       "<sklearn.metrics._plot.roc_curve.RocCurveDisplay at 0x15a065ba0>"
      ]
     },
     "execution_count": 39,
     "metadata": {},
     "output_type": "execute_result"
    },
    {
     "data": {
      "image/png": "[encoded data removed]",
      "text/plain": [
       "<Figure size 432x288 with 1 Axes>"
      ]
     },
     "metadata": {
      "needs_background": "light"
     },
     "output_type": "display_data"
    }
   ],
   "source": [
    "from sklearn.metrics import RocCurveDisplay\n",
    "\n",
    "RocCurveDisplay.from_predictions(\n",
    "    Y_test,\n",
    "    Y_score,\n",
    "    color=\"darkorange\",\n",
    ")"
   ]
  },
  {
   "cell_type": "code",
   "execution_count": null,
   "id": "c51326d8-06ed-481f-8f96-618858475850",
   "metadata": {},
   "outputs": [],
   "source": []
  }
 ],
 "metadata": {
  "kernelspec": {
   "display_name": "Python 3 (ipykernel)",
   "language": "python",
   "name": "python3"
  },
  "language_info": {
   "codemirror_mode": {
    "name": "ipython",
    "version": 3
   },
   "file_extension": ".py",
   "mimetype": "text/x-python",
   "name": "python",
   "nbconvert_exporter": "python",
   "pygments_lexer": "ipython3",
   "version": "3.10.5"
  }
 },
 "nbformat": 4,
 "nbformat_minor": 5
}
