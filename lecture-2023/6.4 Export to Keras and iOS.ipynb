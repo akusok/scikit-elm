{
 "cells": [
  {
   "cell_type": "code",
   "execution_count": 1,
   "metadata": {},
   "outputs": [],
   "source": [
    "import sys\n",
    "import numpy as np\n",
    "sys.path.append(\"../\")"
   ]
  },
  {
   "cell_type": "markdown",
   "metadata": {},
   "source": [
    "## Load stuff"
   ]
  },
  {
   "cell_type": "code",
   "execution_count": null,
   "metadata": {},
   "outputs": [],
   "source": [
    "from sklearn.datasets import load_breast_cancer\n",
    "from sklearn.model_selection import train_test_split"
   ]
  },
  {
   "cell_type": "code",
   "execution_count": null,
   "metadata": {},
   "outputs": [],
   "source": [
    "X, y = load_breast_cancer(return_X_y=True)"
   ]
  },
  {
   "cell_type": "code",
   "execution_count": null,
   "metadata": {},
   "outputs": [],
   "source": [
    "X_train, X_test, y_train, y_test = train_test_split(X, y)"
   ]
  },
  {
   "cell_type": "code",
   "execution_count": null,
   "metadata": {},
   "outputs": [],
   "source": [
    "from sklearn.preprocessing import RobustScaler"
   ]
  },
  {
   "cell_type": "code",
   "execution_count": null,
   "metadata": {},
   "outputs": [],
   "source": [
    "rs = RobustScaler().fit(X_train)\n",
    "X_train = rs.transform(X_train)\n",
    "X_test = rs.transform(X_test)"
   ]
  },
  {
   "cell_type": "code",
   "execution_count": null,
   "metadata": {},
   "outputs": [],
   "source": [
    "y_train = np.stack((y_train, 1-y_train)).T\n",
    "y_test = np.stack((y_test, 1-y_test)).T"
   ]
  },
  {
   "cell_type": "markdown",
   "metadata": {},
   "source": [
    "## ELM base model"
   ]
  },
  {
   "cell_type": "code",
   "execution_count": null,
   "metadata": {},
   "outputs": [],
   "source": [
    "from skelm import ELMRegressor"
   ]
  },
  {
   "cell_type": "code",
   "execution_count": null,
   "metadata": {},
   "outputs": [],
   "source": [
    "elm = ELMRegressor()"
   ]
  },
  {
   "cell_type": "code",
   "execution_count": null,
   "metadata": {},
   "outputs": [],
   "source": [
    "elm.fit(X_train, y_train)"
   ]
  },
  {
   "cell_type": "code",
   "execution_count": null,
   "metadata": {},
   "outputs": [],
   "source": [
    "yh_test = elm.predict(X_test)"
   ]
  },
  {
   "cell_type": "code",
   "execution_count": null,
   "metadata": {},
   "outputs": [],
   "source": [
    "from sklearn.metrics import r2_score"
   ]
  },
  {
   "cell_type": "code",
   "execution_count": null,
   "metadata": {},
   "outputs": [],
   "source": [
    "r2_score(yh_test, y_test)"
   ]
  },
  {
   "cell_type": "markdown",
   "metadata": {},
   "source": [
    "## Collecting statistics about ELM model"
   ]
  },
  {
   "cell_type": "code",
   "execution_count": null,
   "metadata": {},
   "outputs": [],
   "source": [
    "from skelm.utils import HiddenLayerType"
   ]
  },
  {
   "cell_type": "code",
   "execution_count": null,
   "metadata": {},
   "outputs": [],
   "source": [
    "if len(elm.hidden_layers_) > 1:\n",
    "    raise RuntimeError(\"Only support a single neuron type for now\")\n",
    "    \n",
    "hl = elm.hidden_layers_[0]"
   ]
  },
  {
   "cell_type": "markdown",
   "metadata": {},
   "source": [
    "Hidden layers have no biases, makes things easier..."
   ]
  },
  {
   "cell_type": "code",
   "execution_count": null,
   "metadata": {},
   "outputs": [],
   "source": [
    "if hl.hidden_layer_ is not HiddenLayerType.RANDOM:\n",
    "    raise RuntimeError(\"Only support default dense hidden layers for now\")"
   ]
  },
  {
   "cell_type": "markdown",
   "metadata": {},
   "source": [
    "Processing hidden layers"
   ]
  },
  {
   "cell_type": "code",
   "execution_count": null,
   "metadata": {},
   "outputs": [],
   "source": [
    "hl = elm.hidden_layers_[0]"
   ]
  },
  {
   "cell_type": "code",
   "execution_count": null,
   "metadata": {},
   "outputs": [],
   "source": [
    "n = hl.projection_.n_components_\n",
    "W = hl.projection_.components_"
   ]
  },
  {
   "cell_type": "code",
   "execution_count": null,
   "metadata": {},
   "outputs": [],
   "source": [
    "if elm.ufunc == \"tanh\":\n",
    "    uf = \"tanh\"\n",
    "elif elm.ufunc == \"sigm\":\n",
    "    uf = \"sigmoid\"\n",
    "elif elm.ufunc == \"relu\":\n",
    "    uf = \"relu\"\n",
    "elif elm.ufunc in (\"lin\", None):\n",
    "    uf = None\n",
    "else:\n",
    "    raise RuntimeError(\"Only support 'tanh', 'sigmoid', 'relu' or linear ufuncs for now.\")\n",
    "\n",
    "u = uf"
   ]
  },
  {
   "cell_type": "markdown",
   "metadata": {},
   "source": [
    "Processing output layer"
   ]
  },
  {
   "cell_type": "code",
   "execution_count": null,
   "metadata": {},
   "outputs": [],
   "source": [
    "W_out = elm.coef_\n",
    "bias_out = elm.intercept_"
   ]
  },
  {
   "cell_type": "markdown",
   "metadata": {},
   "source": [
    "Processing other values"
   ]
  },
  {
   "cell_type": "code",
   "execution_count": null,
   "metadata": {},
   "outputs": [],
   "source": [
    "d_in = elm.n_features_\n",
    "d_out = 1 if len(W_out.shape) == 1 else W_out.shape[1]"
   ]
  },
  {
   "cell_type": "code",
   "execution_count": null,
   "metadata": {},
   "outputs": [],
   "source": [
    "d_in, d_out"
   ]
  },
  {
   "cell_type": "markdown",
   "metadata": {},
   "source": [
    "## Keras model re-creation"
   ]
  },
  {
   "cell_type": "code",
   "execution_count": null,
   "metadata": {},
   "outputs": [],
   "source": [
    "from keras.models import Sequential\n",
    "from keras.layers import Dense, Activation"
   ]
  },
  {
   "cell_type": "code",
   "execution_count": null,
   "metadata": {},
   "outputs": [],
   "source": [
    "kelm = Sequential([\n",
    "    Dense(n, activation=u, use_bias=False, input_dim=d_in),\n",
    "    Dense(d_out, use_bias=True)\n",
    "])"
   ]
  },
  {
   "cell_type": "code",
   "execution_count": null,
   "metadata": {},
   "outputs": [],
   "source": [
    "W_elm = [W.T, W_out, bias_out]"
   ]
  },
  {
   "cell_type": "code",
   "execution_count": null,
   "metadata": {},
   "outputs": [],
   "source": [
    "kelm.set_weights(W_elm)"
   ]
  },
  {
   "cell_type": "markdown",
   "metadata": {},
   "source": [
    "## Running and checking"
   ]
  },
  {
   "cell_type": "code",
   "execution_count": null,
   "metadata": {},
   "outputs": [],
   "source": [
    "y_est = kelm.predict(X_train)"
   ]
  },
  {
   "cell_type": "code",
   "execution_count": null,
   "metadata": {},
   "outputs": [],
   "source": [
    "r2_score(y_est, y_train)"
   ]
  },
  {
   "cell_type": "code",
   "execution_count": null,
   "metadata": {},
   "outputs": [],
   "source": [
    "y_est2 = kelm.predict(X_test)"
   ]
  },
  {
   "cell_type": "code",
   "execution_count": null,
   "metadata": {},
   "outputs": [],
   "source": [
    "r2_score(y_est2, y_test)"
   ]
  },
  {
   "cell_type": "code",
   "execution_count": null,
   "metadata": {},
   "outputs": [],
   "source": [
    "yh_elm = elm.predict(X_test)\n",
    "yh_kelm = kelm.predict(X_test)"
   ]
  },
  {
   "cell_type": "code",
   "execution_count": null,
   "metadata": {},
   "outputs": [],
   "source": [
    "np.set_printoptions(suppress=True)"
   ]
  },
  {
   "cell_type": "code",
   "execution_count": null,
   "metadata": {},
   "outputs": [],
   "source": [
    "np.abs(yh_elm - yh_kelm).mean(0)"
   ]
  },
  {
   "cell_type": "markdown",
   "metadata": {},
   "source": [
    "## Convert to iOS format"
   ]
  },
  {
   "cell_type": "code",
   "execution_count": null,
   "metadata": {},
   "outputs": [],
   "source": [
    "import coremltools"
   ]
  },
  {
   "cell_type": "code",
   "execution_count": null,
   "metadata": {},
   "outputs": [],
   "source": [
    "ielm = coremltools.converters.keras.convert(kelm)"
   ]
  },
  {
   "cell_type": "code",
   "execution_count": null,
   "metadata": {},
   "outputs": [],
   "source": [
    "ielm"
   ]
  },
  {
   "cell_type": "markdown",
   "metadata": {},
   "source": [
    "## Try to combine with feature extractor"
   ]
  },
  {
   "cell_type": "code",
   "execution_count": null,
   "metadata": {},
   "outputs": [],
   "source": [
    "from keras.applications.mobilenet import MobileNet, preprocess_input, decode_predictions"
   ]
  },
  {
   "cell_type": "code",
   "execution_count": null,
   "metadata": {},
   "outputs": [],
   "source": [
    "mnet = MobileNet(include_top=False, pooling=\"max\", input_shape=(224,224,3))"
   ]
  },
  {
   "cell_type": "raw",
   "metadata": {},
   "source": [
    "mnet.summary()"
   ]
  },
  {
   "cell_type": "raw",
   "metadata": {},
   "source": [
    "imnet = coremltools.converters.keras.convert(mnet)"
   ]
  },
  {
   "cell_type": "markdown",
   "metadata": {},
   "source": [
    "## Get image features, prepare the data"
   ]
  },
  {
   "cell_type": "code",
   "execution_count": null,
   "metadata": {},
   "outputs": [],
   "source": [
    "import os\n",
    "from PIL import Image"
   ]
  },
  {
   "cell_type": "code",
   "execution_count": null,
   "metadata": {},
   "outputs": [],
   "source": [
    "imgdir = \"/Users/akusok/wrkdir/caltech256_30_top\""
   ]
  },
  {
   "cell_type": "code",
   "execution_count": null,
   "metadata": {},
   "outputs": [],
   "source": [
    "imgfiles = []\n",
    "for root,_,files in os.walk(imgdir):\n",
    "    imgfiles.extend([os.path.join(root,f) for f in files if f.endswith(\".jpg\")])"
   ]
  },
  {
   "cell_type": "code",
   "execution_count": null,
   "metadata": {},
   "outputs": [],
   "source": [
    "# image classes\n",
    "for _,imgsubdirs,_ in os.walk(imgdir):\n",
    "    break"
   ]
  },
  {
   "cell_type": "code",
   "execution_count": null,
   "metadata": {},
   "outputs": [],
   "source": [
    "imgcls = [[c in f for c in imgsubdirs].index(True) for f in imgfiles]\n",
    "imgcls = np.array(imgcls)"
   ]
  },
  {
   "cell_type": "markdown",
   "metadata": {},
   "source": [
    "Loading images and cropping to rectangles"
   ]
  },
  {
   "cell_type": "code",
   "execution_count": null,
   "metadata": {},
   "outputs": [],
   "source": [
    "from multiprocessing import Pool"
   ]
  },
  {
   "cell_type": "code",
   "execution_count": null,
   "metadata": {},
   "outputs": [],
   "source": [
    "def foo(f):\n",
    "    img = Image.open(f)\n",
    "    x, y = img.size\n",
    "    m = min(x, y)\n",
    "    newsize = np.array([(x-m)/2, (y-m)/2, x - (x-m)/2, y-(y-m)/2], dtype=np.int)\n",
    "    newimg = img.resize((224, 224), box=newsize, resample=Image.LANCZOS)\n",
    "    if newimg.mode != \"RGB\":\n",
    "        newimg = newimg.convert(\"RGB\")\n",
    "        print(\"converting \", f)\n",
    "\n",
    "    f_out = f.replace(\"/Users/akusok/wrkdir/\", \"/Users/akusok/Documents/research-elm-twosystems/\")\n",
    "    os.makedirs(os.path.dirname(f_out), exist_ok=True)\n",
    "    newimg.save(f_out.replace(\".jpg\", \".png\"))\n",
    "    return newimg\n",
    "\n",
    "with Pool() as p:\n",
    "    imgscaled = p.map(foo, imgfiles)"
   ]
  },
  {
   "cell_type": "markdown",
   "metadata": {},
   "source": [
    "Get image features"
   ]
  },
  {
   "cell_type": "code",
   "execution_count": null,
   "metadata": {},
   "outputs": [],
   "source": [
    "mnet2 = MobileNet(include_top=True, input_shape=(224,224,3))"
   ]
  },
  {
   "cell_type": "code",
   "execution_count": null,
   "metadata": {},
   "outputs": [],
   "source": [
    "l = len(imgscaled)\n",
    "j = np.random.randint(l)\n",
    "#################\n",
    "j = 1671 \n",
    "#################\n",
    "imgscaled[j]"
   ]
  },
  {
   "cell_type": "code",
   "execution_count": null,
   "metadata": {},
   "outputs": [],
   "source": [
    "x = np.array(imgscaled[j])\n",
    "x = x[None,:]\n",
    "x = preprocess_input(x)"
   ]
  },
  {
   "cell_type": "code",
   "execution_count": null,
   "metadata": {},
   "outputs": [],
   "source": [
    "y = mnet2.predict(x)"
   ]
  },
  {
   "cell_type": "code",
   "execution_count": null,
   "metadata": {},
   "outputs": [],
   "source": [
    "decode_predictions(y)"
   ]
  },
  {
   "cell_type": "markdown",
   "metadata": {},
   "source": [
    "-------------------\n",
    "\n",
    "# !!! PREPROCESSING HERE !!!\n",
    "\n",
    "## X = X/127.5 - 1\n",
    "\n",
    "-------------------"
   ]
  },
  {
   "cell_type": "code",
   "execution_count": null,
   "metadata": {},
   "outputs": [],
   "source": [
    "imgdata = np.array([np.array(x)/127.5 - 1 for x in imgscaled])"
   ]
  },
  {
   "cell_type": "code",
   "execution_count": null,
   "metadata": {},
   "outputs": [],
   "source": [
    "res = [mnet.predict(b) for b in np.array_split(imgdata, 30)]"
   ]
  },
  {
   "cell_type": "code",
   "execution_count": null,
   "metadata": {},
   "outputs": [],
   "source": [
    "imgfeats = np.vstack(res)"
   ]
  },
  {
   "cell_type": "code",
   "execution_count": null,
   "metadata": {},
   "outputs": [],
   "source": [
    "Y = np.zeros((len(imgcls), 30), dtype=np.int)\n",
    "Y[range(len(imgcls)), imgcls] = 1"
   ]
  },
  {
   "cell_type": "code",
   "execution_count": null,
   "metadata": {},
   "outputs": [],
   "source": [
    "Xt, Xs, Yt, Ys, Ft, Fs = train_test_split(imgscaled, Y, imgfeats)"
   ]
  },
  {
   "cell_type": "code",
   "execution_count": null,
   "metadata": {},
   "outputs": [],
   "source": [
    "class_names = [i[4:] for i in imgsubdirs]\n",
    "\" / \".join(class_names)"
   ]
  },
  {
   "cell_type": "markdown",
   "metadata": {},
   "source": [
    "## Train ELM on image features"
   ]
  },
  {
   "cell_type": "code",
   "execution_count": null,
   "metadata": {},
   "outputs": [],
   "source": [
    "img_elm = ELMRegressor(n_neurons=700, alpha=1e-3)\n",
    "img_elm.fit(Ft, Yt)"
   ]
  },
  {
   "cell_type": "code",
   "execution_count": null,
   "metadata": {},
   "outputs": [],
   "source": [
    "np.mean(Yt.argmax(1) == img_elm.predict(Ft).argmax(1))"
   ]
  },
  {
   "cell_type": "code",
   "execution_count": null,
   "metadata": {},
   "outputs": [],
   "source": [
    "np.mean(Ys.argmax(1) == img_elm.predict(Fs).argmax(1))"
   ]
  },
  {
   "cell_type": "markdown",
   "metadata": {},
   "source": [
    "## Get ELM parameters (again)"
   ]
  },
  {
   "cell_type": "code",
   "execution_count": null,
   "metadata": {},
   "outputs": [],
   "source": [
    "hl = img_elm.hidden_layers_[0]"
   ]
  },
  {
   "cell_type": "code",
   "execution_count": null,
   "metadata": {},
   "outputs": [],
   "source": [
    "n = hl.projection_.n_components_\n",
    "W = hl.projection_.components_"
   ]
  },
  {
   "cell_type": "code",
   "execution_count": null,
   "metadata": {},
   "outputs": [],
   "source": [
    "if img_elm.ufunc == \"tanh\":\n",
    "    uf = \"tanh\"\n",
    "elif img_elm.ufunc == \"sigm\":\n",
    "    uf = \"sigmoid\"\n",
    "elif img_elm.ufunc == \"relu\":\n",
    "    uf = \"relu\"\n",
    "elif img_elm.ufunc in (\"lin\", None):\n",
    "    uf = None\n",
    "else:\n",
    "    raise RuntimeError(\"Only support 'tanh', 'sigmoid', 'relu' or linear ufuncs for now.\")\n",
    "\n",
    "u = uf"
   ]
  },
  {
   "cell_type": "markdown",
   "metadata": {},
   "source": [
    "Processing output layer"
   ]
  },
  {
   "cell_type": "code",
   "execution_count": null,
   "metadata": {},
   "outputs": [],
   "source": [
    "W_out = img_elm.coef_\n",
    "bias_out = img_elm.intercept_"
   ]
  },
  {
   "cell_type": "markdown",
   "metadata": {},
   "source": [
    "Processing other values"
   ]
  },
  {
   "cell_type": "code",
   "execution_count": null,
   "metadata": {},
   "outputs": [],
   "source": [
    "d_in = img_elm.n_features_\n",
    "d_out = 1 if len(W_out.shape) == 1 else W_out.shape[1]"
   ]
  },
  {
   "cell_type": "code",
   "execution_count": null,
   "metadata": {},
   "outputs": [],
   "source": [
    "d_in, d_out"
   ]
  },
  {
   "cell_type": "markdown",
   "metadata": {},
   "source": [
    "## Apped (fake) custom ELM layers to model"
   ]
  },
  {
   "cell_type": "code",
   "execution_count": null,
   "metadata": {},
   "outputs": [],
   "source": [
    "from keras import Model"
   ]
  },
  {
   "cell_type": "raw",
   "metadata": {},
   "source": [
    "kelm = Sequential([\n",
    "    Dense(n, activation=u, input_dim=d_in),\n",
    "    Dense(d_out, use_bias=True)\n",
    "])"
   ]
  },
  {
   "cell_type": "code",
   "execution_count": null,
   "metadata": {},
   "outputs": [],
   "source": [
    "x = mnet.layers[-1].output"
   ]
  },
  {
   "cell_type": "code",
   "execution_count": null,
   "metadata": {},
   "outputs": [],
   "source": [
    "x = Dense(n, activation=u, use_bias=False)(x)\n",
    "x = Dense(d_out, use_bias=True)(x)\n",
    "kelm_mnet = Model(input=mnet.input, output=x)"
   ]
  },
  {
   "cell_type": "code",
   "execution_count": null,
   "metadata": {},
   "outputs": [],
   "source": [
    "l_hidden = kelm_mnet.layers[-2]\n",
    "l_hidden.set_weights([W.T])"
   ]
  },
  {
   "cell_type": "code",
   "execution_count": null,
   "metadata": {},
   "outputs": [],
   "source": [
    "l_output = kelm_mnet.layers[-1]\n",
    "l_output.set_weights([W_out, bias_out])"
   ]
  },
  {
   "cell_type": "markdown",
   "metadata": {},
   "source": [
    "## Running and checking (again)"
   ]
  },
  {
   "cell_type": "code",
   "execution_count": null,
   "metadata": {},
   "outputs": [],
   "source": [
    "Xt[3]"
   ]
  },
  {
   "cell_type": "code",
   "execution_count": null,
   "metadata": {},
   "outputs": [],
   "source": [
    "x_in = np.array(Xs[3])[None,:]/127.5 - 1\n",
    "yh_mnet = kelm_mnet.predict(x_in)"
   ]
  },
  {
   "cell_type": "code",
   "execution_count": null,
   "metadata": {},
   "outputs": [],
   "source": [
    "yh_elm = img_elm.predict(Fs[3].reshape(1, -1))"
   ]
  },
  {
   "cell_type": "code",
   "execution_count": null,
   "metadata": {},
   "outputs": [],
   "source": [
    "yh_mnet - yh_elm"
   ]
  },
  {
   "cell_type": "markdown",
   "metadata": {},
   "source": [
    "## Benchmarking local full model"
   ]
  },
  {
   "cell_type": "code",
   "execution_count": null,
   "metadata": {},
   "outputs": [],
   "source": [
    "x = np.random.rand(1,224,224,3)*2 - 1\n",
    "\n",
    "%time _ = kelm_mnet.predict(x)"
   ]
  },
  {
   "cell_type": "code",
   "execution_count": null,
   "metadata": {},
   "outputs": [],
   "source": [
    "times_local = []\n",
    "\n",
    "for i in range(1, 30):\n",
    "    x = np.random.rand(1,224,224,3)*2 - 1\n",
    "    t = %timeit -q -n1 -r1 -o [kelm_mnet.predict(x) for j in range(i)]\n",
    "    times_local.append(t.average * 1000)\n",
    "    print(\"{}: {:.0f} / \".format(i, t.average * 1000), end=\"\")"
   ]
  },
  {
   "cell_type": "code",
   "execution_count": null,
   "metadata": {},
   "outputs": [],
   "source": [
    "times_local_batch = times_local"
   ]
  },
  {
   "cell_type": "code",
   "execution_count": null,
   "metadata": {},
   "outputs": [],
   "source": []
  },
  {
   "cell_type": "code",
   "execution_count": null,
   "metadata": {},
   "outputs": [],
   "source": []
  },
  {
   "cell_type": "code",
   "execution_count": 2,
   "metadata": {},
   "outputs": [],
   "source": [
    "import pickle"
   ]
  },
  {
   "cell_type": "raw",
   "metadata": {},
   "source": [
    "with open(\"/Users/akusok/Documents/research-elm-twosystems/times_local_batch.pkl\", \"wb\") as fout:\n",
    "    pickle.dump(times_local_batch, fout)"
   ]
  },
  {
   "cell_type": "raw",
   "metadata": {},
   "source": [
    "with open(\"/Users/akusok/Documents/research-elm-twosystems/times_iphone.pkl\", \"wb\") as fout:\n",
    "    pickle.dump(times_iphone, fout)"
   ]
  },
  {
   "cell_type": "raw",
   "metadata": {},
   "source": [
    "with open(\"/Users/akusok/Documents/research-elm-twosystems/times_iphone_onclick.pkl\", \"wb\") as fout:\n",
    "    pickle.dump(toc2, fout)"
   ]
  },
  {
   "cell_type": "code",
   "execution_count": 3,
   "metadata": {},
   "outputs": [],
   "source": [
    "with open(\"/Users/akusok/Documents/research-elm-twosystems/times_local_batch.pkl\", \"rb\") as fout:\n",
    "    times_local_batch = pickle.load(fout)\n",
    "\n",
    "with open(\"/Users/akusok/Documents/research-elm-twosystems/times_iphone.pkl\", \"rb\") as fout:\n",
    "    times_iphone = pickle.load(fout)\n",
    "    \n",
    "with open(\"/Users/akusok/Documents/research-elm-twosystems/times_iphone_onclick.pkl\", \"rb\") as fout:\n",
    "    toc2 = pickle.load(fout)"
   ]
  },
  {
   "cell_type": "code",
   "execution_count": null,
   "metadata": {},
   "outputs": [],
   "source": []
  },
  {
   "cell_type": "code",
   "execution_count": 10,
   "metadata": {},
   "outputs": [],
   "source": [
    "from matplotlib import pyplot as plt\n",
    "%matplotlib inline\n",
    "import matplotlib\n",
    "%config InlineBackend.figure_format = 'retina'"
   ]
  },
  {
   "cell_type": "code",
   "execution_count": null,
   "metadata": {},
   "outputs": [],
   "source": [
    "ti3 = [66,\n",
    "115,\n",
    "156,\n",
    "163,\n",
    "226,\n",
    "168,\n",
    "134,\n",
    "154,\n",
    "174,\n",
    "174,\n",
    "179,\n",
    "190,\n",
    "240,\n",
    "331,\n",
    "318,\n",
    "357,\n",
    "358,\n",
    "384,\n",
    "394,\n",
    "384,\n",
    "418,\n",
    "417,\n",
    "441,\n",
    "454,\n",
    "458,\n",
    "477,\n",
    "482,\n",
    "502,\n",
    "504,\n",
    "524,\n",
    "509,\n",
    "539,\n",
    "544,\n",
    "558,\n",
    "586,\n",
    "580,\n",
    "610,\n",
    "603,\n",
    "618,\n",
    "642,\n",
    "629,\n",
    "668,\n",
    "657,\n",
    "677,\n",
    "652,\n",
    "702,\n",
    "711,\n",
    "715,\n",
    "737,\n",
    "747,\n",
    "760,\n",
    "771,\n",
    "798,\n",
    "801,\n",
    "810,\n",
    "801,\n",
    "782,\n",
    "849,\n",
    "866,\n",
    "869,\n",
    "878,\n",
    "890,\n",
    "893,\n",
    "925,\n",
    "930,\n",
    "929,\n",
    "936,\n",
    "872,\n",
    "932,\n",
    "972,\n",
    "958,\n",
    "1019,\n",
    "1056,\n",
    "1050,\n",
    "1065,\n",
    "1075,\n",
    "1098,\n",
    "1112,\n",
    "1106,\n",
    "1129,\n",
    "1138,\n",
    "1159,\n",
    "1027,\n",
    "1016,\n",
    "1029,\n",
    "1037]"
   ]
  },
  {
   "cell_type": "code",
   "execution_count": null,
   "metadata": {},
   "outputs": [],
   "source": [
    "toc = [\n",
    "    4,\n",
    "8,\n",
    "14,\n",
    "19,\n",
    "25,\n",
    "29,\n",
    "34,\n",
    "38,\n",
    "44,\n",
    "48,\n",
    "52,\n",
    "84,\n",
    "64,\n",
    "72,\n",
    "80,\n",
    "91,\n",
    "87,\n",
    "87,\n",
    "122,\n",
    "100,\n",
    "129,\n",
    "196,\n",
    "183,\n",
    "163,\n",
    "206,\n",
    "135,\n",
    "260,\n",
    "219,\n",
    "234,\n",
    "230,\n",
    "293,\n",
    "258,\n",
    "285,\n",
    "304,\n",
    "339,\n",
    "316,\n",
    "333,\n",
    "314,\n",
    "309,\n",
    "367,\n",
    "358,\n",
    "387,\n",
    "386,\n",
    "419,\n",
    "400,\n",
    "387,\n",
    "453,\n",
    "446,\n",
    "486,\n",
    "499,\n",
    "498,\n",
    "543,\n",
    "479,\n",
    "524,\n",
    "516,\n",
    "485,\n",
    "554,\n",
    "584,\n",
    "598,\n",
    "621,\n",
    "621,\n",
    "561,\n",
    "633,\n",
    "649,\n",
    "655,\n",
    "633,\n",
    "666,\n",
    "688,\n",
    "687,\n",
    "711,\n",
    "725,\n",
    "756,\n",
    "738,\n",
    "737,\n",
    "766,\n",
    "765,\n",
    "793,\n",
    "773,\n",
    "810,\n",
    "797,\n",
    "828,\n",
    "862,\n",
    "854,\n",
    "873,\n",
    "906,\n",
    "919,\n",
    "971,\n",
    "954,\n",
    "973,\n",
    "949,\n",
    "924,\n",
    "972,\n",
    "952,\n",
    "999,\n",
    "1015,\n",
    "979,\n",
    "1007,\n",
    "1085,\n",
    "1022,\n",
    "1106,\n",
    "1068,\n",
    "1065\n",
    "]"
   ]
  },
  {
   "cell_type": "code",
   "execution_count": null,
   "metadata": {},
   "outputs": [],
   "source": [
    "toc2 = [4,\n",
    "8,\n",
    "14,\n",
    "19,\n",
    "25,\n",
    "29,\n",
    "34,\n",
    "38,\n",
    "44,\n",
    "48,\n",
    "52,\n",
    "84,\n",
    "64,\n",
    "72,\n",
    "80,\n",
    "91,\n",
    "87,\n",
    "87,\n",
    "122,\n",
    "100,\n",
    "129,\n",
    "196,\n",
    "183,\n",
    "163,\n",
    "206,\n",
    "135,\n",
    "260,\n",
    "219,\n",
    "234,\n",
    "230,\n",
    "293,\n",
    "258,\n",
    "285,\n",
    "304,\n",
    "339,\n",
    "316,\n",
    "333,\n",
    "314,\n",
    "309,\n",
    "367,\n",
    "358,\n",
    "387,\n",
    "386,\n",
    "419,\n",
    "400,\n",
    "387,\n",
    "453,\n",
    "446,\n",
    "486,\n",
    "499,\n",
    "498,\n",
    "543,\n",
    "479,\n",
    "524,\n",
    "516,\n",
    "485,\n",
    "554,\n",
    "584,\n",
    "598,\n",
    "621,\n",
    "621,\n",
    "561,\n",
    "633,\n",
    "649,\n",
    "655,\n",
    "633,\n",
    "666,\n",
    "688,\n",
    "687,\n",
    "711,\n",
    "725,\n",
    "756,\n",
    "738,\n",
    "737,\n",
    "766,\n",
    "765,\n",
    "793,\n",
    "773,\n",
    "810,\n",
    "797,\n",
    "828,\n",
    "862,\n",
    "854,\n",
    "873,\n",
    "906,\n",
    "919,\n",
    "971,\n",
    "954,\n",
    "973,\n",
    "949,\n",
    "924,\n",
    "972,\n",
    "952,\n",
    "999,\n",
    "1015,\n",
    "979,\n",
    "1007,\n",
    "1085,\n",
    "1022,\n",
    "1106,\n",
    "1068,\n",
    "1065,\n",
    "1012,\n",
    "1097,\n",
    "1138,\n",
    "1142,\n",
    "1131,\n",
    "1163,\n",
    "1193,\n",
    "1089,\n",
    "1011,\n",
    "1223,\n",
    "1200,\n",
    "1253,\n",
    "1240,\n",
    "1237,\n",
    "1224,\n",
    "1271,\n",
    "1294,\n",
    "1309,\n",
    "1367,\n",
    "1295,\n",
    "1329,\n",
    "1358,\n",
    "1392]"
   ]
  },
  {
   "cell_type": "code",
   "execution_count": 160,
   "metadata": {},
   "outputs": [
    {
     "data": {
      "text/plain": [
       "54.0"
      ]
     },
     "execution_count": 160,
     "metadata": {},
     "output_type": "execute_result"
    },
    {
     "data": {
      "image/png": "[encoded data removed]",
      "text/plain": [
       "<Figure size 432x288 with 1 Axes>"
      ]
     },
     "metadata": {
      "image/png": {
       "height": 261,
       "width": 395
      },
      "needs_background": "light"
     },
     "output_type": "display_data"
    }
   ],
   "source": [
    "matplotlib.rcParams['figure.figsize'] = [6, 4]\n",
    "\n",
    "plt.plot(range(1, 100), times_local_batch, lw=2, label=\"laptop\")\n",
    "plt.plot(range(1, 101), times_iphone, lw=2, label=\"iPhone\")\n",
    "plt.xlabel(\"batch size, images\")\n",
    "plt.ylabel(\"runtime (ms)\")\n",
    "plt.grid(which=\"major\")\n",
    "plt.legend()\n",
    "\n",
    "p = 12*4.5\n",
    "plt.plot([1, 100], [1*p, 100*p], \":k\")\n",
    "p\n",
    "\n",
    "#plt.savefig(\"/Users/akusok/Documents/research-elm-twosystems/runtime.pdf\", bbox_inches=\"tight\")"
   ]
  },
  {
   "cell_type": "code",
   "execution_count": 134,
   "metadata": {},
   "outputs": [
    {
     "data": {
      "image/png": "[encoded data removed]",
      "text/plain": [
       "<Figure size 432x216 with 1 Axes>"
      ]
     },
     "metadata": {
      "image/png": {
       "height": 211,
       "width": 388
      },
      "needs_background": "light"
     },
     "output_type": "display_data"
    }
   ],
   "source": [
    "matplotlib.rcParams['figure.figsize'] = [6, 3]\n",
    "\n",
    "\n",
    "plt.plot(range(1, 100), times_local_batch, lw=2, label=\"laptop\")\n",
    "plt.plot(range(1, 101), times_iphone, lw=2, label=\"iPhone\")\n",
    "\n",
    "p=12\n",
    "plt.plot([1, 101], [p, 101*p], ':', c=\"gray\", lw=2, label=\"iPhone trend\")\n",
    "\n",
    "plt.xlabel(\"batch size, images\")\n",
    "plt.ylabel(\"runtime (ms)\")\n",
    "plt.grid(which=\"major\")\n",
    "plt.legend()\n",
    "\n",
    "plt.xlim([0, 55])\n",
    "plt.ylim([0, 700])\n",
    "\n",
    "\n",
    "plt.savefig(\"/Users/akusok/Documents/research-elm-twosystems/runtime_zoom.pdf\", bbox_inches=\"tight\")\n",
    "\n",
    "#plt.plot(range(10, 31), ti2, lw=2)\n",
    "#plt.plot(range(15, len(ti3)+15), ti3)\n",
    "\n",
    "#plt.plot(range(1, len(toc2)+1), toc2, \"-r\", lw=3)\n",
    "\n",
    "#plt.xlim([0, 25])\n",
    "#plt.ylim([0, 300])"
   ]
  },
  {
   "cell_type": "code",
   "execution_count": 76,
   "metadata": {},
   "outputs": [],
   "source": [
    "x = np.array(toc2[20:])\n",
    "y = np.arange(21, 126)\n"
   ]
  },
  {
   "cell_type": "code",
   "execution_count": 79,
   "metadata": {},
   "outputs": [],
   "source": [
    "from sklearn.linear_model import Ridge"
   ]
  },
  {
   "cell_type": "code",
   "execution_count": 86,
   "metadata": {},
   "outputs": [
    {
     "data": {
      "text/plain": [
       "array([11.60664932])"
      ]
     },
     "execution_count": 86,
     "metadata": {},
     "output_type": "execute_result"
    }
   ],
   "source": [
    "Ridge().fit(y[:,None], x).coef_"
   ]
  },
  {
   "cell_type": "code",
   "execution_count": null,
   "metadata": {},
   "outputs": [],
   "source": []
  },
  {
   "cell_type": "code",
   "execution_count": 135,
   "metadata": {},
   "outputs": [
    {
     "data": {
      "image/png": "[encoded data removed]",
      "text/plain": [
       "<Figure size 432x288 with 1 Axes>"
      ]
     },
     "metadata": {
      "image/png": {
       "height": 261,
       "width": 405
      },
      "needs_background": "light"
     },
     "output_type": "display_data"
    }
   ],
   "source": [
    "matplotlib.rcParams['figure.figsize'] = [6, 4]\n",
    "\n",
    "\n",
    "plt.plot(range(1, 100), times_local_batch, lw=2, label=\"laptop\")\n",
    "plt.plot(range(1, 101), times_iphone, lw=2, label=\"iPhone\")\n",
    "\n",
    "\n",
    "p=12\n",
    "plt.plot([1, 101], [p, 101*p], ':', c=\"gray\", lw=2, label=\"iPhone trend\")\n",
    "\n",
    "p=11.7\n",
    "plt.plot(range(1, 126), toc2, lw=2, label=\"iPhone + tap\")\n",
    "plt.plot([22, 126], [22*p-110, 126*p-110], ':', c=\"black\", lw=2, label=\"iPhone + tap trend\")\n",
    "\n",
    "#q = 5\n",
    "#plt.plot([1, 20], [4, 20*q], \"--k\", lw=1, label=\"iPhone boost\")\n",
    "\n",
    "\n",
    "plt.xlabel(\"batch size, images\")\n",
    "plt.ylabel(\"runtime (ms)\")\n",
    "plt.grid(which=\"major\")\n",
    "plt.legend()\n",
    "\n",
    "plt.xlim([0, 100])\n",
    "plt.ylim([0, 1500])\n",
    "\n",
    "\n",
    "plt.savefig(\"/Users/akusok/Documents/research-elm-twosystems/runtime_trend.pdf\", bbox_inches=\"tight\")\n",
    "\n",
    "#plt.plot(range(10, 31), ti2, lw=2)\n",
    "#plt.plot(range(15, len(ti3)+15), ti3)\n",
    "\n",
    "#plt.plot(range(1, len(toc2)+1), toc2, \"-r\", lw=3)\n",
    "\n",
    "#plt.xlim([0, 25])\n",
    "#plt.ylim([0, 300])"
   ]
  },
  {
   "cell_type": "code",
   "execution_count": 150,
   "metadata": {},
   "outputs": [
    {
     "data": {
      "image/png": "[encoded data removed]",
      "text/plain": [
       "<Figure size 432x288 with 1 Axes>"
      ]
     },
     "metadata": {
      "image/png": {
       "height": 265,
       "width": 395
      },
      "needs_background": "light"
     },
     "output_type": "display_data"
    }
   ],
   "source": [
    "matplotlib.rcParams['figure.figsize'] = [6, 4]\n",
    "\n",
    "\n",
    "plt.plot(range(1, 100), times_local_batch, lw=2, label=\"laptop\")\n",
    "plt.plot(range(1, 101), times_iphone, lw=2, label=\"iPhone\")\n",
    "plt.plot(range(1, 126), toc2, lw=2, label=\"iPhone + tap\")\n",
    "\n",
    "q = 5\n",
    "plt.plot([1, 20], [4, 20*q], \":\", c='k', lw=4, label=\"iPhone boost\")\n",
    "\n",
    "\n",
    "plt.xlabel(\"batch size, images\")\n",
    "plt.ylabel(\"runtime (ms)\")\n",
    "plt.grid(which=\"major\")\n",
    "plt.legend()\n",
    "\n",
    "plt.xlim([0, 40])\n",
    "plt.ylim([0, 300])\n",
    "\n",
    "\n",
    "plt.savefig(\"/Users/akusok/Documents/research-elm-twosystems/runtime_boost.pdf\", bbox_inches=\"tight\")\n",
    "\n",
    "#plt.plot(range(10, 31), ti2, lw=2)\n",
    "#plt.plot(range(15, len(ti3)+15), ti3)\n",
    "\n",
    "#plt.plot(range(1, len(toc2)+1), toc2, \"-r\", lw=3)\n",
    "\n",
    "#plt.xlim([0, 25])\n",
    "#plt.ylim([0, 300])"
   ]
  },
  {
   "cell_type": "code",
   "execution_count": null,
   "metadata": {},
   "outputs": [],
   "source": []
  },
  {
   "cell_type": "code",
   "execution_count": null,
   "metadata": {},
   "outputs": [],
   "source": []
  },
  {
   "cell_type": "code",
   "execution_count": null,
   "metadata": {},
   "outputs": [],
   "source": [
    "times_iphone = [\n",
    "4,\n",
    "7,\n",
    "11,\n",
    "15,\n",
    "24,\n",
    "29,\n",
    "39,\n",
    "84,\n",
    "107,\n",
    "112,\n",
    "136,\n",
    "151,\n",
    "158,\n",
    "171,\n",
    "180,\n",
    "148,\n",
    "97,\n",
    "116,\n",
    "134,\n",
    "148,\n",
    "157,\n",
    "164,\n",
    "163,\n",
    "183,\n",
    "305,\n",
    "311,\n",
    "311,\n",
    "337,\n",
    "344,\n",
    "353,\n",
    "375,\n",
    "388,\n",
    "386,\n",
    "410,\n",
    "407,\n",
    "416,\n",
    "420,\n",
    "452,\n",
    "468,\n",
    "472,\n",
    "493,\n",
    "496,\n",
    "511,\n",
    "517,\n",
    "529,\n",
    "538,\n",
    "576,\n",
    "544,\n",
    "581,\n",
    "607,\n",
    "600,\n",
    "630,\n",
    "628,\n",
    "636,\n",
    "664,\n",
    "662,\n",
    "682,\n",
    "660,\n",
    "691,\n",
    "709,\n",
    "673,\n",
    "737,\n",
    "751,\n",
    "772,\n",
    "796,\n",
    "776,\n",
    "789,\n",
    "807,\n",
    "823,\n",
    "836,\n",
    "861,\n",
    "820,\n",
    "865,\n",
    "875,\n",
    "892,\n",
    "897,\n",
    "913,\n",
    "948,\n",
    "941,\n",
    "932,\n",
    "963,\n",
    "972,\n",
    "972,\n",
    "995,\n",
    "1007,\n",
    "1020,\n",
    "1001,\n",
    "1050,\n",
    "1055,\n",
    "1061,\n",
    "1065,\n",
    "1101,\n",
    "1088,\n",
    "1070,\n",
    "1145,\n",
    "1145,\n",
    "1150,\n",
    "1161,\n",
    "1182,\n",
    "1183]"
   ]
  },
  {
   "cell_type": "markdown",
   "metadata": {},
   "source": [
    "Drop in time is unaffected by sleep delays, suggests some memory management"
   ]
  },
  {
   "cell_type": "markdown",
   "metadata": {},
   "source": [
    "Keras: about 50ms/sample, starting at 80\n",
    "\n",
    "iOS: about 10ms/sample, boosted to 5ms/sample at click, starting at 4\n",
    "\n",
    "- 5x speed\n",
    "- 10x boost speed\n",
    "- 20x first sample speed"
   ]
  },
  {
   "cell_type": "markdown",
   "metadata": {},
   "source": [
    "## Convert full model to iOS format"
   ]
  },
  {
   "cell_type": "code",
   "execution_count": null,
   "metadata": {},
   "outputs": [],
   "source": [
    "model = kelm_mnet"
   ]
  },
  {
   "cell_type": "code",
   "execution_count": null,
   "metadata": {},
   "outputs": [],
   "source": [
    "model.autho = \"Anton Akusok\""
   ]
  },
  {
   "cell_type": "code",
   "execution_count": null,
   "metadata": {},
   "outputs": [],
   "source": [
    "model.short_description = \"MobileNet + ELM for classification\""
   ]
  },
  {
   "cell_type": "raw",
   "metadata": {},
   "source": [
    "model.input_description['image'] = \"Image of an object, scaled to 224x224x3 and normalized as (X / 127.5) - 1\""
   ]
  },
  {
   "cell_type": "code",
   "execution_count": null,
   "metadata": {},
   "outputs": [],
   "source": [
    "ielm = coremltools.converters.keras.convert(\n",
    "    kelm_mnet,\n",
    "    input_names=\"image\",\n",
    "    image_input_names=\"image\",\n",
    "    image_scale = 1/127.5,\n",
    "    red_bias=-1,\n",
    "    green_bias=-1,\n",
    "    blue_bias=-1,\n",
    "    class_labels=class_names\n",
    ")"
   ]
  },
  {
   "cell_type": "code",
   "execution_count": null,
   "metadata": {},
   "outputs": [],
   "source": [
    "ielm"
   ]
  },
  {
   "cell_type": "code",
   "execution_count": null,
   "metadata": {},
   "outputs": [],
   "source": [
    "ielm.save(\"/Users/akusok/Documents/research-elm-twosystems/ielm.mlmodel\")"
   ]
  },
  {
   "cell_type": "code",
   "execution_count": null,
   "metadata": {},
   "outputs": [],
   "source": []
  }
 ],
 "metadata": {
  "kernelspec": {
   "display_name": "Python 3",
   "language": "python",
   "name": "python3"
  },
  "language_info": {
   "codemirror_mode": {
    "name": "ipython",
    "version": 3
   },
   "file_extension": ".py",
   "mimetype": "text/x-python",
   "name": "python",
   "nbconvert_exporter": "python",
   "pygments_lexer": "ipython3",
   "version": "3.7.3"
  }
 },
 "nbformat": 4,
 "nbformat_minor": 4
}
